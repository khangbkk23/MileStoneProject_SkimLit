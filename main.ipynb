{
 "cells": [
  {
   "cell_type": "markdown",
   "id": "d2eb41f9",
   "metadata": {},
   "source": [
    "# Milestone Project - SkimLit\n",
    "This is a project for the SkimLit application, which is designed to help users quickly skim through articles and extract key information. This will make reading medical abstracts easier.\n",
    "\n",
    "Now, we start by classifying the articles into different categories based on their content. The project uses TensorFlow for building and training the model. \n",
    "\n",
    "For example, we're going to classify articles into categories such as \"Background\", \"Methods\", \"Results\", and \"Conclusion\", etc. The model will be trained on a dataset of articles, and it will learn to predict the category of a new article based on its content."
   ]
  },
  {
   "cell_type": "markdown",
   "id": "56be34e5",
   "metadata": {},
   "source": [
    "## Import libraries and modules\n"
   ]
  },
  {
   "cell_type": "code",
   "execution_count": null,
   "id": "8f2e9c92",
   "metadata": {},
   "outputs": [],
   "source": [
    "import tensorflow as tf\n",
    "import numpy as np\n",
    "import pandas as pd\n",
    "import matplotlib.pyplot as plt \n",
    "\n",
    "import sklearn.preprocessing as prep"
   ]
  },
  {
   "cell_type": "markdown",
   "id": "95b88238",
   "metadata": {},
   "source": [
    "## Download dataset and load it into tensors\n",
    "In this model, we will use PubMed articles dataset, which contains a collection of biomedical literature.\n",
    "Then we will find the most wrong prediction."
   ]
  },
  {
   "cell_type": "markdown",
   "id": "4b225f03",
   "metadata": {},
   "source": [
    "### Input - output:\n",
    "**Input**: a paragraph relate on a topic or a subtitle that encoded into numerical tensor (tokenization and embedding)\n",
    "\n",
    "**Output**: predicted output (a tensor of probabilities of predictions) base on our model working. This answer the question: `\"What section should these sentences belong to?\"`"
   ]
  },
  {
   "cell_type": "code",
   "execution_count": null,
   "id": "f75becd2",
   "metadata": {},
   "outputs": [],
   "source": []
  }
 ],
 "metadata": {
  "kernelspec": {
   "display_name": "Python 3",
   "language": "python",
   "name": "python3"
  },
  "language_info": {
   "name": "python",
   "version": "3.10.13"
  }
 },
 "nbformat": 4,
 "nbformat_minor": 5
}
