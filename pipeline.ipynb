{
 "cells": [
  {
   "cell_type": "markdown",
   "id": "d2eb41f9",
   "metadata": {},
   "source": [
    "# Milestone Project - SkimLit\n",
    "This is a project for the SkimLit application, which is designed to help users quickly skim through articles and extract key information. This will make reading medical abstracts easier.\n",
    "\n",
    "Now, we start by classifying the articles into different categories based on their content. The project uses TensorFlow for building and training the model. \n",
    "\n",
    "For example, we're going to classify articles into categories such as \"Background\", \"Methods\", \"Results\", and \"Conclusion\", etc. The model will be trained on a dataset of articles, and it will learn to predict the category of a new article based on its content."
   ]
  },
  {
   "cell_type": "markdown",
   "id": "56be34e5",
   "metadata": {},
   "source": [
    "## Import libraries and modules\n"
   ]
  },
  {
   "cell_type": "code",
   "execution_count": 10,
   "id": "8f2e9c92",
   "metadata": {},
   "outputs": [],
   "source": [
    "import tensorflow as tf\n",
    "import numpy as np\n",
    "import pandas as pd\n",
    "import matplotlib.pyplot as plt \n",
    "\n",
    "from sklearn.preprocessing import OneHotEncoder, LabelEncoder\n",
    "import os # For checking filenames"
   ]
  },
  {
   "cell_type": "markdown",
   "id": "95b88238",
   "metadata": {},
   "source": [
    "## Download dataset and load it into tensors\n",
    "In this model, we will use PubMed articles dataset, which contains a collection of biomedical literature.\n",
    "Then we will find the most wrong prediction."
   ]
  },
  {
   "cell_type": "markdown",
   "id": "4b225f03",
   "metadata": {},
   "source": [
    "### Input - output:\n",
    "**Input**: a paragraph relate on a topic or a subtitle that encoded into numerical tensor (tokenization and embedding)\n",
    "\n",
    "**Output**: predicted output (a tensor of probabilities of predictions) base on our model working. This answer the question: `\"What section should these sentences belong to?\"`"
   ]
  },
  {
   "cell_type": "code",
   "execution_count": 11,
   "id": "f75becd2",
   "metadata": {},
   "outputs": [],
   "source": [
    "#!cd datasets & git clone https://github.com/Franck-Dernoncourt/pubmed-rct.git \n",
    "! cd datasets & ls pubmed-rct"
   ]
  },
  {
   "cell_type": "code",
   "execution_count": 12,
   "id": "f78a54a3",
   "metadata": {},
   "outputs": [
    {
     "name": "stdout",
     "output_type": "stream",
     "text": [
      "dev.txt  test.txt  train.txt\n",
      "dev.txt  test.txt  train.txt\n"
     ]
    }
   ],
   "source": [
    "! ls datasets/pubmed-rct/PubMed_20k_RCT_numbers_replaced_with_at_sign/\n",
    "! ls datasets/pubmed-rct/PubMed_20k_RCT/"
   ]
  },
  {
   "cell_type": "code",
   "execution_count": 13,
   "id": "5669b977",
   "metadata": {},
   "outputs": [
    {
     "data": {
      "text/plain": [
       "['datasets/pubmed-rct/PubMed_20k_RCT_numbers_replaced_with_at_sign/test.txt',\n",
       " 'datasets/pubmed-rct/PubMed_20k_RCT_numbers_replaced_with_at_sign/dev.txt',\n",
       " 'datasets/pubmed-rct/PubMed_20k_RCT_numbers_replaced_with_at_sign/train.txt']"
      ]
     },
     "execution_count": 13,
     "metadata": {},
     "output_type": "execute_result"
    }
   ],
   "source": [
    "# Using \"20k datasets\" with numbers replaced by \"@\" sign\n",
    "data_dir = \"datasets/pubmed-rct/PubMed_20k_RCT_numbers_replaced_with_at_sign/\"\n",
    "filenames = [data_dir + filename for filename in os.listdir(data_dir)]\n",
    "filenames"
   ]
  },
  {
   "cell_type": "markdown",
   "id": "d7abb54b",
   "metadata": {},
   "source": [
    "## Preprocessing data\n",
    "It's time to become one with it.\n",
    "The best way is visualizating them!"
   ]
  },
  {
   "cell_type": "code",
   "execution_count": 14,
   "id": "f027d184",
   "metadata": {},
   "outputs": [],
   "source": [
    "# Function for read all content in lines of a document\n",
    "def get_lines(filename):\n",
    "    \"\"\"\n",
    "    read filename and returns the lines of text as a list.\n",
    "\n",
    "    Args:\n",
    "        filename (str): containing the target filepath\n",
    "    \"\"\"\n",
    "    with open(filename, \"r\") as f:\n",
    "        return f.readlines()"
   ]
  },
  {
   "cell_type": "code",
   "execution_count": 15,
   "id": "5d462a53",
   "metadata": {},
   "outputs": [
    {
     "data": {
      "text/plain": [
       "['###24293578\\n',\n",
       " 'OBJECTIVE\\tTo investigate the efficacy of @ weeks of daily low-dose oral prednisolone in improving pain , mobility , and systemic low-grade inflammation in the short term and whether the effect would be sustained at @ weeks in older adults with moderate to severe knee osteoarthritis ( OA ) .\\n',\n",
       " 'METHODS\\tA total of @ patients with primary knee OA were randomized @:@ ; @ received @ mg/day of prednisolone and @ received placebo for @ weeks .\\n',\n",
       " 'METHODS\\tOutcome measures included pain reduction and improvement in function scores and systemic inflammation markers .\\n',\n",
       " 'METHODS\\tPain was assessed using the visual analog pain scale ( @-@ mm ) .\\n',\n",
       " 'METHODS\\tSecondary outcome measures included the Western Ontario and McMaster Universities Osteoarthritis Index scores , patient global assessment ( PGA ) of the severity of knee OA , and @-min walk distance ( @MWD ) .\\n',\n",
       " 'METHODS\\tSerum levels of interleukin @ ( IL-@ ) , IL-@ , tumor necrosis factor ( TNF ) - , and high-sensitivity C-reactive protein ( hsCRP ) were measured .\\n',\n",
       " 'RESULTS\\tThere was a clinically relevant reduction in the intervention group compared to the placebo group for knee pain , physical function , PGA , and @MWD at @ weeks .\\n',\n",
       " 'RESULTS\\tThe mean difference between treatment arms ( @ % CI ) was @ ( @-@ @ ) , p < @ ; @ ( @-@ @ ) , p < @ ; @ ( @-@ @ ) , p < @ ; and @ ( @-@ @ ) , p < @ , respectively .\\n',\n",
       " 'RESULTS\\tFurther , there was a clinically relevant reduction in the serum levels of IL-@ , IL-@ , TNF - , and hsCRP at @ weeks in the intervention group when compared to the placebo group .\\n',\n",
       " 'RESULTS\\tThese differences remained significant at @ weeks .\\n',\n",
       " 'RESULTS\\tThe Outcome Measures in Rheumatology Clinical Trials-Osteoarthritis Research Society International responder rate was @ % in the intervention group and @ % in the placebo group ( p < @ ) .\\n',\n",
       " 'CONCLUSIONS\\tLow-dose oral prednisolone had both a short-term and a longer sustained effect resulting in less knee pain , better physical function , and attenuation of systemic inflammation in older patients with knee OA ( ClinicalTrials.gov identifier NCT@ ) .\\n',\n",
       " '\\n',\n",
       " '###24854809\\n',\n",
       " 'BACKGROUND\\tEmotional eating is associated with overeating and the development of obesity .\\n',\n",
       " 'BACKGROUND\\tYet , empirical evidence for individual ( trait ) differences in emotional eating and cognitive mechanisms that contribute to eating during sad mood remain equivocal .\\n',\n",
       " 'OBJECTIVE\\tThe aim of this study was to test if attention bias for food moderates the effect of self-reported emotional eating during sad mood ( vs neutral mood ) on actual food intake .\\n',\n",
       " 'OBJECTIVE\\tIt was expected that emotional eating is predictive of elevated attention for food and higher food intake after an experimentally induced sad mood and that attentional maintenance on food predicts food intake during a sad versus a neutral mood .\\n',\n",
       " 'METHODS\\tParticipants ( N = @ ) were randomly assigned to one of the two experimental mood induction conditions ( sad/neutral ) .\\n',\n",
       " 'METHODS\\tAttentional biases for high caloric foods were measured by eye tracking during a visual probe task with pictorial food and neutral stimuli .\\n',\n",
       " 'METHODS\\tSelf-reported emotional eating was assessed with the Dutch Eating Behavior Questionnaire ( DEBQ ) and ad libitum food intake was tested by a disguised food offer .\\n',\n",
       " 'RESULTS\\tHierarchical multivariate regression modeling showed that self-reported emotional eating did not account for changes in attention allocation for food or food intake in either condition .\\n',\n",
       " 'RESULTS\\tYet , attention maintenance on food cues was significantly related to increased intake specifically in the neutral condition , but not in the sad mood condition .\\n',\n",
       " 'CONCLUSIONS\\tThe current findings show that self-reported emotional eating ( based on the DEBQ ) might not validly predict who overeats when sad , at least not in a laboratory setting with healthy women .\\n',\n",
       " 'CONCLUSIONS\\tResults further suggest that attention maintenance on food relates to eating motivation when in a neutral affective state , and might therefore be a cognitive mechanism contributing to increased food intake in general , but maybe not during sad mood .\\n',\n",
       " '\\n',\n",
       " '###25165090\\n',\n",
       " 'BACKGROUND\\tAlthough working smoke alarms halve deaths in residential fires , many households do not keep alarms operational .\\n',\n",
       " 'BACKGROUND\\tWe tested whether theory-based education increases alarm operability .\\n',\n",
       " 'METHODS\\tRandomised multiarm trial , with a single arm randomly selected for use each day , in low-income neighbourhoods in Maryland , USA .\\n',\n",
       " \"METHODS\\tIntervention arms : ( @ ) Full Education combining a health belief module with a social-cognitive theory module that provided hands-on practice installing alarm batteries and using the alarm 's hush button ; ( @ ) Hands-on Practice social-cognitive module supplemented by typical fire department education ; ( @ ) Current Norm receiving typical fire department education only .\\n\",\n",
       " 'METHODS\\tFour hundred and thirty-six homes recruited through churches or by knocking on doors in @-@ .\\n',\n",
       " 'METHODS\\tFollow-up visits checked alarm operability in @ homes ( @ % ) @-@ @ years after installation .\\n',\n",
       " 'METHODS\\tnumber of homes with working alarms defined as alarms with working batteries or hard-wired and number of working alarms per home .\\n',\n",
       " 'METHODS\\tRegressions controlled for alarm status preintervention ; demographics and beliefs about fire risks and alarm effectiveness .\\n',\n",
       " 'RESULTS\\tHomes in the Full Education and Practice arms were more likely to have a functioning smoke alarm at follow-up ( OR = @ , @ % CI @ to @ ) and had an average of @ more working alarms per home ( @ % CI @ to @ ) .\\n',\n",
       " 'RESULTS\\tWorking alarms per home rose @ % .\\n',\n",
       " 'RESULTS\\tFull Education and Practice had similar effectiveness ( p = @ on both outcome measures ) .\\n',\n",
       " 'CONCLUSIONS\\tWithout exceeding typical fire department installation time , installers can achieve greater smoke alarm operability .\\n',\n",
       " 'CONCLUSIONS\\tHands-on practice is key .\\n',\n",
       " 'CONCLUSIONS\\tTwo years after installation , for every three homes that received hands-on practice , one had an additional working alarm .\\n',\n",
       " 'BACKGROUND\\thttp://www.clinicaltrials.gov number NCT@ .\\n',\n",
       " '\\n',\n",
       " '###24633056\\n',\n",
       " 'OBJECTIVE\\tTo evaluate the performance ( efficacy , safety and acceptability ) of a new micro-adherent absorbent dressing ( UrgoClean ) compared with a hydrofiber dressing ( Aquacel ) in the local management of venous leg ulcers , in the debridement stage .\\n',\n",
       " 'METHODS\\tA non-inferiority European randomised controlled clinical trial ( RCT ) was conducted in @ centres , on patients presenting with venous or predominantly venous , mixed aetiology leg ulcers at their sloughy stage ( with more than @ % of the wound bed covered with slough at baseline ) .\\n',\n",
       " 'METHODS\\tPatients were followed over a @-week period and assessed weekly .\\n',\n",
       " 'METHODS\\tThe primary judgement criteria was the relative regression of the wound surface area after the @-week treatment period .\\n',\n",
       " 'METHODS\\tSecondary endpoints were the relative reduction of sloughy tissue and the percentage of patients presenting with a debrided wound .\\n',\n",
       " 'RESULTS\\tAltogether , @ patients were randomised to either UrgoClean ( test group ; n = @ ) or Aquacel ( control group ; n = @ ) dressings .\\n',\n",
       " 'RESULTS\\tRegarding the wound healing process predictive factors ( wound area , duration , ABPI value , recurrence ) , at baseline , the two groups were well balanced , for both wound and patient characteristics .\\n',\n",
       " 'RESULTS\\tCompression therapy was administered to both groups and after a median @-day treatment period , the percentage of relative reduction of the wound surface area was very similar ( -@ % vs -@ % in the UrgoClean and control groups , respectively ) .\\n',\n",
       " 'RESULTS\\tWhen considering the secondary criteria at week @ , the relative reduction of sloughy tissue was significantly higher in the UrgoClean group than in the control group ( -@ % vs -@,@ % ; p = @ ) .\\n',\n",
       " 'RESULTS\\tThe percentage of debrided wounds was also significantly higher in the test group ( @ % vs @ % ; p = @ ) .\\n',\n",
       " \"CONCLUSIONS\\tThis ` EARTH ' RCT confirmed that the UrgoClean dressing has similar efficacy and safety compared to Aquacel .\\n\",\n",
       " 'CONCLUSIONS\\tHowever , UrgoClean also showed better autolytic properties than the control group in the management of venous leg ulcers at the sloughy stage .\\n',\n",
       " 'CONCLUSIONS\\tThe new UrgoClean dressing therefore represents a promising therapeutic option within the current range of autolytic dressings available .\\n',\n",
       " 'BACKGROUND\\tThis study was sponsored by a grant from the pharmaceutical company Laboratoires Urgo .\\n',\n",
       " 'BACKGROUND\\tS. Bohbot and O. Tacca are employees of Laboratoires Urgo .\\n',\n",
       " 'BACKGROUND\\tS. Meaume , J. Dissemond and G. Perceau have received monetary compensation as presenters for Laboratoires Urgo .\\n',\n",
       " 'BACKGROUND\\tData management and statistical analyses were conducted independently by Vertical ( Paris , France ) .\\n',\n",
       " '\\n',\n",
       " '###24814304\\n',\n",
       " 'OBJECTIVE\\tEye movements ( EM ) during recall of an aversive memory is a treatment element unique to Eye Movement Desensitization and Reprocessing ( EMDR ) .\\n',\n",
       " 'OBJECTIVE\\tExperimental studies have shown that EM reduce memory vividness and/or emotionality shortly after the intervention .\\n',\n",
       " 'OBJECTIVE\\tHowever , it is unclear whether the immediate effects of the intervention reflect actual changes in memory .\\n',\n",
       " 'OBJECTIVE\\tThe aim of this study was to test whether immediate reductions in memory vividness and emotionality persist at a @h follow up and whether the magnitude of these effects is related to the duration of the intervention .\\n',\n",
       " \"METHODS\\tSeventy-three undergraduates recalled two negative autobiographical memories , one with EM ( `` recall with EM '' ) and one without ( `` recall only '' ) .\\n\",\n",
       " 'METHODS\\tHalf of participants recalled each memory for four periods of @s , the other half for eight periods of @s .\\n',\n",
       " 'METHODS\\tMemory vividness/emotionality were self-rated at a pre-test , an immediate post-test , and a @h follow-up test .\\n',\n",
       " 'RESULTS\\tIn both duration groups , recall with EM , but not recall only , caused an immediate decrease in memory vividness .\\n',\n",
       " 'RESULTS\\tThere were no immediate reductions in memory emotionality .\\n',\n",
       " \"RESULTS\\tFurthermore , only the ` eight periods ' group showed that recall with EM , but not recall only , caused a decrease in both memory emotionality and memory vividness from the pre-test to the follow-up .\\n\",\n",
       " 'CONCLUSIONS\\tOnly self-report measures were used .\\n',\n",
       " 'CONCLUSIONS\\tThe findings suggest that recall with EM causes @-hchanges in memory vividness/emotionality , which may explain part of the EMDR treatment effect , and these effects are related to intervention duration .\\n',\n",
       " '\\n',\n",
       " '###25825539\\n',\n",
       " 'OBJECTIVE\\tFew studies have tested the impact of motivational interviewing ( MI ) delivered by primary care providers on pediatric obesity .\\n',\n",
       " 'OBJECTIVE\\tThis study tested the efficacy of MI delivered by providers and registered dietitians ( RDs ) to parents of overweight children aged @ through @ .\\n',\n",
       " 'METHODS\\tForty-two practices from the Pediatric Research in Office Settings Network of the American Academy of Pediatrics were randomly assigned to @ of @ groups .\\n',\n",
       " 'METHODS\\tGroup @ ( usual care ) measured BMI percentile at baseline and @ - and @-year follow-up .\\n',\n",
       " 'METHODS\\tGroup @ ( provider only ) delivered @ MI counseling sessions to parents of the index child over @ years .\\n',\n",
       " 'METHODS\\tGroup @ ( provider + RD ) delivered @ provider MI sessions plus @ MI sessions from a RD. .\\n',\n",
       " 'METHODS\\tThe primary outcome was child BMI percentile at @-year follow up .\\n',\n",
       " 'RESULTS\\tAt @-year follow-up , the adjusted BMI percentile was @ , @ , and @ for groups @ , @ , and @ , respectively .\\n',\n",
       " 'RESULTS\\tThe group @ mean was significantly ( P = @ ) lower than group @ .\\n',\n",
       " 'RESULTS\\tMean changes from baseline in BMI percentile were @ , @ , and @ across groups @ , @ , and @ .\\n',\n",
       " 'CONCLUSIONS\\tMI delivered by providers and RDs ( group @ ) resulted in statistically significant reductions in BMI percentile .\\n',\n",
       " 'CONCLUSIONS\\tResearch is needed to determine the clinical significance and persistence of the BMI effects observed .\\n',\n",
       " 'CONCLUSIONS\\tHow the intervention can be brought to scale ( in particular , how to train physicians to use MI effectively and how best to train RDs and integrate them into primary care settings ) also merits future research .\\n',\n",
       " '\\n',\n",
       " '###24507941\\n',\n",
       " 'BACKGROUND\\tAntithrombin ( AT ) concentrations are reduced after cardiac surgery with cardiopulmonary bypass compared with the preoperative levels .\\n',\n",
       " 'BACKGROUND\\tLow postoperative AT is associated with worse short - and mid-term clinical outcomes .\\n',\n",
       " 'BACKGROUND\\tThe aim of the study is to evaluate the effects of AT administration on activation of the coagulation and fibrinolytic systems , platelet function , and the inflammatory response in patients with low postoperative AT levels .\\n',\n",
       " 'METHODS\\tSixty patients with postoperative AT levels of less than @ % were randomly assigned to receive purified AT ( @ IU in three administrations ) or placebo in the postoperative intensive care unit .\\n',\n",
       " 'METHODS\\tThirty patients with postoperative AT levels greater than @ % were observed as controls .\\n',\n",
       " 'METHODS\\tInterleukin @ ( a marker of inflammation ) , prothrombin fragment @-@ ( a marker of thrombin generation ) , plasmin-antiplasmin complex ( a marker of fibrinolysis ) , and platelet factor @ ( a marker of platelet activation ) were measured at six different times .\\n',\n",
       " 'RESULTS\\tCompared with the no AT group and control patients , patients receiving AT showed significantly higher AT values until @ hours after the last administration .\\n',\n",
       " 'RESULTS\\tAnalysis of variance for repeated measures showed a significant effect of study treatment in reducing prothrombin fragment @-@ ( p = @ ; interaction with time sample , p = @ ) and plasmin-antiplasmin complex ( p < @ ; interaction with time sample , p < @ ) values but not interleukin @ ( p = @ ; interaction with time sample , p = @ ) and platelet factor @ ( p = @ ; interaction with time sample , p = @ ) .\\n',\n",
       " 'RESULTS\\tNo difference in chest tube drainage , reopening for bleeding , and blood transfusion was observed .\\n',\n",
       " 'CONCLUSIONS\\tAntithrombin administration in patients with low AT activity after surgery with cardiopulmonary bypass reduces postoperative thrombin generation and fibrinolysis with no effects on platelet activation and inflammatory response .\\n',\n",
       " '\\n',\n",
       " '###24976083\\n',\n",
       " 'OBJECTIVE\\tWe evaluated patients at tertiary -LSB- both percutaneous coronary intervention ( PCI ) and coronary artery bypass grafting ( CABG ) capable -RSB- and primary hospitals in the EARLY-ACS trial .\\n',\n",
       " 'BACKGROUND\\tEarly invasive management is recommended for high-risk non-ST-segment elevation acute coronary syndromes .\\n',\n",
       " \"METHODS\\tWe evaluated outcomes in @,@ patients presenting to : tertiary sites , primary sites with transfer to tertiary sites ( `` transferred '' ) and those who remained at primary sites ( `` non-transfer '' ) .\\n\",\n",
       " 'RESULTS\\tThere were @ tertiary ( n = @,@ patients ) and @ primary hospitals -LSB- n = @,@ patients ( @ transferred ; @,@ non-transfer ) -RSB- .\\n',\n",
       " 'RESULTS\\tSignificant delays occurred in time from symptom onset to angiography ( @ hr ) , PCI ( @h ) , and CABG ( @ hr ) for transferred patients ( P < @ ) .\\n',\n",
       " 'RESULTS\\tNon-transfer patients had less @-day death/myocardial infarction -LSB- @ % vs. @ % ( tertiary ) ; adjusted odds ratio ( OR ) : @ ( @-@ @ ) , P = @ -RSB- ; transferred ( @ % ) and tertiary patients were similar -LSB- adjusted OR : @ ( @-@ @ ) , P = @ -RSB- .\\n',\n",
       " 'RESULTS\\tNon-transfer patients had lower @-year mortality -LSB- @ % vs. @ % ( tertiary ) ; adjusted hazard ratio ( HR ) : @ ( @-@ @ ) , P = @ -RSB- : there was no difference between transferred and tertiary patients -LSB- @ % vs. @ % ; adjusted HR : @ ( @-@ @ ) , P = @ -RSB- .\\n',\n",
       " 'RESULTS\\tDespite similar rates of catheterization , GUSTO severe/moderate bleeding within @ hr was less in non-transfer -LSB- @ % vs. @ % ( tertiary ) ; adjusted OR : @ ( @-@ @ ) , P < @ -RSB- , whereas transferred ( @ % ) and tertiary patients were similar -LSB- adjusted OR : @ ( @-@ @ ) , P = @ -RSB- .\\n',\n",
       " 'RESULTS\\tThere was no difference in non-CABG bleeding .\\n',\n",
       " 'CONCLUSIONS\\tTimely angiography and revascularization were often not achieved in transferred patients .\\n',\n",
       " 'CONCLUSIONS\\tNon-transferred patients presenting to primary sites had the lowest event rates and the best long-term survival .\\n',\n",
       " '\\n',\n",
       " '###25001475\\n',\n",
       " 'OBJECTIVE\\tWe hypothesized that a targeted temperature of @ C as compared to that of @ C would increase survival and reduce the severity of circulatory shock in patients with shock on admission after out-of-hospital cardiac arrest ( OHCA ) .\\n',\n",
       " 'METHODS\\tThe recently published Target Temperature Management trial ( TTM-trial ) randomized @ OHCA patients with no difference in outcome between groups and no difference in mortality at the end of the trial in a predefined subgroup of patients with shock at admission .\\n',\n",
       " 'METHODS\\tShock was defined as a systolic blood pressure of < @ mm Hg for > @ min or the need of supportive measures to maintain a blood pressure @ mmHg and/or clinical signs of end-organ hypoperfusion .\\n',\n",
       " 'METHODS\\tIn this post hoc analysis reported here , we further analyzed the @ patients with shock at admission ; all had been randomized to receive intervention at @ C ( TTM@ ; n = @ ) or @ C ( TTM@ ; n = @ ) .\\n',\n",
       " 'METHODS\\tPrimary outcome was @-day mortality .\\n',\n",
       " 'METHODS\\tSecondary outcomes were intensive care unit ( ICU ) and @-day mortality , severity of circulatory shock assessed by mean arterial pressure , serum lactate , fluid balance and the extended Sequential Organ Failure assessment ( SOFA ) score .\\n',\n",
       " 'RESULTS\\tThere was no significance difference between targeted temperature management at @ C or @ C on @-day mortality -LSB- log-rank test , p = @ , hazard ratio @ , @ % confidence interval ( CI ) @-@ @ -RSB- or ICU mortality ( @ vs. @ % , p = @ ; relative risk @ , @ % CI @-@ @ ) .\\n',\n",
       " 'RESULTS\\tSerum lactate and the extended cardiovascular SOFA score were higher in the TTM@ group ( p < @ ) .\\n',\n",
       " 'CONCLUSIONS\\tWe found no benefit in survival or severity of circulatory shock with targeted temperature management at @ C as compared to @ C in patients with shock on admission after OHCA .\\n',\n",
       " '\\n',\n",
       " '###25406902\\n',\n",
       " 'BACKGROUND\\tYouths with a family history of alcohol and other drug use disorders ( FH + ) are at a greater risk of developing substance use disorders than their peers with no such family histories ( FH - ) , and this increased risk may be related to impaired maturation of forebrain circuitry .\\n',\n",
       " 'BACKGROUND\\tFH + individuals have shown altered forebrain activity at rest and while performing cognitive tasks .\\n',\n",
       " 'BACKGROUND\\tHowever , it is not fully understood how forebrain activity is altered in FH + individuals , and ultimately how these alterations may contribute to substance use disorder risk .\\n',\n",
       " 'METHODS\\tIn this study , we tested @ FH + and @ FH - youths performing a go/no-go task and examined activations in blocks with only go trials ( Go Only ) , blocks with @ % go and @ % no-go trials ( Go/NoGo ) , and a contrast of those @ blocks .\\n',\n",
       " 'RESULTS\\tFH + youths had significantly greater cerebral activations in both the Go and Go/NoGo blocks than FH - youths in regions including the posterior cingulate/precuneus , bilateral middle/superior temporal gyrus , and medial superior frontal gyrus with no significant group differences in the subtraction between Go Only and Go/NoGo blocks .\\n',\n",
       " 'RESULTS\\tAdditionally , FH + youths had moderately slower reaction times on go trials in the Go Only blocks .\\n',\n",
       " 'CONCLUSIONS\\tOur findings suggest that global activation increase in FH + youths are modulated by FH density and are not specific to the inhibitory components of the task .\\n',\n",
       " 'CONCLUSIONS\\tThis pattern of increased activations in FH + youths may be at least partially due to impaired forebrain white matter development leading to greater activations/less efficient neural communication during task performance .\\n',\n",
       " '\\n',\n",
       " '###25471989\\n',\n",
       " 'BACKGROUND\\tRisk factors have been proposed for running injuries including ( a ) reduced muscular strength , ( b ) excessive joint movements and ( c ) excessive joint moments in the frontal and transverse planes .\\n',\n",
       " \"BACKGROUND\\tTo date , many running injury prevention programs have focused on a `` top down '' approach to strengthen the hip musculature in the attempt to reduce movements and moments at the hip , knee , and/or ankle joints .\\n\",\n",
       " 'BACKGROUND\\tHowever , running mechanics did not change when hip muscle strength increased .\\n',\n",
       " \"BACKGROUND\\tIt could be speculated that emphasis should be placed on increasing the strength of the ankle joint for a `` ground up '' approach .\\n\",\n",
       " 'BACKGROUND\\tStrengthening of the large and small muscles crossing the ankle joint is assumed to change the force distribution for these muscles and to increase the use of smaller muscles .\\n',\n",
       " 'BACKGROUND\\tThis would be associated with a reduction of joint and insertion forces , which could have a beneficial effect on injury prevention .\\n',\n",
       " 'BACKGROUND\\tHowever , training of the ankle joint as an injury prevention strategy has not been studied .\\n',\n",
       " 'BACKGROUND\\tAnkle strengthening techniques include isolated strengthening or movement-related strengthening such as functional balance training .\\n',\n",
       " 'BACKGROUND\\tThere is little knowledge about the efficacy of such training programs on strength alteration , gait or injury reduction .\\n',\n",
       " 'METHODS\\tNovice runners will be randomly assigned to one of three groups : an isolated ankle strengthening group ( strength , n = @ ) , a functional balance training group ( balance , n = @ ) or an activity-matched control group ( control , n = @ ) .\\n',\n",
       " 'METHODS\\tIsokinetic strength will be measured using a Biodex System @ dynamometer .\\n',\n",
       " 'METHODS\\tRunning kinematics and kinetics will be assessed using @D motion analysis and a force platform .\\n',\n",
       " 'METHODS\\tPostural control will be assessed by quantifying the magnitude and temporal structure of the center of pressure trace during single leg stance on a force platform .\\n',\n",
       " 'METHODS\\tThe change pre - and post-training in isokinetic strength , running mechanics , and postural control variables will be compared following the interventions .\\n',\n",
       " 'METHODS\\tInjuries rates will be compared between groups over @months .\\n',\n",
       " 'CONCLUSIONS\\tAvoiding injury will allow individuals to enjoy the benefits of participating in aerobic activities and reduce the healthcare costs associated with running injuries .\\n',\n",
       " 'BACKGROUND\\tCurrent Controlled Trial NCT@ .\\n',\n",
       " '\\n',\n",
       " '###24694205\\n',\n",
       " 'BACKGROUND\\tVitamin B@ deficiency causes neurologic and psychiatric disease , especially in older adults .\\n',\n",
       " 'BACKGROUND\\tSubacute combined degeneration is characterized by damage to the posterior and lateral spinal cord affecting the corticospinal tract .\\n',\n",
       " 'OBJECTIVE\\tTo test corticospinal tract projections using motor evoked potentials ( MEPs ) by transcranial magnetic stimulation ( TMS ) in asymptomatic older adults with low vitamin B@ ( B@ ) levels .\\n',\n",
       " 'METHODS\\tCross-sectional study of @ healthy older adults ( > @ years ) .\\n',\n",
       " 'METHODS\\tMEPs were recorded in the abductor pollicis brevis and tibialis anterior muscles , at rest and during slight tonic contraction .\\n',\n",
       " 'METHODS\\tCentral motor conduction time ( CMCT ) was derived from the latency of MEPs and peripheral motor conduction time ( PMCT ) .\\n',\n",
       " 'METHODS\\tNeurophysiological variables were analyzed statistically according to B@ status .\\n',\n",
       " 'RESULTS\\tMedian age was @ years ( @ % women ) .\\n',\n",
       " 'RESULTS\\tTwenty-six out of the @ subjects had low vitamin B@ levels ( B@ < @pmol/l ) .\\n',\n",
       " 'RESULTS\\tMEPs were recorded for all subjects in upper and lower extremities .\\n',\n",
       " 'RESULTS\\tThere were no significant differences in either latency or amplitude of MEPs and CMCT between low and normal B@ groups .\\n',\n",
       " 'RESULTS\\tThere was a significant PMCT delay in the lower extremities in the low B@ group ( p = @ ) .\\n',\n",
       " 'CONCLUSIONS\\tNo subclinical abnormality of the corticospinal tract is detected in asymptomatic B@-deficient older adults .\\n',\n",
       " 'CONCLUSIONS\\tThe peripheral nervous system appears to be more vulnerable to damage attributable to this vitamin deficit .\\n',\n",
       " 'CONCLUSIONS\\tThe neurophysiological evaluation of asymptomatic older adults with lower B@ levels should be focused mainly in peripheral nervous system evaluation .\\n',\n",
       " '\\n',\n",
       " '###24576512\\n',\n",
       " 'BACKGROUND\\tUncontrolled hypertension ( HTN ) is a significant public health problem among blacks in the United States .\\n',\n",
       " 'BACKGROUND\\tDespite the proven efficacy of therapeutic lifestyle change ( TLC ) on blood pressure ( BP ) reduction in clinical trials , few studies have examined their effectiveness in church-based settings-an influential institution for health promotion in black communities .\\n',\n",
       " 'METHODS\\tUsing a cluster-randomized , @-arm trial design , this study evaluates the effectiveness of a faith-based TLC intervention vs health education ( HE ) control on BP reduction among hypertensive black adults .\\n',\n",
       " 'METHODS\\tThe intervention is delivered by trained lay health advisors through group TLC sessions plus motivational interviewing in @ black churches .\\n',\n",
       " 'METHODS\\tParticipants in the intervention group receive @ weekly TLC sessions targeting weight loss , increasing physical activity , fruit , vegetable and low-fat dairy intake , and decreasing fat and sodium intake , plus @ monthly individual motivational interviewing sessions .\\n',\n",
       " 'METHODS\\tParticipants in the control group attend @ weekly classes on HTN and other health topics delivered by health care experts .\\n',\n",
       " 'METHODS\\tThe primary outcome is change in BP from baseline to @ months .\\n',\n",
       " 'METHODS\\tSecondary outcomes include level of physical activity , percent change in weight , and fruit and vegetable consumption at @ months , and BP control at @ months .\\n',\n",
       " 'CONCLUSIONS\\tIf successful , this trial will provide an alternative and culturally appropriate model for HTN control through evidence-based lifestyle modification delivered in churches by lay health advisors .\\n',\n",
       " '\\n',\n",
       " '###24807407\\n',\n",
       " 'BACKGROUND\\tThe classification of clinical severity of Ebstein anomaly still remains a challenge .\\n',\n",
       " 'BACKGROUND\\tThe aim of this study was to focus on the interaction of the pathologically altered right heart with the anatomically-supposedly-normal left heart and to derive from cardiac magnetic resonance ( CMR ) a simple imaging measure for the clinical severity of Ebstein anomaly .\\n',\n",
       " 'RESULTS\\tTwenty-five patients at a mean age of @ years with unrepaired Ebstein anomaly were examined in a prospective study .\\n',\n",
       " 'RESULTS\\tDisease severity was classified using CMR volumes and functional measurements in comparison with heart failure markers from clinical data , ECG , laboratory and cardiopulmonary exercise testing , and echocardiography .\\n',\n",
       " 'RESULTS\\tAll examinations were completed within @ hours .\\n',\n",
       " 'RESULTS\\tA total right/left-volume index was defined from end-diastolic volume measurements in CMR : total right/left-volume index = ( RA + aRV + fRV ) / ( LA+LV ) .\\n',\n",
       " 'RESULTS\\tMean total right/left-volume index was @ ( normal values : @ ) .\\n',\n",
       " 'RESULTS\\tThis new total right/left-volume index correlated with almost all clinically used biomarkers of heart failure : brain natriuretic peptide ( r = @ ; P = @ ) , QRS ( r = @ ; P = @ ) , peak oxygen consumption/kg ( r = -@ ; P = @ ) , ventilatory response to carbon dioxide production at anaerobic threshold ( r = @ ; P = @ ) , the severity of tricuspid regurgitation ( r = @ ; P = @ ) , tricuspid valve offset ( r = @ ; P = @ ) , and tricuspid annular plane systolic excursion ( r = @ ; P = @ ) .\\n',\n",
       " 'RESULTS\\tPreviously described severity indices ( -LSB- RA + aRV -RSB- / -LSB- fRV + LA+LV -RSB- ) and fRV/LV end-diastolic volume corresponded only to some parameters .\\n',\n",
       " 'CONCLUSIONS\\tIn patients with Ebstein anomaly , the easily acquired index of right-sided to left-sided heart volumes from CMR correlated well with established heart failure markers .\\n',\n",
       " 'CONCLUSIONS\\tOur data suggest that the total right/left-volume index should be used as a new and simplified CMR measure , allowing more accurate assessment of disease severity than previously described scoring systems .\\n',\n",
       " '\\n',\n",
       " '###24947717\\n',\n",
       " 'OBJECTIVE\\tThis study sought to investigate the association of beta-blocker therapy at discharge with clinical outcomes in patients with ST-segment elevation myocardial infarction ( STEMI ) after primary percutaneous coronary intervention ( PCI ) .\\n',\n",
       " 'BACKGROUND\\tLimited data are available on the efficacy of beta-blocker therapy for secondary prevention in STEMI patients .\\n',\n",
       " 'METHODS\\tBetween November @ , @ and September @ , @ , @,@ patients were enrolled in nationwide , prospective , multicenter registries .\\n',\n",
       " 'METHODS\\tAmong these , we studied STEMI patients undergoing primary PCI who were discharged alive ( n = @,@ ) .\\n',\n",
       " 'METHODS\\tWe classified patients into the beta-blocker group ( n = @,@ ) and no-beta-blocker group ( n = @,@ ) according to the use of beta-blockers at discharge .\\n',\n",
       " 'METHODS\\tPropensity-score matching analysis was also performed in @,@ patient triplets .\\n',\n",
       " 'METHODS\\tThe primary outcome was all-cause death .\\n',\n",
       " 'RESULTS\\tThe median follow-up duration was @ days ( interquartile range : @ to @ days ) .\\n',\n",
       " 'RESULTS\\tAll-cause death occurred in @ patients ( @ % ) of the beta-blocker group versus @ patients ( @ % ) of the no-beta-blocker group ( p < @ ) .\\n',\n",
       " 'RESULTS\\tAfter @:@ propensity-score matching , beta-blocker therapy was associated with a lower incidence of all-cause death ( @ % vs. @ % , adjusted hazard ratio : @ , @ % confidence interval : @ to @ , p = @ ) .\\n',\n",
       " 'RESULTS\\tThe association with better outcome of beta-blocker therapy in terms of all-cause death was consistent across various subgroups , including patients with relatively low-risk profiles such as ejection fraction > @ % or single-vessel disease .\\n',\n",
       " 'CONCLUSIONS\\tBeta-blocker therapy at discharge was associated with improved survival in STEMI patients treated with primary PCI .\\n',\n",
       " 'CONCLUSIONS\\tOur results support the current American College of Cardiology/American Heart Association guidelines , which recommend long-term beta-blocker therapy in all patients with STEMI regardless of reperfusion therapy or risk profile .\\n',\n",
       " '\\n',\n",
       " '###24281275\\n',\n",
       " 'OBJECTIVE\\tLocal anesthetic wound infiltration is widely used as an effective adjunct during multimodal postoperative pain management .\\n',\n",
       " 'OBJECTIVE\\tThe aim of this study was to evaluate the effectiveness of continuous wound infusion of ropivacaine in postoperative pain relief , opioid sparing , incidence of nausea and vomiting , and bowel and liver function improvement in patients undergoing open hepatectomy .\\n',\n",
       " 'METHODS\\tForty patients undergoing open hepatectomy were enrolled in this prospective , randomized , double-blinded , placebo-controlled trial .\\n',\n",
       " 'METHODS\\tPatients were divided into @ groups : the @ % saline continuous infusion group ( the control group ; n = @ ) and the ropivacaine continuous infusion group ( the Ropi group ; n = @ ) .\\n',\n",
       " 'METHODS\\tOutcomes measured postoperatively were pain score at rest and on movement , sufentanil consumption , incidence of nausea and vomiting , and sedation score across @ postoperative hours .\\n',\n",
       " 'METHODS\\tTime to bowel recovery , liver function change , mean length of hospitalization , patient satisfaction , and other data after @ postoperative hours were collected until hospital discharge .\\n',\n",
       " 'RESULTS\\tPain scores at rest were lower for the ropivacaine group and reached significance after @ and @ hours ( P < @ ) .\\n',\n",
       " 'RESULTS\\tSufentanil consumption ( @ vs. @ g ; P < @ ) after @ hours , time to bowel recovery ( @ vs. @ d ; P < @ ) , incidence of nausea and vomiting ( @ vs. @ ; P < @ ) , and mean length of hospitalization ( @ vs. @ d ; P < @ ) were significantly reduced , and the sedation score and liver function change were also comparable between the @ groups .\\n',\n",
       " 'RESULTS\\tThere was no difference with respect to pain scores on movement , nor with respect to patient satisfaction .\\n',\n",
       " 'CONCLUSIONS\\tSurgical wound infusion with ropivacaine after hepatectomy can improve pain relief at rest and accelerate recovery and discharge .\\n',\n",
       " '\\n',\n",
       " '###24911353\\n',\n",
       " 'OBJECTIVE\\tTuberculosis ( TB ) is highly prevalent among HIV-infected people , including those receiving combination antiretroviral therapy ( cART ) , necessitating a well tolerated and efficacious TB vaccine for these populations .\\n',\n",
       " 'OBJECTIVE\\tWe evaluated the safety and immunogenicity of the candidate TB vaccine M@/AS@ in adults with well controlled HIV infection on cART .\\n',\n",
       " 'METHODS\\tA randomized , observer-blind , controlled trial ( NCT@ ) .\\n',\n",
       " 'METHODS\\tHIV-infected adults on cART in Switzerland were randomized @:@:@ to receive two doses , @ month apart , of M@/AS@ , AS@ or @ % physiological saline ( N = @ , N = @ and N = @ , respectively ) and were followed up to @ months postdose @ ( D@ ) .\\n',\n",
       " 'METHODS\\tIndividuals with CD@ cell counts below @ cells/l were excluded .\\n',\n",
       " 'METHODS\\tAdverse events ( AEs ) including HIV-specific and laboratory safety parameters were recorded .\\n',\n",
       " 'METHODS\\tCell-mediated ( ICS ) and humoral ( ELISA ) responses were evaluated before vaccination , @ month after each dose ( D@ , D@ ) and D@ .\\n',\n",
       " 'RESULTS\\tThirty-seven individuals -LSB- interquartile range ( IQR ) CD@ cell counts at screening : @-@ cells/l ; undetectable HIV-@ viremia -RSB- were enrolled ; @ % of individuals reported previous BCG vaccination , @ % tested negative for the QuantiFERON-TB assay .\\n',\n",
       " 'RESULTS\\tFor M@/AS@ recipients , no vaccine-related serious AEs or cART-regimen adjustments were recorded , and there were no clinically relevant effects on laboratory safety parameters , HIV-@ viral loads or CD@ cell counts .\\n',\n",
       " 'RESULTS\\tM@/AS@ was immunogenic , inducing persistent and polyfunctional M@-specific CD@ T-cell responses -LSB- medians @ % ( IQR @-@ @ ) at D@ -RSB- and @ % ( @-@ @ ) at D@ , predominantly CD@LIL-@TNF - , CD@LIL-@ and CD@LIL-@TNF-IFN - -RSB- .\\n',\n",
       " 'RESULTS\\tAll M@/AS@ vaccines were seropositive for anti-M@ IgG after second vaccination until study end .\\n',\n",
       " 'CONCLUSIONS\\tM@/AS@ was clinically well tolerated and immunogenic in this population , supporting further clinical evaluation in HIV-infected individuals in TB-endemic settings .\\n',\n",
       " '\\n',\n",
       " '###25318787\\n',\n",
       " 'OBJECTIVE\\tThe aim of this study was to investigate whether remedial hydration ( RH ) reduces the incidence of contrast-induced nephropathy ( CIN ) and short-term adverse events in ST-elevation myocardial infarction ( STEMI ) patients undergoing primary percutaneous coronary intervention ( PCI ) .\\n',\n",
       " 'METHODS\\tA total of @ consecutive STEMI patients were prospectively and randomly assigned into two groups : @ patients in the RH group and @ patients in the no RH ( control ) group .\\n',\n",
       " 'METHODS\\tThe serum creatinine ( SCr ) and creatinine clearance ( CCr ) levels were measured on admission and at @ , @ and @ hours after primary PCI .\\n',\n",
       " 'METHODS\\tThe rates of CIN and short-term adverse events were analyzed for each group .\\n',\n",
       " 'METHODS\\tAfter surgery , the patients were categorized into four groups according to the Mehran risk score : low ( @ , n = @ ) , moderate ( @-@ , n = @ ) , high ( @-@ , n = @ ) or very high ( @ , n = @ ) .\\n',\n",
       " 'RESULTS\\tThe incidence of CIN in the RH group was lower than that observed in the control group ( @/@ ; @ % vs. @/@ ; @ % , p < @ ) .\\n',\n",
       " 'RESULTS\\tThe subgroup analysis showed that the rate of CIN was lower in the moderate ( @/@ ; @ % vs. @/@ ; @ % , p < @ ) and significantly lower in both the high ( @/@ ; @ % vs. @/@ ; @ % , p < @ ) and very high score groups ( @/@ ; @ % vs. @/@ ; @ % , p < @ ) among the RH patients compared to the controls .\\n',\n",
       " 'RESULTS\\tAt @ , @ and @ hours after PCI , the patients in the RH group exhibited lower SCr levels and higher CCr levels than the patients in the control group ( both p < @ ) .\\n',\n",
       " 'RESULTS\\tA lower incidence of in-hospital clinical events was also observed in the RH group .\\n',\n",
       " 'CONCLUSIONS\\tRemedial hydration decreases the occurrence of CIN and improves the short-term prognosis of STEMI patients undergoing primary PCI .\\n',\n",
       " '\\n',\n",
       " '###24396280\\n',\n",
       " 'BACKGROUND\\tAn increased production of oxidizing species related to reactive oral diseases , such as chronic apical periodontitis , could have systemic implications such as an increase in cardiovascular morbidity .\\n',\n",
       " 'BACKGROUND\\tBased on this consideration , we conducted a prospective study to assess whether subjects affected by chronic periodontitis presented with higher values of oxidative stress than reference values before endodontic treatment , and whether endodontic treatment can reduce the oxidative imbalance and bring it back to normal in these subjects .\\n',\n",
       " 'METHODS\\tThe authors recruited @ groups of patients from private studies and dental clinics : these patients were recruited randomly .\\n',\n",
       " 'METHODS\\tThe oxidative balance in both patients with chronic apical periodontitis ( CAP ) and healthy control patients was determined by measuring the oxidant status , using an identification of the reactive oxygen metabolites ( d-ROMs ) test , while the antioxidant status in these patients was determined using a biological antioxidant potential ( BAP ) test .\\n',\n",
       " 'METHODS\\tBoth these tests were carried on plasma samples taken from enrolled patients .\\n',\n",
       " 'METHODS\\tValues were measured both before the endodontic treatment of the patients with chronic apical periodontitis , and @ and @ days after treatment , and compared to those obtained from healthy control patients .\\n',\n",
       " 'RESULTS\\tIt was found that , on recruitment , the patients with chronic apical periodontitis exhibited significantly higher levels of oxidative stress than control patients , as determined by the d-ROMs and BAP tests .\\n',\n",
       " 'RESULTS\\tFurthermore , the d-ROMs test values were shown to decrease and the BAP test values to increase over time in patients with chronic apical periodontitis following endodontic therapy .\\n',\n",
       " 'RESULTS\\tAs the levels of oxidative stress in these patients tended to reduce and return to normal by @ days following treatment .\\n',\n",
       " 'CONCLUSIONS\\tThis study has demonstrated a positive association between chronic apical periodontitis and oxidative stress .\\n',\n",
       " 'CONCLUSIONS\\tSubjects affected by chronic apical periodontitis are exposed to a condition of oxidative stress , which is extremely dangerous to general health .\\n',\n",
       " 'CONCLUSIONS\\tMoreover , one can infer from these findings that through proper endodontic therapy , a good oxidative balance can be restored , thereby avoiding the risk of contracting the abovementioned diseases .\\n',\n",
       " '\\n',\n",
       " '###24731889\\n',\n",
       " 'BACKGROUND\\tPlacebo effect has been largely studied and debated in medicine .\\n',\n",
       " 'BACKGROUND\\tResearch focused mainly on children and adults but not on newborns .\\n',\n",
       " 'BACKGROUND\\tIn osteopathy , few studies documented this effect and no research has been conducted in newborns .\\n',\n",
       " 'OBJECTIVE\\tTo assess the presence of placebo effect in newborns using sham osteopathic manipulative treatment .\\n',\n",
       " 'METHODS\\tRandomized control trial .\\n',\n",
       " 'METHODS\\tNeonatal Intensive Care Unit in Italy .\\n',\n",
       " 'METHODS\\tTwo groups ( @ patients each ) of preterm infants aged @-@ weeks without medical complications received routine pediatric care and osteopathic sham therapy was administrated to the study group only for the entire period of hospitalization .\\n',\n",
       " 'METHODS\\tPrimary end point was the mean reduction of length of stay at discharge .\\n',\n",
       " 'METHODS\\tSecondary objective was the change in daily weight gain .\\n',\n",
       " 'RESULTS\\t@ newborns entered the study .\\n',\n",
       " 'RESULTS\\tNo difference between sham and control group was found for the primary outcome length of stay ( @ ; @ ; p = @ ) .\\n',\n",
       " 'RESULTS\\tMultivariate analysis showed no difference between study and control group on length of stay .\\n',\n",
       " 'RESULTS\\tA negative association was found for gestational age ( -@ ; @ % CI -@ to -@ ; p = @ ) , birth weight ( -@ ; @ % CI -@ to -@ ; p < @ ) and milk volume at study enrollment ( -@ ; @ % CI -@ to -@ ; p = @ ) .\\n',\n",
       " 'CONCLUSIONS\\tTo the best of our knowledge , this study is the first in the field showing no placebo effect on newborns .\\n',\n",
       " 'CONCLUSIONS\\tFurther discussions are opened concerning the age when placebo effect starts .\\n',\n",
       " '\\n',\n",
       " '###25880933\\n',\n",
       " 'BACKGROUND\\tClostridium difficile infection ( CDI ) is a leading cause of diarrhoea in health care settings with symptoms ranging from mild and self-limiting to life threatening .\\n',\n",
       " 'BACKGROUND\\tSMT@ is a novel , non-absorbable antibiotic currently under development for the treatment of CDI .\\n',\n",
       " 'BACKGROUND\\tHere we report the results from a Phase I study .\\n',\n",
       " 'METHODS\\tA double-blind , randomized , placebo-controlled study assessing safety and tolerability of single and multiple oral doses of SMT@ in healthy volunteers .\\n',\n",
       " 'METHODS\\tPharmacokinetic assessments included blood and faecal sampling .\\n',\n",
       " 'METHODS\\tThe effect of food on systemic exposure and analysis of the gut microbiota were also included .\\n',\n",
       " 'RESULTS\\tFifty-six healthy male subjects were enrolled .\\n',\n",
       " 'RESULTS\\tFollowing single oral doses of up to @,@ mg in the fasted state , plasma concentrations of SMT@ were generally below the lower limit of quantification .\\n',\n",
       " 'RESULTS\\tIn the fed state levels ranged from @ to @ ng/mL after single dosing and after repeat dosing at Day @ from @ to @ ng/mL .\\n',\n",
       " 'RESULTS\\tFollowing single and multiple oral doses of SMT@ , mean daily faecal concentrations increased with increasing dose level and were significantly above the typical MIC range for C. difficile ( @-@ @ g/mL ) .\\n',\n",
       " 'RESULTS\\tAt @ mg BID , mean ( SD ) faecal concentrations of @,@ ( @ ) g/g and @,@ ( @ ) g/g were determined on days @ and @ of dosing respectively .\\n',\n",
       " 'RESULTS\\tNo notable metabolites were detected in faeces .\\n',\n",
       " 'RESULTS\\tOverall , all doses of SMT@ were well tolerated both as single oral doses or BID oral doses for @ days .\\n',\n",
       " 'RESULTS\\tThe majority ( @ % ) of adverse events ( AEs ) were classified as gastrointestinal disorders and were mild in severity , resolving without treatment .\\n',\n",
       " 'RESULTS\\tThe gut microbiota was analysed in the multiple dose groups with minimal changes observed in the bacterial groups analysed except for total clostridia which were reduced to below the limit of detection by day @ of dosing .\\n',\n",
       " 'CONCLUSIONS\\tOral administration of SMT@ was considered safe and well tolerated and was associated with negligible plasma concentrations after single and multiple doses .\\n',\n",
       " 'CONCLUSIONS\\tIn addition , minimal disruption of normal gut microbiota was noted , confirming the highly selective spectrum of the compound .\\n',\n",
       " 'CONCLUSIONS\\tThese results support the further clinical development of SMT@ as an oral therapy for CDI .\\n',\n",
       " 'BACKGROUND\\tCurrent Controlled Trials .\\n',\n",
       " 'BACKGROUND\\tISRCTN@ .\\n',\n",
       " '\\n',\n",
       " '###25231496\\n',\n",
       " 'BACKGROUND\\tWhile overall survival for most common cancers in Australia is improving , the rural-urban differential has been widening , with significant excess deaths due to lung , colorectal , breast and prostate cancer in regional Australia .\\n',\n",
       " 'BACKGROUND\\tInternationally a major focus on understanding variations in cancer outcomes has been later presentation to healthcare and later diagnosis .\\n',\n",
       " 'BACKGROUND\\tApproaches to reducing time to diagnosis of symptomatic cancer include public symptom awareness campaigns and interventions in primary care to improve early cancer detection .\\n',\n",
       " 'BACKGROUND\\tThis paper reports the protocol of a factorial cluster-randomised trial of community and general practice ( GP ) level interventions to reduce the time to diagnosis of cancer in rural Western Australia ( WA ) .\\n',\n",
       " 'METHODS\\tThe community intervention is a symptom awareness campaign tailored for rural Australians delivered through a community engagement model .\\n',\n",
       " 'METHODS\\tThe GP intervention includes a resource card with symptom risk assessment charts and local referral pathways implemented through multiple academic detailing visits and case studies .\\n',\n",
       " 'METHODS\\tParticipants are eligible if recently diagnosed with breast , colorectal , lung or prostate cancer who reside in specific regions of rural WA with a planned sample size of @ .\\n',\n",
       " 'METHODS\\tThe primary outcome is the Total Diagnostic Interval , defined as the duration from first symptom ( or date of cancer screening test ) to cancer diagnosis .\\n',\n",
       " 'METHODS\\tSecondary outcomes include cancer stage , healthcare utilisation , disease-free status , survival at @ and @years and cost-effectiveness .\\n',\n",
       " 'BACKGROUND\\tEthics approval has been granted by the University of Western Australia and from all relevant hospital recruitment sites in WA .\\n',\n",
       " 'RESULTS\\tResults of this trial will be reported in peer-reviewed publications and in conference presentations .\\n',\n",
       " 'BACKGROUND\\tAustralian New Zealand Clinical Trials Registry ( ANZCTR ) .\\n',\n",
       " 'BACKGROUND\\tACTRN@ .\\n',\n",
       " '\\n',\n",
       " '###26024687\\n',\n",
       " 'BACKGROUND\\tThis study aimed to evaluate whether incidental CT findings of emphysema , airway thickening and bronchiectasis , as seen on CT scans performed for other non-pulmonary clinical indications , are associated with future acute exacerbations of COPD resulting in hospitalisation or death .\\n',\n",
       " 'METHODS\\tThis multicentre prospective case-cohort study comprised @ subjects who underwent routine diagnostic chest CT for non-pulmonary indications .\\n',\n",
       " 'METHODS\\tUsing a case-cohort approach , we visually graded CT scans from cases and a random sample of @ % of the baseline cohort ( n = @ ) for emphysema severity ( range @-@ ) , airway thickening ( range @-@ ) and bronchiectasis ( range @-@ ) .\\n',\n",
       " 'METHODS\\tWe used weighted Cox proportional hazards analysis to assess the independent association between CT findings and hospitalisation or death due to COPD exacerbation .\\n',\n",
       " 'RESULTS\\tDuring a median follow-up of @ years ( maximum @ years ) , @ COPD events were identified .\\n',\n",
       " 'RESULTS\\tThe risk of experiencing a future acute exacerbation of COPD resulting in hospitalisation or death was significantly increased in subjects with severe emphysema ( score @ ) and severe airway thickening ( score @ ) .\\n',\n",
       " 'RESULTS\\tThe respective HRs were @ ( @ % CI @ to @ ) and @ ( @ % CI @ to @ ) .\\n',\n",
       " 'RESULTS\\tSevere bronchiectasis ( score @ ) was not significantly associated with increased risk of adverse events ( HR @ ; @ % CI @ to @ ) .\\n',\n",
       " 'CONCLUSIONS\\tMorphological correlates of COPD such as emphysema and airway thickening detected on CT scans obtained for other non-pulmonary indications are strong independent predictors of subsequent development of acute exacerbations of COPD resulting in hospitalisation or death .\\n',\n",
       " '\\n',\n",
       " '###24851690\\n',\n",
       " 'OBJECTIVE\\tTo explore the feasibility of making a preoperative diagnosis of lung adenocarcinoma shown as ground-glass nodule ( GGN ) on computed tomography ( CT ) .\\n',\n",
       " 'METHODS\\tA total of @ GGN lesions proved pathologically were divided randomly into A and B groups .\\n',\n",
       " 'METHODS\\tThen each group was further divided pathologically into preinvasive lesion , minimal invasive adenocarcinoma ( MIA ) and invasive adenocarcinoma ( IAC ) subgroups .\\n',\n",
       " 'METHODS\\tGroup A ( n = @ ) , size of lesion , proportion of ground glass opacity ( GGO ) composition of lesion , long diameter , longest diameter and size of solid component in lesion were measured on CT so as to establish the CT diagnostic standard of lung adenocarcinoma shown as GGN on CT. .\\n',\n",
       " 'METHODS\\tGroup B ( n = @ ) was employed to evaluate the accuracy of the above CT diagnostic standard .\\n',\n",
       " 'METHODS\\tSPSS @ software was used for statistical analysis .\\n',\n",
       " 'RESULTS\\tSignificant statistic significance existed in all parameters among all groups ( P < @ ) .\\n',\n",
       " 'RESULTS\\tAll parameters were correlated the pathologic type of lesion .\\n',\n",
       " 'RESULTS\\tThe differences were statistically significant ( P = @ ) .\\n',\n",
       " 'RESULTS\\tThrough the receiver operating characteristic ( ROC ) curve , between groups of preinvasive lesion and MIA , each parameter had a medium diagnostic value of @-@ @ ; between groups of MIA and IAC , size of lesion and long diameter of solid component in lesion had a medium diagnostic value of @-@ @ , longest diameter of solid component , size of solid component in lesion and proportion of GGO composition of lesion had a high diagnostic value with an AUC of > @ .\\n',\n",
       " 'RESULTS\\tThe CT diagnostic standard , derived from group A , was used to analyze the pathologic type of group B. And t no significant statistic significance existed between CT preoperative diagnosis and operative pathologic diagnosis ( P > @ ) .\\n',\n",
       " 'RESULTS\\tThe correct diagnosis rates of size of lesion , proportion of GGO composition of lesion , long diameter , longest diameter and size of solid component in lesion were @ % , @ % , @ % , @ % and @ % respectively .\\n',\n",
       " 'CONCLUSIONS\\tBased upon size of lesion , proportion of GGO composition of lesion , long diameter , longest diameter and size of solid component in lesion , preoperative CT examination may be used to determine the pathological types of lung adenocarcinoma shown as GGN .\\n',\n",
       " '\\n',\n",
       " '###25883103\\n',\n",
       " 'OBJECTIVE\\tTonsillectomy surgery is associated with severe postoperative pain that usually requires analgesics including opioids .\\n',\n",
       " 'OBJECTIVE\\tPain control is still a big problem after tonsillectomy surgery .\\n',\n",
       " 'OBJECTIVE\\tWe aimed to evaluate the efficacy of preemptive analgesia using montelukast for pediatric post-tonsillectomy pain management .\\n',\n",
       " 'OBJECTIVE\\tThis is the first-time use of montelukast in post-tonsillectomy pain .\\n',\n",
       " 'METHODS\\tDouble-blind , controlled-randomized study .\\n',\n",
       " 'METHODS\\tUniversity teaching and research hospital .\\n',\n",
       " 'METHODS\\tA total of @ children , aged @ to @ years , American Society of Anesthesiologist class I-II , scheduled for elective tonsillectomy were enrolled in this clinical trial study .\\n',\n",
       " 'METHODS\\tThe patients were randomized into @ groups : the montelukast group ( group M , n = @ ) and control group ( group C , n = @ ) .\\n',\n",
       " 'METHODS\\tGroup M recieved an oral montelukast tablet and group C recieved placebo at @pm on the morning before surgery .\\n',\n",
       " 'METHODS\\tPost-tonsillectomy pain was evaluated with the Wong-Baker FACES Scale during the @ hours after surgery .\\n',\n",
       " \"METHODS\\tPatients ' intraoperative hemodynamic parameters and intraoperative and postoperative complications were recorded .\\n\",\n",
       " 'RESULTS\\tThere were statistically significant differences between group C and group M for Wong-Baker FACES pain rating scale scores ( P < @ ) .\\n',\n",
       " 'RESULTS\\tIn the @ hours after surgery , the total number of patients using rescue analgesics was higher in group C than in group M , and the difference was statistically significant ( P < @ ) .\\n',\n",
       " 'RESULTS\\tThere was no significant difference in demographic parameters ( P > @ ) .\\n',\n",
       " 'RESULTS\\tThere were no significant differences in postoperative nausea and vomiting , otalgia , trismus , fever , or halitosis between the groups ( P > @ ) .\\n',\n",
       " 'CONCLUSIONS\\tPreemptive montelukast can be used safely to reduce the serious pain caused by tonsillectomy in children .\\n',\n",
       " '\\n',\n",
       " '###24318863\\n',\n",
       " 'OBJECTIVE\\tMetastatic colon cancer patients are treated with the chemotherapy regimens , FOLFOX and FOLFIRI , in either order .\\n',\n",
       " 'OBJECTIVE\\tSo far , we can not predict the response of chemotherapeutic agent , so it is necessary to find which regimen is adequate before starting chemotherapy .\\n',\n",
       " 'METHODS\\tEnrolled patients are randomized into either conventional treatment or planned treatment preceded by pretreatment genetic analysis .\\n',\n",
       " 'METHODS\\tBlood samples of patients in planned treatment group ( N = @ ) were analyzed for the genetic polymorphism before selection of chemotherapeutic agents .\\n',\n",
       " 'METHODS\\tTarget genes were XPD-@ , GSTP-@-@ , XRCC@-@ for oxaliplatin , UGT@A@ for irinotecan .\\n',\n",
       " 'METHODS\\tThe response was measured by computed tomographic scan after completion of three cycles of chemotherapy .\\n',\n",
       " 'RESULTS\\tOverall response rate was significantly higher in planned group ( @ % vs. @ % , P = @ ) .\\n',\n",
       " 'RESULTS\\tIn FOLFOX group , response rate was significantly improved in the planned patients ( @ % vs. @ % , P = @ ) .\\n',\n",
       " \"RESULTS\\tIn FOLFIRI group , the difference did n't reach statistical significance ( @ % vs. @ % , P = @ ) .\\n\",\n",
       " 'CONCLUSIONS\\tWe found significantly improved response rates in the chemotherapy of metastatic colon cancer by pretreatment genetic analysis , especially in FOLFOX group .\\n',\n",
       " '\\n',\n",
       " '###25872502\\n',\n",
       " 'BACKGROUND\\tCardiac arrest causes ischaemic brain injury .\\n',\n",
       " 'BACKGROUND\\tArterial carbon dioxide tension ( PaCO@ ) is a major determinant of cerebral blood flow .\\n',\n",
       " 'BACKGROUND\\tThus , mild hypercapnia in the @ h following cardiac arrest may increase cerebral blood flow and attenuate such injury .\\n',\n",
       " 'BACKGROUND\\tWe describe the Carbon Control and Cardiac Arrest ( CCC ) trial .\\n',\n",
       " 'METHODS\\tThe CCC trial is a pilot multicentre feasibility , safety and biological efficacy randomized controlled trial recruiting adult cardiac arrest patients admitted to the intensive care unit after return of spontaneous circulation .\\n',\n",
       " 'METHODS\\tAt admission , using concealed allocation , participants are randomized to @ h of either normocapnia ( PaCO@ @ to @ mmHg ) or mild hypercapnia ( PaCO@ @ to @ mmHg ) .\\n',\n",
       " 'METHODS\\tKey feasibility outcomes are recruitment rate and protocol compliance rate .\\n',\n",
       " 'METHODS\\tThe primary biological efficacy and biological safety measures are the between-groups difference in serum neuron-specific enolase and S@b protein levels at @ h , @ h and @ h. Secondary outcome measure include adverse events , in-hospital mortality , and neurological assessment at @ months .\\n',\n",
       " 'CONCLUSIONS\\tThe trial commenced in December @ and , when completed , will provide clinical evidence as to whether targeting mild hypercapnia for @ h following intensive care unit admission for cardiac arrest patients is feasible and safe and whether it results in decreased concentrations of neurological injury biomarkers compared with normocapnia .\\n',\n",
       " 'CONCLUSIONS\\tTrial results will also be used to determine whether a phase IIb study powered for survival at @ days is feasible and justified .\\n',\n",
       " 'BACKGROUND\\tAustralian New Zealand Clinical Trials Registry ACTRN@ .\\n',\n",
       " '\\n',\n",
       " '###24226487\\n',\n",
       " 'BACKGROUND\\tFor decades thiopental has been considered as the hypnotic drug of choice for intracranial surgery .\\n',\n",
       " 'BACKGROUND\\tHowever , total intravenous anesthesia performed with thiopental is associated with delayed recovery , whereas early post-operative neurological evaluation is critical .\\n',\n",
       " 'BACKGROUND\\tFor this reason , target controlled infusion ( TCI ) of propofol is increasingly used for maintenance of anesthesia .\\n',\n",
       " 'BACKGROUND\\tHowever , a thiopental TCI has never been assessed for this purpose .\\n',\n",
       " 'BACKGROUND\\tWe tested the hypothesis that a thiopental TCI provides an acceptable way to achieve early recovery compared to a propofol TCI during supratentorial surgery .\\n',\n",
       " 'METHODS\\tEighty patients undergoing elective craniotomy for a supratentorial tumor were randomized to receive either a propofol TCI ( group P ) or a thiopental TCI ( group T ) .\\n',\n",
       " 'METHODS\\tBoth groups received a sufentanil TCI and the bispectral index was monitored .\\n',\n",
       " 'METHODS\\tThe primary end-point was time to tracheal extubation .\\n',\n",
       " 'METHODS\\tSecondary end-points were per - and post-operative hemodynamics as well as respiratory and recovery parameters .\\n',\n",
       " 'METHODS\\tAssessment of study end-points was performed by an intensive care specialist blinded ( like the patient ) to the received hypnotic .\\n',\n",
       " 'RESULTS\\tTime to extubation was significantly ( P < @ ) shorter in group P ( median @ minutes ; interquartile range @-@ minutes ) than in group T ( median @ minutes ; interquartile range @-@ minutes ) .\\n',\n",
       " 'RESULTS\\tSimilarly , the recovery parameters were significantly better in group P than in group T.\\n',\n",
       " 'RESULTS\\tThere was no difference between groups in terms of patient characteristics and hemodynamic parameters .\\n',\n",
       " 'CONCLUSIONS\\tEven with TCI and bispectral index monitoring , thiopental is associated with an inappropriate delayed recovery from supratentorial surgery compared to propofol TCI .\\n',\n",
       " '\\n',\n",
       " '###25539560\\n',\n",
       " 'OBJECTIVE\\tTo investigate the effects of conservative therapy applied before arthroscopic subacromial decompression on the clinical outcome in patients with stage @ shoulder impingement syndrome .\\n',\n",
       " 'METHODS\\tSixty-eight patients having stage @ shoulder impingement syndrome and treated with arthroscopic subacromial decompression were included in the study .\\n',\n",
       " 'METHODS\\tWe divided these patients into @ groups , whereby @ ( @ % ) patients received conservative therapy before arthroscopic subacromial decompression and @ ( @ % ) patients did not receive conservative therapy .\\n',\n",
       " 'METHODS\\tWe compared both groups in terms of the the Constant , UCLA , and VAS scores for shoulder pain before and after arthroscopic subacromial decompression .\\n',\n",
       " 'RESULTS\\tConstant , UCLA , and VAS scores were statistically significantly improved in both groups after arthroscopic subacromial decompression ( P < @ ) .\\n',\n",
       " 'RESULTS\\tConstant , UCLA , and VAS scores before arthroscopic subacromial decompression were statistically better in Group @ than in Group @ ( P < @ ) .\\n',\n",
       " 'RESULTS\\tNo statistically significant difference was found between the groups in terms of Constant , UCLA , and VAS scores after arthroscopic subacromial decompression ( P > @ ) .\\n',\n",
       " 'CONCLUSIONS\\tConservative therapy applied in patients with stage @ shoulder impingement syndrome before arthroscopic subacromial decompression does not have a positive contribution on the clinical outcome after arthroscopic subacromial decompression .\\n',\n",
       " '\\n',\n",
       " '###24401051\\n',\n",
       " 'BACKGROUND\\tObstructive sleep apnea is associated with considerable health risks .\\n',\n",
       " 'BACKGROUND\\tAlthough continuous positive airway pressure ( CPAP ) can mitigate these risks , effectiveness can be reduced by inadequate adherence to treatment .\\n',\n",
       " 'BACKGROUND\\tWe evaluated the clinical safety and effectiveness of upper-airway stimulation at @ months for the treatment of moderate-to-severe obstructive sleep apnea .\\n',\n",
       " 'METHODS\\tUsing a multicenter , prospective , single-group , cohort design , we surgically implanted an upper-airway stimulation device in patients with obstructive sleep apnea who had difficulty either accepting or adhering to CPAP therapy .\\n',\n",
       " 'METHODS\\tThe primary outcome measures were the apnea-hypopnea index ( AHI ; the number of apnea or hypopnea events per hour , with a score of @ indicating moderate-to-severe apnea ) and the oxygen desaturation index ( ODI ; the number of times per hour of sleep that the blood oxygen level drops by @ percentage points from baseline ) .\\n',\n",
       " 'METHODS\\tSecondary outcome measures were the Epworth Sleepiness Scale , the Functional Outcomes of Sleep Questionnaire ( FOSQ ) , and the percentage of sleep time with the oxygen saturation less than @ % .\\n',\n",
       " 'METHODS\\tConsecutive participants with a response were included in a randomized , controlled therapy-withdrawal trial .\\n',\n",
       " 'RESULTS\\tThe study included @ participants ; @ % were men .\\n',\n",
       " 'RESULTS\\tThe mean age was @ years , and the mean body-mass index ( the weight in kilograms divided by the square of the height in meters ) was @ .\\n',\n",
       " 'RESULTS\\tThe median AHI score at @ months decreased @ % , from @ events per hour to @ events per hour ( P < @ ) ; the ODI score decreased @ % , from @ events per hour to @ events per hour ( P < @ ) .\\n',\n",
       " 'RESULTS\\tSecondary outcome measures showed a reduction in the effects of sleep apnea and improved quality of life .\\n',\n",
       " 'RESULTS\\tIn the randomized phase , the mean AHI score did not differ significantly from the @-month score in the nonrandomized phase among the @ participants in the therapy-maintenance group ( @ and @ events per hour , respectively ) ; the AHI score was significantly higher ( indicating more severe apnea ) among the @ participants in the therapy-withdrawal group ( @ vs. @ events per hour , P < @ ) .\\n',\n",
       " 'RESULTS\\tThe ODI results followed a similar pattern .\\n',\n",
       " 'RESULTS\\tThe rate of procedure-related serious adverse events was less than @ % .\\n',\n",
       " 'CONCLUSIONS\\tIn this uncontrolled cohort study , upper-airway stimulation led to significant improvements in objective and subjective measurements of the severity of obstructive sleep apnea .\\n',\n",
       " 'CONCLUSIONS\\t( Funded by Inspire Medical Systems ; STAR ClinicalTrials.gov number , NCT@ . )\\n',\n",
       " '\\n',\n",
       " '###26126563\\n',\n",
       " 'OBJECTIVE\\tTo identify facilitators and barriers to clinical trial implementation in Aboriginal health services .\\n',\n",
       " 'METHODS\\tIndepth interview study with thematic analysis .\\n',\n",
       " 'METHODS\\tSix Aboriginal community-controlled health services and one government-run service involved in the Kanyini Guidelines Adherence with the Polypill ( KGAP ) study , a pragmatic randomised controlled trial that aimed to improve adherence to indicated drug treatments for people at high risk of cardiovascular disease .\\n',\n",
       " 'METHODS\\t@ health care providers and @ Aboriginal and Torres Strait Islander patients .\\n',\n",
       " 'RESULTS\\tA fundamental enabler was that participants considered the research to be governed and endorsed by the local health service .\\n',\n",
       " 'RESULTS\\tThat the research was perceived to address a health priority for communities was also highly motivating for both providers and patients .\\n',\n",
       " 'RESULTS\\tEnlisting the support of Aboriginal and Torres Strait Islander staff champions who were visible to the community as the main source of information about the trial was particularly important .\\n',\n",
       " 'RESULTS\\tThe major implementation barrier for staff was balancing their service delivery roles with adherence to often highly demanding trial-related procedures .\\n',\n",
       " \"RESULTS\\tThis was partially alleviated by the research team 's provision of onsite support and attempts to make trial processes more streamlined .\\n\",\n",
       " 'RESULTS\\tAlthough more intensive support was highly desired , there were usually insufficient resources to provide this .\\n',\n",
       " 'CONCLUSIONS\\tDespite strong community and health service support , major investments in time and resources are needed to ensure successful implementation and minimal disruption to already overstretched , routine services .\\n',\n",
       " 'CONCLUSIONS\\tTrial budgets will necessarily be inflated as a result .\\n',\n",
       " 'CONCLUSIONS\\tFunding agencies need to consider these additional resource demands when supporting trials of a similar nature .\\n',\n",
       " '\\n',\n",
       " '###24693629\\n',\n",
       " 'OBJECTIVE\\tTo compare the effect of incomplete caries removal ( ICR ) and indirect pulp capping ( IPC ) with calcium hydroxide ( CH ) or an inert material ( wax ) on color , consistency and contamination of the remaining dentin of primary molars .\\n',\n",
       " 'METHODS\\tThis double-blind , parallel-design , randomized controlled trial included @ children presenting one primary molar with deep caries lesion .\\n',\n",
       " 'METHODS\\tChildren were randomly assigned after ICR to receive IPC with CH or wax .\\n',\n",
       " 'METHODS\\tAll teeth were then restored with resin composite .\\n',\n",
       " 'METHODS\\tBaseline dentin color and consistency were evaluated after ICR , and dentin samples were collected for contamination analyses using scanning electron microscopy .\\n',\n",
       " 'METHODS\\tAfter @ months , restorations were removed and the three parameters were re-evaluated .\\n',\n",
       " 'METHODS\\tIn both groups , dentin became significantly darker after @ months .\\n',\n",
       " 'RESULTS\\tNo cases of yellow dentin were observed after @ months with CH compared to @ % of the wax cases ( P < @ ) .\\n',\n",
       " 'RESULTS\\tA statistically significant difference over time was observed only for CH regarding consistency .\\n',\n",
       " 'RESULTS\\tCH stimulated a dentin hardening process in a statistically higher number of cases than wax ( @ % vs. @ % ; P = @ ) .\\n',\n",
       " 'RESULTS\\tContamination changed significantly over time in CH and wax without significant difference between groups .\\n',\n",
       " 'RESULTS\\tIt was concluded that CH and wax arrested the carious process of the remaining carious dentin after indirect pulp capping , but CH showed superior dentin color and consistency after @ months .\\n',\n",
       " '\\n',\n",
       " '###24996519\\n',\n",
       " 'BACKGROUND\\tIn literature there is a general consensus that the use of the mirror improves proprioception .\\n',\n",
       " 'BACKGROUND\\tDuring rehabilitation the mirror is an important instrument to improve stability .\\n',\n",
       " 'BACKGROUND\\tIn some sports , such as dancing , mirrors are widely used during training .\\n',\n",
       " 'BACKGROUND\\tThe purpose of this study is to evaluate the effectiveness of the use of a mirror on balance in young dancers .\\n',\n",
       " 'BACKGROUND\\tSixty-four young dancers ( ranging from @-@ years ) were included in this study .\\n',\n",
       " 'BACKGROUND\\tThirty-two attending lessons with a mirror ( mirror - group ) were compared to @ young dancers that attended the same lessons without a mirror ( non-mirror group ) .\\n',\n",
       " 'BACKGROUND\\tBalance was evaluated by BESS ( Balance Error Scoring System ) , which consists of three stances ( double limb , single limb , and tandem ) on two surfaces ( firm and foam ) .\\n',\n",
       " 'BACKGROUND\\tThe errors were assessed at each stance and summed to create the two subtotal scores ( firm and foam surface ) and the final total score ( BESS ) .\\n',\n",
       " 'BACKGROUND\\tThe BESS was performed at recruitment ( T@ ) and after @months of dance lessons ( T@ ) .\\n',\n",
       " 'RESULTS\\tThe repeated measures ANOVA analysis showed that for the BESS total score there is a difference due to the time ( F = @ ; p < @ ) .\\n',\n",
       " 'RESULTS\\tNo other differences due to the group or to the time of measurement were found ( p > @ ) .\\n',\n",
       " 'RESULTS\\tThe analysis of the multiple regression model showed the influence of the values at T@ for every BESS items and the dominance of limb for stability on an unstable surface standing on one or two legs .\\n',\n",
       " 'CONCLUSIONS\\tThese preliminary results suggest that the use of a mirror in a ballet classroom does not improve balance acquisition of the dancer .\\n',\n",
       " 'CONCLUSIONS\\tOn the other hand , improvement found after @months confirms that at the age of the dancers studied motor skills and balance can easily be trained and improved .\\n',\n",
       " '\\n',\n",
       " '###25440306\\n',\n",
       " 'OBJECTIVE\\tLong-term follow-up studies documenting maintenance of treatment effects are fewin adolescent anorexia nervosa ( AN ) .\\n',\n",
       " 'OBJECTIVE\\tThis exploratory study reports relapse from full remission and attainment of remission during a @-year open follow-up period using a convenience sample of a subgroup of @ % ( n = @ ) from an original cohort of @ participants who completed a randomized clinical trial comparing family-based therapy ( FBT ) and adolescent-focused individual therapy ( AFT ) .\\n',\n",
       " 'METHODS\\tFollow-up assessments were completed up to @years posttreatment ( average , @ years ) .\\n',\n",
       " 'METHODS\\tAvailable participants completed the Eating Disorder Examination as well as self-report measures of self-esteem and depression at @ to @ years posttreatment .\\n',\n",
       " 'RESULTS\\tTwo participants ( @ % ) relapsed ( FBT : n = @ , @ % ; AFT : n = @ , @ % ) , on average @ years ( SD = @ years ) after remission was achieved at @-year follow-up .\\n',\n",
       " 'RESULTS\\tTen new participants ( @ % ) achieved remission ( FBT : n = @ , @ % ; AFT : n = @ , @ % ) .\\n',\n",
       " 'RESULTS\\tMean time to remission for this group was @ years ( SD = @ years ) from @-year follow-up .\\n',\n",
       " 'RESULTS\\tThere were no differences based on treatment group assignment in either relapse from full remission or new remission during long-term follow-up .\\n',\n",
       " 'RESULTS\\tOther psychopathology was stable over time .\\n',\n",
       " 'CONCLUSIONS\\tThere were few changes in the clinical presentation of participants who were assessed at long-term follow-up .\\n',\n",
       " 'CONCLUSIONS\\tThese data suggest that outcomes are generally stable posttreatment regardless of treatment type once remission is achieved .\\n',\n",
       " 'CONCLUSIONS\\tClinical trial registration information-Effectiveness of Family-Based Versus Individual Psychotherapy in Treating Adolescents With Anorexia Nervosa ; http://www.clinicaltrials.gov/; NCT@ .\\n',\n",
       " '\\n',\n",
       " '###24754891\\n',\n",
       " 'BACKGROUND\\tCoronary artery bypass grafting using the radial artery has , since the @s , gone through a revival .\\n',\n",
       " 'BACKGROUND\\tObservational studies have indicated better long-term patency when using radial arteries .\\n',\n",
       " 'BACKGROUND\\tTherefore , radial artery might be preferred especially in younger patients where long time patency is important .\\n',\n",
       " 'BACKGROUND\\tDuring the last @years different endoscopic techniques to harvest the radial artery have evolved .\\n',\n",
       " 'BACKGROUND\\tEndoscopic radial artery harvest only requires a small incision near the wrist in contrast to open harvest , which requires an incision from the elbow to the wrist .\\n',\n",
       " 'BACKGROUND\\tHowever , it is unknown whether the endoscopic technique results in fewer complications or a graft patency comparable to open harvest .\\n',\n",
       " 'BACKGROUND\\tWhen the radial artery has been harvested , there are two ways to use the radial artery as a graft .\\n',\n",
       " 'BACKGROUND\\tOne way is sewing it onto the aorta and another is sewing it onto the mammary artery .\\n',\n",
       " 'BACKGROUND\\tIt is unknown which technique is the superior revascularisation technique .\\n',\n",
       " 'METHODS\\tThe NEO Trial is a randomised clinical trial with a @ factorial design .\\n',\n",
       " 'METHODS\\tWe plan to randomise @ participants into four intervention groups : ( @ ) mammario-radial endoscopic group ; ( @ ) aorto-radial endoscopic group ; ( @ ) mammario-radial open surgery group ; and ( @ ) aorto-radial open surgery group.The hand function will be assessed by a questionnaire , a clinical examination , the change in cutaneous sensibility , and the measurement of both sensory and motor nerve conduction velocity at @months postoperatively .\\n',\n",
       " 'METHODS\\tAll the postoperative complications will be registered , and we will evaluate muscular function , scar appearance , vascular supply to the hand , and the graft patency including the patency of the central radial artery anastomosis .\\n',\n",
       " 'METHODS\\tA patency evaluation by multi-slice computer tomography will be done at one year postoperatively.We expect the nerve conduction studies and the standardised neurological examinations to be able to discriminate differences in hand function comparing endoscopic to open harvest of the radial artery .\\n',\n",
       " 'METHODS\\tThe trial also aims to show if there is any patency difference between mammario-radial compared to aorto-radial revascularisation techniques but this objective is exploratory .\\n',\n",
       " 'BACKGROUND\\tClinicalTrials.gov identifier : NCT@.Danish Ethics committee number : H-@-@-@ .\\n',\n",
       " 'BACKGROUND\\tDanish Data Protection Agency : @-@-@ / jr. n :@ -@ .\\n',\n",
       " '\\n',\n",
       " '###24284437\\n',\n",
       " 'BACKGROUND\\tKnowledge of essential amino acid requirements in infants is important because excessive intake of protein can lead to increased long-term morbidity such as obesity .\\n',\n",
       " 'BACKGROUND\\tA deficient intake may lead to suboptimal growth and impaired neurodevelopment .\\n',\n",
       " 'BACKGROUND\\tThe current recommended branched-chain amino acid requirements in infants aged @-@ mo are based on the amino acid content of human milk .\\n',\n",
       " 'OBJECTIVE\\tWe quantified the requirements for isoleucine , leucine , and valine for term neonates by using the indicator amino acid oxidation method with -LSB- @ - ( @ ) C -RSB- phenylalanine as the indicator .\\n',\n",
       " 'METHODS\\tFully enterally fed term infants received randomly graded amounts of isoleucine ( @-@ mg kg ( -@ ) d ( -@ ) ) , leucine ( @-@ mg kg ( -@ ) d ( -@ ) ) , or valine ( @-@ mg kg ( -@ ) d ( -@ ) ) as part of an elemental formula .\\n',\n",
       " 'METHODS\\tData are expressed as means SDs .\\n',\n",
       " 'RESULTS\\tEighty-three Asian , term neonates ( mean SD birth weight : @ @ kg ; gestational age : @ @ wk ) were studied at a postnatal age of @ @ d. Mean requirements for isoleucine , leucine , and valine ( measured in boys only ) were @ mg kg ( -@ ) d ( -@ ) ( r ( @ ) = @ , P < @ ) , @ mg kg ( -@ ) d ( -@ ) ( r ( @ ) = @ , P < @ ) , and @ mg kg ( -@ ) d ( -@ ) ( r ( @ ) = @ , P = @ ) , respectively .\\n',\n",
       " 'CONCLUSIONS\\tCurrent human milk-based recommendations for isoleucine and valine in term infants aged @-@ mo are correct .\\n',\n",
       " 'CONCLUSIONS\\tHowever , the current recommendation for leucine ( @ mg kg ( -@ ) d ( -@ ) ) is higher than the mean requirement of @ mg kg ( -@ ) d ( -@ ) that we determined in this study .\\n',\n",
       " 'CONCLUSIONS\\tThis trial was registered at www.trialregister.nl as NTR@ .\\n',\n",
       " '\\n',\n",
       " '###25585779\\n',\n",
       " 'OBJECTIVE\\tWe wanted to confirm the benefit of mometasone furoate ( MF ) in preventing acute radiation reactions , as shown in a previous study ( Bostrm et al , Radiother Oncol @ ; @:@ -@ ) .\\n',\n",
       " 'METHODS\\tThe study was a double-blind comparison of MF with D ( Diprobase ) , administered daily from the start of radiation therapy for @ weeks in patients receiving breast radiation therapy , @ Gy in @-Gy fractions daily over @ weeks .\\n',\n",
       " 'METHODS\\tThe primary endpoint was mean modified Radiation Therapy Oncology Group ( RTOG ) score .\\n',\n",
       " 'RESULTS\\tMean RTOG scores were significantly less for MF than for D ( P = @ ) .\\n',\n",
       " 'RESULTS\\tMaximum RTOG and mean erythema scores were significantly less for MF than for D ( P = @ and P = @ , respectively ) .\\n',\n",
       " 'RESULTS\\tThe Dermatology Life Quality Index ( DLQI ) score was significantly less for MF than for D at weeks @ and @ when corrected for Hospital Anxiety and Depression ( HAD ) questionnaire scores .\\n',\n",
       " 'CONCLUSIONS\\tMF cream significantly reduces radiation dermatitis when applied to the breast during and after radiation therapy .\\n',\n",
       " 'CONCLUSIONS\\tFor the first time , we have shown a significantly beneficial effect on quality of life using a validated instrument ( DLQI ) , for a topical steroid cream .\\n',\n",
       " 'CONCLUSIONS\\tWe believe that application of this cream should be the standard of care where radiation dermatitis is expected .\\n',\n",
       " '\\n',\n",
       " '###24332668\\n',\n",
       " 'OBJECTIVE\\tTo compare the interstage cardiac catheterization hemodynamic and angiographic findings between shunt types for the Pediatric Heart Network Single Ventricle Reconstruction trial .\\n',\n",
       " 'OBJECTIVE\\tThe trial , which randomized subjects to a modified Blalock-Taussig shunt ( MBTS ) or right ventricle-to-pulmonary artery shunt ( RVPAS ) for the Norwood procedure , demonstrated the RVPAS was associated with a smaller pulmonary artery diameter but superior @-month transplant-free survival .\\n',\n",
       " 'METHODS\\tWe analyzed the pre-stage II catheterization data for the trial subjects .\\n',\n",
       " 'METHODS\\tThe hemodynamic variables and shunt and pulmonary angiographic data were compared between shunt types ; their association with @-month transplant-free survival was also evaluated .\\n',\n",
       " 'RESULTS\\tOf @ randomized subjects , @ underwent pre-stage II catheterization .\\n',\n",
       " 'RESULTS\\tA smaller size , lower aortic and superior vena cava saturation , and higher ventricular end-diastolic pressure were associated with worse @-month transplant-free survival .\\n',\n",
       " 'RESULTS\\tThe MBTS group had a lower coronary perfusion pressure ( @ vs @ mm Hg ; P < @ ) and greater pulmonary blood flow/systemic blood flow ratio ( @ vs @ , P = @ ) .\\n',\n",
       " 'RESULTS\\tA greater pulmonary blood flow/systemic blood flow ratio increased the risk of death or transplantation only in the RVPAS group ( P = @ ) .\\n',\n",
       " 'RESULTS\\tThe MBTS group had fewer shunt ( @ % vs @ % , P = @ ) and severe left pulmonary artery ( @ % vs @ % , P = @ ) stenoses , larger mid-main branch pulmonary artery diameters , and greater Nakata indexes ( @ vs @ , P < @ ) .\\n',\n",
       " 'CONCLUSIONS\\tCompared with the RVPAS subjects , the MBTS subjects had more hemodynamic abnormalities related to shunt physiology , and the RVPAS subjects had more shunt or pulmonary obstruction of a severe degree and inferior pulmonary artery growth at pre-stage II catheterization .\\n',\n",
       " 'CONCLUSIONS\\tA lower body surface area , greater ventricular end-diastolic pressure , and lower superior vena cava saturation were associated with worse @-month transplant-free survival .\\n',\n",
       " '\\n',\n",
       " '###24379356\\n',\n",
       " 'OBJECTIVE\\tIt has been hypothesized that the development of diabetic polyneuropathy ( DPN ) is due to swelling of the nerve , as well as thickening and stiffening of the surrounding ligaments , causing chronic compression of nerves .\\n',\n",
       " 'OBJECTIVE\\tWe aimed to examine the effect of surgical decompression of the tibial nerve on the mean cross-sectional area ( CSA ) .\\n',\n",
       " 'METHODS\\tWe performed a randomized controlled trial of @ subjects with painful DPN diagnosed using the Diabetic Neuropathy Score .\\n',\n",
       " 'METHODS\\tA computer randomized for the surgery arm of the study .\\n',\n",
       " 'METHODS\\tA control group consisting of @ healthy subjects was included .\\n',\n",
       " 'METHODS\\tAn experienced sonographer measured the CSA and thickness-to-width ( T/W ) ratio of the tibial nerve , as well as the thickness of the flexor retinaculum .\\n',\n",
       " 'RESULTS\\tCSA is significantly larger in patients with painful DPN ( @ @ mm ( @ ) ) than in control subjects ( @ @ mm ( @ ) ) , P = @ .\\n',\n",
       " 'RESULTS\\tThe T/W ratio in patients with painful DPN is @ and in control subjects @ , P = @ .\\n',\n",
       " 'RESULTS\\tPatients with DPN have a significantly thicker retinaculum ( @ mm ) than control subjects ( @ mm ) , P < @ .\\n',\n",
       " 'RESULTS\\tMean follow-up was @ weeks ( range @-@ ) .\\n',\n",
       " 'RESULTS\\tDifference between baseline and follow-up in the operated leg was @ mm ( @ ) and in the control leg @ mm ( @ ) , P = @ .\\n',\n",
       " 'CONCLUSIONS\\tDecompression of the tibial nerve does not result in a significant difference between baseline and follow-up in CSA using ultrasound between the operated and control leg .\\n',\n",
       " 'CONCLUSIONS\\tUltrasound measurements show a significantly increased CSA , a significantly thicker retinaculum , and a significantly increased T/W ratio in patients with painful DPN compared with healthy control subjects .\\n',\n",
       " 'CONCLUSIONS\\tClinical trial reg .\\n',\n",
       " 'CONCLUSIONS\\tno .\\n',\n",
       " 'CONCLUSIONS\\tNTR@ , www.trialregister.nl .\\n',\n",
       " '\\n',\n",
       " '###25018097\\n',\n",
       " 'BACKGROUND\\tA community-based randomized trial was conducted in Costa Rica to evaluate the HPV-@ / @ AS@-adjuvanted vaccine ( NCT@ ) .\\n',\n",
       " 'BACKGROUND\\tThe primary objective was to evaluate efficacy of the vaccine to prevent cervical intraepithelial neoplasia @ or more severe disease ( CIN@ + ) associated with incident HPV-@ / @ cervical infections .\\n',\n",
       " 'BACKGROUND\\tSecondary objectives were to evaluate efficacy against CIN@ + associated with incident cervical infection by any oncogenic HPVs and to evaluate duration of protection against incident cervical infection with HPV-@ / @ .\\n',\n",
       " 'BACKGROUND\\tVaccine safety and immunogenicity over the @-year follow-up were also evaluated .\\n',\n",
       " 'METHODS\\tWe randomized ( @ HPV arm ; @ control arm ) , vaccinated ( HPV-@ / @ or Hepatitis A ) and followed ( median @ months ) @ healthy women aged @-@ years .\\n',\n",
       " 'METHODS\\t@ women ( @ HPV arm ; @ control arm ) were included in the according to protocol analysis for efficacy .\\n',\n",
       " 'METHODS\\tThe full cohort was evaluated for safety .\\n',\n",
       " 'METHODS\\tImmunogenicity was considered on a subset of @ ( HPV-@ ) and @ ( HPV-@ ) women .\\n',\n",
       " 'METHODS\\tHPV type was assessed by PCR on cervical specimens .\\n',\n",
       " 'METHODS\\tImmunogenicity was assessed using ELISA and inhibition enzyme immunoassays .\\n',\n",
       " 'METHODS\\tDisease outcomes were histologically confirmed .\\n',\n",
       " 'METHODS\\tVaccine efficacy and @ % confidence intervals ( @ % CI ) were computed .\\n',\n",
       " 'RESULTS\\tVaccine efficacy was @ % ( @ % CI : @-@ @ ; N = @ events total ) against HPV-@ / @ associated CIN@ + , @ % ( @ % CI : @-@ @ ; N = @ events total ) against CIN@ + associated with non-HPV-@ / @ oncogenic HPVs and @ % ( @ % CI : @-@ @ ; N = @ events total ) against CIN@ + irrespective of HPV type .\\n',\n",
       " 'RESULTS\\tThe vaccine had an acceptable safety profile and induced robust and long-lasting antibody responses .\\n',\n",
       " 'CONCLUSIONS\\tOur findings confirm the high efficacy and immunogenicity of the HPV-@ / @ vaccine against incident HPV infections and cervical disease associated with HPV-@ / @ and other oncogenic HPV types .\\n',\n",
       " 'CONCLUSIONS\\tThese results will serve as a benchmark to which we can compare future findings from the ongoing extended follow-up of participants in the Costa Rica trial .\\n',\n",
       " 'BACKGROUND\\tRegistered with clinicaltrials.gov : NCT@ .\\n',\n",
       " '\\n',\n",
       " '###24736930\\n',\n",
       " 'BACKGROUND\\tThere is a long-held concept among spine surgeons that endoscopic lumbar discectomy procedures are reserved for small-contained disc herniation ; @-year follow-up has not been reported .\\n',\n",
       " 'BACKGROUND\\tThe purpose of this study is to assess microendoscopic discectomy ( MED ) in patients with large uncontained lumbar disc herniation ( the antero-posterior diameter of the extruded fragment is @-@ mm or more on axial cuts of MRI ) and report long-term outcome .\\n',\n",
       " 'METHODS\\tOne hundred eighty-five patients with MED or standard open discectomy underwent follow-up for @ years .\\n',\n",
       " 'METHODS\\tPrimary ( clinical ) outcomes data included Numerical Rating Scale ( NRS ) for back and leg symptoms and Oswestry Disability Index ( ODI ) to quantify pain and disability , respectively .\\n',\n",
       " 'METHODS\\tSecondary ( objective ) outcomes data included operative time , blood loss , postoperative analgesics , length of hospital stay , time to return to work , reoperation and complication rate , patient satisfaction index ( PSI ) , and modified ( MacNab ) criteria .\\n',\n",
       " 'RESULTS\\tAt the end of the follow-up , the leg pain relief was statistically significant for both groups .\\n',\n",
       " 'RESULTS\\tNRS back pain , ODI , PSI and MacNab criteria showed significant deterioration for control group .\\n',\n",
       " 'RESULTS\\tSecondary outcomes data of MED group were significantly better than the control group .\\n',\n",
       " 'CONCLUSIONS\\tLarge , uncontained , lumbar disc herniations can be sufficiently removed using MED which is an effective alternative to open discectomy procedures with remarkable long-term outcome .\\n',\n",
       " 'CONCLUSIONS\\tAlthough the neurological outcome of the two procedures is the same , the morbidity of MED is significantly less than open discectomy .\\n',\n",
       " 'CONCLUSIONS\\tMaximum benefit can be gained if we adhere to strict selection criteria .\\n',\n",
       " 'CONCLUSIONS\\tThe optimum indication is single - or multi-level radiculopathy secondary to a single-level , large , uncontained , lumbar disc herniation .\\n',\n",
       " '\\n',\n",
       " '###25498992\\n',\n",
       " 'BACKGROUND\\tHeart failure ( HF ) patients suffer from frequent and repeated hospitalizations , causing a substantial economic burden on society .\\n',\n",
       " 'BACKGROUND\\tHospitalizations can be reduced considerably by better compliance with self-care .\\n',\n",
       " \"BACKGROUND\\tHome telemonitoring has the potential to boost patients ' compliance with self-care , although the results are still contradictory .\\n\",\n",
       " 'OBJECTIVE\\tA randomized controlled trial was conducted in order to study whether the multidisciplinary care of heart failure patients promoted with telemonitoring leads to decreased HF-related hospitalization .\\n',\n",
       " 'METHODS\\tHF patients were eligible whose left ventricular ejection fraction was lower than @ % , NYHA functional class @ , and who needed regular follow-up .\\n',\n",
       " 'METHODS\\tPatients in the telemonitoring group ( n = @ ) measured their body weight , blood pressure , and pulse and answered symptom-related questions on a weekly basis , reporting their values to the heart failure nurse using a mobile phone app .\\n',\n",
       " 'METHODS\\tThe heart failure nurse followed the status of patients weekly and if necessary contacted the patient .\\n',\n",
       " 'METHODS\\tThe primary outcome was the number of HF-related hospital days .\\n',\n",
       " 'METHODS\\tControl patients ( n = @ ) received multidisciplinary treatment according to standard practices .\\n',\n",
       " \"METHODS\\tPatients ' clinical status , use of health care resources , adherence , and user experience from the patients ' and the health care professionals ' perspective were studied .\\n\",\n",
       " 'RESULTS\\tAdherence , calculated as a proportion of weekly submitted self-measurements , was close to @ % .\\n',\n",
       " 'RESULTS\\tNo difference was found in the number of HF-related hospital days ( incidence rate ratio -LSB- IRR -RSB- = @ , P = @ ) , which was the primary outcome .\\n',\n",
       " 'RESULTS\\tThe intervention group used more health care resources : they paid an increased number of visits to the nurse ( IRR = @ , P < @ ) , spent more time at the nurse reception ( mean difference of @ minutes , P < @ ) , and there was a greater number of telephone contacts between the nurse and intervention patients ( IRR = @ , P < @ for nurse-induced contacts and IRR = @ , P = @ for patient-induced contacts ) .\\n',\n",
       " \"RESULTS\\tThere were no statistically significant differences in patients ' clinical health status or in their self-care behavior .\\n\",\n",
       " 'RESULTS\\tThe technology received excellent feedback from the patient and professional side with a high adherence rate throughout the study .\\n',\n",
       " \"CONCLUSIONS\\tHome telemonitoring did not reduce the number of patients ' HF-related hospital days and did not improve the patients ' clinical condition .\\n\",\n",
       " 'CONCLUSIONS\\tPatients in the telemonitoring group contacted the Cardiology Outpatient Clinic more frequently , and on this way increased the use of health care resources .\\n',\n",
       " 'BACKGROUND\\tClinicaltrials.gov NCT@ ; http://clinicaltrials.gov/show/NCT@ ( Archived by WebCite at http://www.webcitation.org/@UFxiCk@Z ) .\\n',\n",
       " '\\n',\n",
       " '###24411490\\n',\n",
       " 'OBJECTIVE\\tProbiotics help maintain balance in composition of the gut microbiota , and have been considered as a potential treatment for obesity .\\n',\n",
       " 'OBJECTIVE\\tThis study was conducted in order to assess the effects of probiotics when combined with herbal medicine in treatment of obesity .\\n',\n",
       " 'OBJECTIVE\\tProbiotics were tested for the ability to modulate gut microbiota , gut permeability , and endotoxin level , which may have correlation with factors involved in obesity .\\n',\n",
       " 'METHODS\\tA randomized , double-blind , placebo controlled study was conducted , in which patients with higher BMI ( > @kg/m ( @ ) ) and waist circumference ( > @cm ) were enrolled and randomly assigned to receive Bofutsushosan with either probiotics or placebo capsules for a period of eight weeks .\\n',\n",
       " 'METHODS\\tAssessment of body composition parameters , metabolic biomarkers , endotoxin level , gut permeability , and fecal bacteria in stool was performed at baseline and at week @ .\\n',\n",
       " 'METHODS\\tThe study was registered at the Clinical Research Information Service , approved by the Korea National Institute of Health ( KCT@ ) .\\n',\n",
       " 'RESULTS\\tAlthough both groups showed a significant reduction in weight and waist circumference ( p = @ ) , no significant differences in body composition and metabolic markers were observed .\\n',\n",
       " 'RESULTS\\tIn correlation analysis , change in body composition showed positive correlation with endotoxin level ( r = @ , p < @ for BW ; and r = @ , p < @ for fat mass ) and the population of gut Lactobacillus plantarum ( r = @ , p < @ for BW ; and r = @ , p < @ for BMI ) .\\n',\n",
       " 'RESULTS\\tThe Gram negative bacterial population in gut also exhibited positive correlation with changes in body composition ( WC ) and total cholesterol level ( r = @ , and @ , for the former and later parameters , respectively , p < @ for both ) .\\n',\n",
       " 'RESULTS\\tWhile , the profile of gut Bifidobacterium breve population showed negative correlation with endotoxin level ( r = -@ , p < @ ) .\\n',\n",
       " 'CONCLUSIONS\\tCorrelations between gut microbiota and change in body composition indicate that probiotics may influence energy metabolism in obesity .\\n',\n",
       " 'CONCLUSIONS\\tCorrelation between endotoxin level and weight reduction indicates that probiotics may play an important role in prevention of endotoxin production , which can lead to gut microbiota dysbiosis associated with obesity .\\n',\n",
       " '\\n',\n",
       " '###24471516\\n',\n",
       " 'OBJECTIVE\\tThe objective of this study is to analyze the effects of a @-week indoor intermittent training program on lung function , physical capacity , body composition and quality of life in children with asthma .\\n',\n",
       " 'METHODS\\tParticipants were randomized in an experimental group ( EG , @ children , age = @ years ) and in a control group ( CG , @ children , age = @ years ) .\\n',\n",
       " 'METHODS\\tThe training program was conducted indoors and consisted of alternating high - and low-intensity stimuli , for three sessions of @min/week , for @ weeks .\\n',\n",
       " \"METHODS\\tPhysical exercise and sports activities were organized to follow the criteria of the American College of Sports Medicine ( @ ) and previous interventions ' studies .\\n\",\n",
       " 'RESULTS\\tIn EG , there was a significant improvement ( p < @ ) in FEV@ , FEV@ , @MWT , handgrip strength , CMJ and flexibility .\\n',\n",
       " 'RESULTS\\tReductions in BMI and fat mass as well as an increase in quality of life were all shown .\\n',\n",
       " 'RESULTS\\tThe dyspnea index decreased significantly and there were no episodes of EIA .\\n',\n",
       " 'RESULTS\\tThere is a significant positive correlation ( p < @ ) between the FEV@ with handgrip strength and @MWT and a negative correlation with fat mass .\\n',\n",
       " 'CONCLUSIONS\\tAn indoor intermittent training program with these characteristics has improved lung function , physical capacity , body composition and quality of life in children with asthma .\\n',\n",
       " 'CONCLUSIONS\\tThese training adaptations are particularly relevant for those patients suffering from asthma as a regular physical exercise routine will greatly improve their quality of life .\\n',\n",
       " '\\n',\n",
       " '###26255514\\n',\n",
       " 'OBJECTIVE\\tTo observe the efficacy of catgut implantation at back-shu points in treatment of mild perimenopausal depression of kidney , deficiency and liver stagnation syndrome and analyze its essential function on target symptoms .\\n',\n",
       " 'METHODS\\tForty-five cases were randomized into a catgut implantation group ( @ cases ) and atid acupuncture group ( @ cases ) .\\n',\n",
       " 'METHODS\\tIn the catgut implantation group , catguts were implanted at Shenshu ( BL @ ) , Ganshu ( BL @ ) , Xinshu ( BL @ ) , Pishu ( BL @ ) , etc. , once every week .\\n',\n",
       " 'METHODS\\tIn the acupuncture group , the conventional acupuncture was applied to the same acupoints as the catgut implantation group , once every two days .\\n',\n",
       " 'METHODS\\tThe : treatment of @ weeks made one session , and continuous @ sessions were required .\\n',\n",
       " 'METHODS\\tThe efficacy was evaluated in , @ sessions .\\n',\n",
       " 'METHODS\\tThe follow-up started in the @th week .\\n',\n",
       " 'METHODS\\tBefore treatment , after treatment and in the follow-up period , Kupperman score and the total score in Hamilton depression scale ( HAMD ) , as well as the factor score were observed in the patients separately .\\n',\n",
       " 'RESULTS\\tKupperman score , the total HAMD score and the scores in the items of anxiety/somatization , retardation , sleep disorder and cognitive disorder after treatment were all reduced significantly as compared with those before treatment in the two groups ( P < @ , P < @ ) .\\n',\n",
       " 'RESULTS\\tIn the follow-up period , the difference in Kupperman was not significant in comparison with that after treatment in the catgut implantation : group ( P > @ ) .\\n',\n",
       " 'RESULTS\\tThe total HAMD score and sleep disorder were reduced significantly as compared with those after treatment in the catgut implantation group ( both P < @ ) ; in the acupuncture group , Kupperman score , the total HAMD score and sleep disorder were all increased as compared with those after treatment ( all P < @ ) .\\n',\n",
       " 'RESULTS\\tIn ; the catgut implantation group , the total HAMD score was lower than that in the acupuncture group ( P < @ ) , and the scores in the items of retardation and sleep disorder were reduced significantly as compared with those in the acupuncture group ( both P < @ ) .\\n',\n",
       " 'CONCLUSIONS\\tThe catgut implantation at back-shu points alleviates perimenopasual sympton is in patients of mild perimenopausal depression of kidney deficiency and liver stagnation syndrome .\\n',\n",
       " \"CONCLUSIONS\\tThis therapy effectively relieves depressive disorders by regulating the target symptoms such as anxiety / somatization , retardation , sleep disorder and cognitive ' disorder .\\n\",\n",
       " 'CONCLUSIONS\\tThe long-term efficacy of this therapy is better than the conventional acupuncture .\\n',\n",
       " '\\n',\n",
       " '###24952391\\n',\n",
       " 'OBJECTIVE\\tUp to @ % of patients who undergo a percutaneous coronary intervention show some limitation in the use of drug-eluting stents .\\n',\n",
       " 'OBJECTIVE\\tThe aim of this study was to evaluate if titanium-nitride-oxide-coated stents could be a good alternative to everolimus-eluting stents in diabetic patients .\\n',\n",
       " 'METHODS\\tA total of @ diabetic patients with lesions at moderate risk of restenosis ( exclusion criteria : diameter < @ mm or length > @ mm in vessels < @mm , chronic occlusion ) were randomized to a titanium group ( @ patients ) or an everolimus group ( @ patients ) .\\n',\n",
       " 'RESULTS\\tBaseline characteristics were well balanced ; @ % of patients were insulin dependent .\\n',\n",
       " 'RESULTS\\tAt @ year , the incidence of major adverse cardiac events ( death , nonfatal myocardial infarction , stroke , or repeat target vessel revascularization ) was significantly higher in the titanium group than in the everolimus group ( total , @ % vs @ % ; P = @ ; noninsulin-dependent subgroup , @ % vs @ % ; P = @ ; insulin-dependent subgroup , @ % vs @ % ; P = @ ) .\\n',\n",
       " 'RESULTS\\tThe incidence of death , nonfatal myocardial infarction , stroke , or any revascularization was @ % in the titanium group and @ % in the everolimus group ( P = @ ) .\\n',\n",
       " 'RESULTS\\tTarget lesion and vessel revascularizations occurred in @ % compared with @ % ( P = @ ) and in @ % compared with @ % ( P = @ ) in the titanium and everolimus groups , respectively .\\n',\n",
       " 'RESULTS\\tAngiographic follow-up at @ months showed significantly less late lumen loss in the everolimus group ( in-segment , @ -LSB- standard deviation , @ ) mm vs -@ -LSB- @ -RSB- mm ; in-stent , @ -LSB- @ -RSB- mm vs @ -LSB- @ -RSB- mm ; P < @ ) .\\n',\n",
       " 'CONCLUSIONS\\tThe everolimus-eluting stent is superior to the titanium stent for clinical and angiographic end points in diabetic patients with lesions at moderate risk of restenosis .\\n',\n",
       " '\\n',\n",
       " '###25516006\\n',\n",
       " 'OBJECTIVE\\tTo evaluate the safety of the fixed combination of ibuprofen and famotidine compared with ibuprofen alone from two @-week , multicenter , double-blind trials designed to evaluate the comparative incidence of endoscopically documented upper gastrointestinal ulcers and a @-week double-blind extension study .\\n',\n",
       " 'METHODS\\tSafety was analyzed by pooling data from the two double-blind trials and the follow-on study .\\n',\n",
       " 'METHODS\\tSafety was assessed by monitoring the incidence , causality , and severity of adverse events ( AEs ) .\\n',\n",
       " 'RESULTS\\tIn the pivotal efficacy and safety trials , discontinuation rates due to any cause and dyspepsia were significantly lower for the ibuprofen/famotidine combination versus ibuprofen alone .\\n',\n",
       " 'RESULTS\\tOther than dyspepsia , gastrointestinal and cardiovascular AEs of special interest were similar .\\n',\n",
       " 'RESULTS\\tEvents judged to be treatment related were significantly lower with the ibuprofen/famotidine combination ( @ % vs. @ % ) .\\n',\n",
       " 'RESULTS\\tIn the safety extension population , there were no differences in the discontinuation rates and the reporting of AEs or serious AEs ( SAEs ) between the two groups .\\n',\n",
       " 'RESULTS\\tGastrointestinal-related events were similar between the groups .\\n',\n",
       " 'RESULTS\\tIncidence of cardiovascular-related AEs of special interest were @ % ( ibuprofen/famotidine ) and @ % ( ibuprofen ) ( p = @ ) , possibly due to a higher number of rheumatoid arthritis patients in the combination group .\\n',\n",
       " 'RESULTS\\tOf these , @ % were reports of hypertension ( @ % ibuprofen/famotidine vs. @ % ibuprofen ) .\\n',\n",
       " 'RESULTS\\tThree cases of hypertension in the ibuprofen/famotidine group were considered treatment related .\\n',\n",
       " 'RESULTS\\tThe probability of a cardiovascular event decreased during days @-@ of treatment and remained low with continued treatment .\\n',\n",
       " 'CONCLUSIONS\\tOne-year safety data from two pivotal trials and a long-term extension study indicate that the ibuprofen/famotidine combination demonstrates a favorable gastrointestinal safety profile and more patients continued on therapy compared to ibuprofen alone .\\n',\n",
       " 'CONCLUSIONS\\tNo new safety signals have been identified .\\n',\n",
       " 'CONCLUSIONS\\tThese data offer additional evidence supporting a new therapeutic option to improve gastrointestinal safety and adherence for patients who require long-term ibuprofen .\\n',\n",
       " '\\n',\n",
       " '###24851689\\n',\n",
       " 'OBJECTIVE\\tTo compare the effects of volume-controlled ventilation ( VCV ) and pressure-controlled volume-guaranteed ( PCV-VG ) mode during one-lung ventilation ( OLV ) on circulation , pulmonary function and lung injury .\\n',\n",
       " 'METHODS\\t@ February to @ March in Ningbo No@ .\\n',\n",
       " 'METHODS\\tHospital cardiothoracic surgery , @ patients aged @ to @ years ( ASA grade II-III ) undergoing elective thoracoscopic lobectomy were randomly divided into VCV group and PCV-VG group , with @ cases in each group .\\n',\n",
       " 'METHODS\\tAfter anesthesia induction and endotracheal intubation , endobronchial blocker was inserted to start OLV .\\n',\n",
       " 'METHODS\\tHeart rate ( HR ) , mean arterial pressure ( MAP ) , measured tidal volume ( TV ) , peak airway pressure ( Ppeak ) , airway resistance ( Raw ) , chest compliance ( Cdyn ) and the end-tidal carbon dioxide pressure ( PetCO ( @ ) ) were recorded at the time point of @ minutes after turning to the lateral position , @ minutes and @ minutes after OLV , and @ minutes after the resumption of two lung ventilation .\\n',\n",
       " 'METHODS\\tIn the meanwhile , arterial blood gas analysis was conducted to measure indicators of pH , oxygen tension ( PaO ( @ ) ) and carbon dioxide partial pressure ( PaCO ( @ ) ) .\\n',\n",
       " 'METHODS\\tBlood was drawn before induction , @ hour after OLV and @ hour after the end of surgery , and the concentration of interleukin-@ ( IL-@ ) and tumor necrosis factor-alpha ( TNF - ) were detected by enzyme-linked immunosorbent assay ( ELISA ) .\\n',\n",
       " 'RESULTS\\tHR , MAP , TV , PetCO ( @ ) , pH and PaCO ( @ ) in two groups at the time point of @ minutes after turning to the lateral position , @ minutes and @ minutes after OLV , and @ minutes after the resumption of two lung ventilation showed no significant difference ( P > @ ) .\\n',\n",
       " 'RESULTS\\tAt the point of @ minutes after turning to the lateral position and @ minutes after two lung ventilation , Ppeak and Cdyn of two groups were significantly different ( P < @ ) ( Ppeak :@ @ cmH ( @ ) O , @ @ cmH ( @ ) O for VCV group and @ @ cmH ( @ ) O , @ @ cmH ( @ ) O for PCV-VG group ; Cdyn : @ @ ml/cmH ( @ ) O , @ @ ml/cmH@O for VCV group and @ @ ml/cmH ( @ ) O , @ @ ml/cmH ( @ ) O for PCV-VG group ) .\\n',\n",
       " 'RESULTS\\tCompared with VCV group , PCV-VG group showed a lower Ppeak @ minutes and @ minutes after OLV -LSB- ( @ @ cmH ( @ ) O ) vs ( @ @ cmH ( @ ) O ) and ( @ @ cmH ( @ ) O ) vs ( @ @ cmH ( @ ) O ) with a higher Cdyn at the same point ( @ @ ml/cmH ( @ ) O ) vs ( @ @ ml/cmH ( @ ) O ) and @ @ ml/cmH ( @ ) O ) vs ( @ @ ml/cmH ( @ ) O ) -RSB- ( P < @ ) .\\n',\n",
       " 'RESULTS\\tCompared with VCV group,IL-@ and TNF - of PCV-VG group @ hour after OLV and @ hour after the end of surgery were significantly lower ( P < @ ) ( IL-@ : @ @ vs @ @ pg/ml and @ @ vs @ @ pg/ml ; TNF - : @ @ vs @ @ pg/ml and @ @ vs. @ @ pg/ml ) .\\n',\n",
       " 'CONCLUSIONS\\tDuring one-lung ventilation in thoracoscopic lobectomy , PCV-VG mode has a competitive advantage over VCV mode in terms of pulmonary function and lung protection .\\n',\n",
       " '\\n',\n",
       " '###24748400\\n',\n",
       " 'OBJECTIVE\\tWe compared the recovery profile of propofol and sevoflurane when used for maintenance of anesthesia in elective day care operative procedures .\\n',\n",
       " 'METHODS\\tOne hundred ASA physical status I and II patients , aged between @ and @ years , were randomly assigned to receive either propofol-nitrous oxide or sevoflurane-nitrous oxide maintenance of anesthesia .\\n',\n",
       " 'METHODS\\tEarly and intermediate recovery in terms of cognitive and ambulatory functions was recorded .\\n',\n",
       " 'METHODS\\tPsychomotor testing , in the form of Trieger dot test and digit symbol substitution test , were performed before surgery and in the post-anesthesia care unit at @ min , @ min , @ h , @ h , and @ h following nitrous oxide switch-off to evaluate intermediate recovery .\\n',\n",
       " \"RESULTS\\tThere were no significant differences in recovery of early cognitive functions between the two groups , except that patients in the sevoflurane group were more responsive at around @ min following nitrous oxide switch-off and `` recalled address '' earlier than patients in the propofol group .\\n\",\n",
       " \"RESULTS\\tThere was no significant difference in between the two groups with regard to `` home-readiness . ''\\n\",\n",
       " \"CONCLUSIONS\\tRecovery from sevoflurane anesthesia , especially with regard to cognitive functions , may be slightly faster than from propofol , but the difference is not sufficiently significant to affect the time to `` home-readiness '' in patients undergoing day care surgery .\\n\",\n",
       " '\\n',\n",
       " '###24594499\\n',\n",
       " \"BACKGROUND\\tVertigo imposes considerable health restrictions with significant impact on the patient 's quality of life .\\n\",\n",
       " 'BACKGROUND\\tThe most effective antivertigo agent is undetermined thus far .\\n',\n",
       " 'OBJECTIVE\\tThis study was performed to assess whether promethazine has superior vertigo reduction compared with lorazepam in ED patients .\\n',\n",
       " 'METHODS\\tIn this randomized , double-blind , parallel group trial @ patients were assigned ( @:@ ratio ) to receive either promethazine , @ mg intravenously , or lorazepam , @ mg intravenously .\\n',\n",
       " 'METHODS\\tPrimary endpoint was mean change in vertigo intensity at @ hours measured using visual analog scale ( VAS ) .\\n',\n",
       " 'METHODS\\tSecondary endpoints were mean change in nausea score , need for second dose of study medications , and adverse events ( AEs ) .\\n',\n",
       " 'RESULTS\\tPromethazine was associated with significantly more reduction ( @ mm ) in vertigo than lorazepam ( @ mm , p < @ ) .\\n',\n",
       " 'RESULTS\\tMean change in nausea score @ hours after drug injection on the VAS was @ mm for promethazine and @ for lorazepam ( p = @ ) .\\n',\n",
       " 'RESULTS\\tThe most frequently reported AEs were lethargy ( @ % in lorazepam group , @ % in promethazine group , p = @ ) and drowsiness ( @ % for promethazine , @ % for lorazepam , p = @ ) .\\n',\n",
       " 'CONCLUSIONS\\tOur study demonstrated the evidence that promethazine is superior to lorazepam in management of peripheral vertigo and vertigo-related nausea in ED adults .\\n',\n",
       " '\\n',\n",
       " '###24604111\\n',\n",
       " 'BACKGROUND\\tDuring lower limb lengthening , distraction-induced muscle pain and surrounding joint contractures are frustrating complications for which few effective treatments are available .\\n',\n",
       " 'OBJECTIVE\\tWe evaluated Botulinum Toxin Type A ( BtX-A ) injection in the calf muscles during human tibial distraction osteogenesis .\\n',\n",
       " 'OBJECTIVE\\tWe hypothesized that it may decrease calf pain and increase ROM of the surrounding joints by reducing muscle stiffness .\\n',\n",
       " 'METHODS\\tBetween April @ and January @ , we evaluated @ patients undergoing bilateral tibia lengthening who met prespecified inclusion criteria .\\n',\n",
       " 'METHODS\\tAll patients underwent stature lengthening with lengthening over a nail or lengthening and then nailing .\\n',\n",
       " 'METHODS\\tBtX-A ( @IU ) was injected at the calf muscle only in one leg for each patient and the same amount of sterile normal saline was injected into the other leg as a control .\\n',\n",
       " 'METHODS\\tSelection of the leg receiving the toxin was randomized .\\n',\n",
       " 'METHODS\\tClinical evaluation included a VAS score for calf pain and measurement of ROM of the knees and ankles and calf circumference , with evaluations performed in a double-blinded manner .\\n',\n",
       " 'METHODS\\tSide-to-side differences were analyzed until the end of consolidation phase .\\n',\n",
       " 'METHODS\\tMinimum followup was @months ( mean , @months ; range , @-@months ) .\\n',\n",
       " 'METHODS\\tThe distraction rate and the final length gain were similar in the treated and control limbs .\\n',\n",
       " 'METHODS\\tA priori power analysis suggested that @ legs were required to achieve statistical significance of @ with @ % of power to detect a @ % difference in treatment effect between treatment and control groups .\\n',\n",
       " 'RESULTS\\tThere were no differences in calf pain , knee and ankle ROM , and maximal calf circumferences between the two legs at each time point .\\n',\n",
       " 'CONCLUSIONS\\tLocal injection of @IU BtX-A at the human calf muscle does not appear to reduce calf pain or help enhance ROM of the knee and ankle during tibial lengthening .\\n',\n",
       " 'CONCLUSIONS\\tHowever , the small sample size provided sufficient power to detect only relatively large clinical effects ; future , larger trials will be needed to determine whether smaller differences are present .\\n',\n",
       " 'METHODS\\tLevel II , therapeutic study .\\n',\n",
       " 'METHODS\\tSee Instructions for Authors for a complete description of levels of evidence .\\n',\n",
       " '\\n',\n",
       " '###25872390\\n',\n",
       " 'OBJECTIVE\\tTo assess potential of preoperative therapy with local steroid and non-steroid anti-inflammatory drugs ( SAIDs and NSAIDs ) for prolonging the hypotensive effect of trabeculectomy .\\n',\n",
       " 'METHODS\\tA total of @ patients with primary open-angle glaucoma planed for trabeculectomy were randomized into @ groups of @ each : @ groups that differed in the studied drug ( nepafenac , dexamethasone , or their non-fixed combination ) and a control group with no preoperative therapy .\\n',\n",
       " 'METHODS\\tThe patients instilled @ drop of either drug b.i.d. for @ weeks before the surgery and were examined each day of the first week and then at weeks @ , @ , @ and months @ , @ , and @ .\\n',\n",
       " 'METHODS\\tThe rate of postoperative surgical and medical interventions ( needling , needling revision , hypotensive therapy ) was used for outcome evaluation .\\n',\n",
       " 'RESULTS\\tPostoperative needling was required in @ % of the controls , @ % of the NSAIDs and @ % of the SAIDs patients as well as @ % the combination-therapy patients .\\n',\n",
       " 'RESULTS\\tNeedling revision had to be performed in @ % of patients from the control group and @ % of patients from the NSAIDs group .\\n',\n",
       " 'RESULTS\\tPatients from the steroid and combination-therapy groups had no need in needling procedure .\\n',\n",
       " 'RESULTS\\tFurther hypotensive therapy was required in @ % of the control group , @ % of the NSAIDs group , @ % of the SAIDs group and @ % of the combination-therapy group .\\n',\n",
       " 'RESULTS\\tDuring the first postoperative year complete success of the treatment was achieved in @ % of the controls , @ % of the NSAIDs patients , @ % of the SAIDs patients , and @ % of those under combination therapy .\\n',\n",
       " 'RESULTS\\tQualified success during the same period was achieved in @ % of cases .\\n',\n",
       " 'CONCLUSIONS\\tPreoperative local anti-inflammatory therapy helped to increase the one-year complete success rate after trabeculectomy as compared with the controls .\\n',\n",
       " 'CONCLUSIONS\\tThe most significant hypotensive effect was noted in the combination-therapy group ( @ % ) , less significant -- in the steroid and non-steroid monotherapy groups ( @ % and @ % correspondingly ) .\\n',\n",
       " 'CONCLUSIONS\\tA negative correlation was noted between the use of nepafenac and dexamethasone and other measures aimed at increasing the hypotensive effect of glaucoma surgery .\\n',\n",
       " '\\n',\n",
       " '###25899215\\n',\n",
       " 'METHODS\\tCase-control study ; ecological study .\\n',\n",
       " 'OBJECTIVE\\tTo examine the efficacy of wearing compression stockings to prevent muscle damage and to maintain running performance during a marathon competition .\\n',\n",
       " 'BACKGROUND\\tExercise-induced muscle damage has been identified as one of the main causes of the progressive decrease in running and muscular performance found during marathon races .\\n',\n",
       " 'METHODS\\tThirty-four experienced runners were pair-matched for age , anthropometric data , and best race time in the marathon , and randomly assigned to a control group ( n = @ ) of runners who wore conventional socks or to a group of runners who wore foot-to-knee graduated compression stockings ( n = @ ) .\\n',\n",
       " 'METHODS\\tBefore and after the race , a sample of venous blood was obtained , and jump height and leg muscle power were measured during a countermovement jump .\\n',\n",
       " 'METHODS\\tSerum myoglobin and creatine kinase concentrations were determined as blood markers of muscle fiber damage .\\n',\n",
       " 'RESULTS\\tTotal race time was not different between the control group and the compression stockings group ( @ @ and @ @ minutes , respectively ; P = @ ) .\\n',\n",
       " 'RESULTS\\tBetween the control group and the compression stockings group , postrace reductions in leg muscle power ( -@ % @ % versus -@ % @ % , respectively ; P = @ ) and jump height ( -@ % @ % versus -@ % .\\n',\n",
       " 'RESULTS\\t@ % , respectively ; P = @ ) were similar .\\n',\n",
       " 'RESULTS\\tAt the end of the race , there were no differences between the control group and the compression stockings group in serum myoglobin ( @ @ ngmL ( -@ ) versus @ @ ngmL ( -@ ) , respectively ; P = @ ) and creatine kinase concentration ( @ @ UL ( -@ ) versus @ @ UL ( -@ ) , respectively ; P = @ ) .\\n',\n",
       " 'CONCLUSIONS\\tThe use of compression stockings did not improve running pace and did not prevent exercise-induced muscle damage during the marathon .\\n',\n",
       " 'CONCLUSIONS\\tWearing compression stockings during long-distance running events is an ineffective strategy to avoid the deleterious effects of muscle damage on running performance .\\n',\n",
       " 'METHODS\\tTherapy , level @b .\\n',\n",
       " '\\n',\n",
       " '###24361853\\n',\n",
       " 'BACKGROUND\\tThe relationships of left ventricular ( LV ) longitudinal and circumferential systolic dysfunction with diastolic performance in hypertensive patients have never been compared .\\n',\n",
       " \"RESULTS\\tIn @ asymptomatic hypertensive patients , circumferential function was assessed with the use of midwall fractional shortening ( mFS ) and stress-corrected mFS ( SCmFS ) , whereas longitudinal function was assessed with the use of left atrioventricular plane displacement ( AVPD ) and systolic mitral annulus velocity ( s ' ) .\\n\",\n",
       " \"RESULTS\\tEarly diastolic annular velocity ( e ' ) and the E/e ' ratio were measured .\\n\",\n",
       " 'RESULTS\\tGlobal longitudinal and circumferential strain were determined in a subset of @ patients .\\n',\n",
       " \"RESULTS\\te ' was linearly related to all systolic indexes ( AVPD : R = @ ; s ' : R = @ ; mFS : R = @ ; SCmFS : R = @ ; all P < @ ) , but the correlations were stronger with longitudinal indexes than with circumferential ones ( P < @ ) .\\n\",\n",
       " \"RESULTS\\tE/e ' was nonlinearly related to AVPD ( R = -@ ; P < @ ) and s ' ( R = -@ ; P < @ ) and showed no relationship with mFS and SCmFS .\\n\",\n",
       " \"RESULTS\\tLongitudinal indexes were superior to circumferential ones in predicting e ' < @ cm/s , E/e ' < @ , and E/e ' @ .\\n\",\n",
       " 'RESULTS\\tThe effect of LV geometry on LV diastolic function was evident among patients with preserved systolic longitudinal function , but was blunted among patients with impaired longitudinal function .\\n',\n",
       " \"RESULTS\\tIn multivariable analyses , only longitudinal indexes remained associated with e ' and E/e ' .\\n\",\n",
       " 'RESULTS\\tAnalyses using strains provided similar results .\\n',\n",
       " 'CONCLUSIONS\\tIn asymptomatic hypertensive subjects , LV diastolic performance is independently associated with longitudinal systolic dysfunction , but not with circumferential systolic dysfunction .\\n',\n",
       " 'CONCLUSIONS\\tSubtle longitudinal systolic impairment plays a role in mediating the effect of LV geometry on diastolic performance .\\n',\n",
       " 'CONCLUSIONS\\tThese findings may support the need of critically revising the concept of isolated diastolic dysfunction in these patients .\\n',\n",
       " '\\n',\n",
       " '###25395709\\n',\n",
       " 'BACKGROUND\\tMultiple Sclerosis ( MS ) is a chronic and disabling disease resulting in disabilities in young and middle-aged persons .\\n',\n",
       " 'BACKGROUND\\tIn this study , researchers explored the effect of yoga techniques on physical activities and sexual function among some Iranian women with MS.\\n',\n",
       " 'METHODS\\tIn this study , @ Iranian women with multiple sclerosis ( MS ) were placed in two equally divided control and case groups through random selection to assess pre-and post-effects of yoga exercises on their physical activities and sexual satisfaction levels .\\n',\n",
       " 'METHODS\\tWomen in case group were offered a series of yoga training and exercises for @ months , which consisted of @ sessions per month for @ to @ minutes at each session .\\n',\n",
       " 'METHODS\\tYoga training program included the @ principles of slow motions ( Hatayoga ) , respiratory exercises ( Pranayama ) and centralization to control mind via meditation , expansion and stasis ( Rajayoga ) .\\n',\n",
       " 'METHODS\\tAfter @ months both groups were surveyed using the initial questionnaire to evaluate and compare findings with the base-line data .\\n',\n",
       " 'RESULTS\\tResearchers found significant statistical difference in physical activity and sexual satisfaction levels among the women in case group ( P = @ ) .\\n',\n",
       " 'RESULTS\\tWomen in case group showed improvement in physical ability while women in control group manifested exacerbated symptoms .\\n',\n",
       " 'CONCLUSIONS\\tYoga techniques may improve physical activities and sexual satisfaction function of women with MS.\\n',\n",
       " '\\n',\n",
       " '###26080882\\n',\n",
       " 'OBJECTIVE\\tTo evaluate the safety and efficacy of antiplatelet therapy of ticagrelor on patients suffering from acute ST segment elevation myocardial infarction undergoing primary percutaneous coronary intervention .\\n',\n",
       " 'METHODS\\tIn the study , @ patients suffering from acute ST segment elevation myocardial infarction onset within @ h undergoing primary percutaneous coronary intervention from May to October in @ were randomly divided into ticagrelor group ( n = @ ) and clopidogrel group ( n = @ ) by using the method of random number table .\\n',\n",
       " 'METHODS\\tTicagrelor and clopidogrel antiplatelet treatment were used before and after operation .\\n',\n",
       " 'METHODS\\tTheir baseline data , coronary artery disease characteristics , platelet count , adenosine diphosphate ( ADP ) - induced platelet inhibition rate by thrombelastograph after @ days of treatment , the major adverse cardiovascular events of the follow up for @ months and bleeding complications were observed and compared in the two groups .\\n',\n",
       " 'RESULTS\\tThe differences between the two groups of patients with their baseline data , the features of coronary artery lesions , platelet count before and after @ days of treatment had no statistical significance ( P > @ ) .\\n',\n",
       " 'RESULTS\\tADP induced platelet inhibition rate -LSB- ( @ ) % -RSB- after @ days of treatment in ticagrelor group was significantly higher than that in clopidogrel group -LSB- ( @ ) % , P < @ -RSB- .\\n',\n",
       " 'RESULTS\\tThe two groups of patients were followed up for @ months , @ cases of major adverse cardiovascular events occurred in clopidogrel group , @ cases of major adverse cardiovascular events occurred in ticagrelor group , and there was significant difference between the two groups ( P < @ ) .\\n',\n",
       " 'RESULTS\\tThe two groups ( @ cases of @ patients in ticagrelor group vs. @ cases of @ patients in clopidogrel group ) had no statistically significant difference in bleeding complications ( P > @ ) .\\n',\n",
       " 'CONCLUSIONS\\tAntiplatelet therapy of ticagrelor on patients suffering from acute ST segment elevation myocardial infarction undergoing emergency PCI has good efficacy and safety .\\n',\n",
       " '\\n',\n",
       " '###25100336\\n',\n",
       " 'OBJECTIVE\\tTo evaluate the image quality , radiation dose and diagnostic accuracy of @kVp , high-pitch CT pulmonary angiography ( CTPA ) with iterative reconstruction using @ ml of contrast agent .\\n',\n",
       " 'METHODS\\tOne hundred patients with suspected pulmonary embolism ( PE ) were randomly divided into two groups ( n = @ each ; group A , @ kVp , @ pitch , @ ml of contrast medium and filtered back projection algorithm ; group B , @ kVp , @ pitch , @ ml of contrast medium and sinogram affirmed iterative reconstruction ) .\\n',\n",
       " 'METHODS\\tImage quality , diagnostic accuracy and radiation dose were evaluated and compared .\\n',\n",
       " 'RESULTS\\tMean CT numbers of pulmonary arteries in group B were higher than those in group A ( all P < @ ) .\\n',\n",
       " 'RESULTS\\tContrast-to-noise ratio and signal-to-noise ratio of group B were higher than those of group A ( both P < @ ) .\\n',\n",
       " 'RESULTS\\tThere was no significant difference in subjective image quality scores between two groups ( P = @ ) .\\n',\n",
       " 'RESULTS\\tThe interobserver agreement was excellent ( k = @ ) .\\n',\n",
       " 'RESULTS\\tThere was no significant difference in diagnostic accuracy between the two groups ( P > @ ) .\\n',\n",
       " 'RESULTS\\tCompared with group A , radiation dose of group B was reduced by @ % ( P < @ ) .\\n',\n",
       " 'CONCLUSIONS\\tHigh-pitch CTPA at @ kVp can obtain sufficient image quality in normal-weight individuals with @ ml of contrast agent and half the radiation dose of a conventional CTPA protocol .\\n',\n",
       " 'CONCLUSIONS\\tCTPA is feasible at @ kVp using only @ ml of contrast agent .\\n',\n",
       " 'CONCLUSIONS\\tHigh-pitch CTPA at @ kVp has an effective dose under @ mSv .\\n',\n",
       " 'CONCLUSIONS\\tThis CTPA protocol can obtain sufficient image quality in normal-weight individuals .\\n',\n",
       " '\\n',\n",
       " '###25267532\\n',\n",
       " 'BACKGROUND\\tFamilies express a need for guidance in helping their loved ones with anorexia nervosa ( AN ) .\\n',\n",
       " 'BACKGROUND\\tGuided self-help interventions can offer support to caregivers .\\n',\n",
       " 'METHODS\\tOne hundred seventy-eight adult AN patients and their caregivers were recruited from @ UK treatment centres .\\n',\n",
       " \"METHODS\\tFamilies were randomized to carers ' assessment , skills and information sharing ( C ) intervention + treatment as usual ( TAU ) or TAU alone .\\n\",\n",
       " 'METHODS\\tFeedback forms were sent at @months post-discharge and , if not returned , at @months .\\n',\n",
       " 'METHODS\\tOne hundred two ( @ % ) patient forms ( n = @TAU ; n = @C ) and @ ( @ % ) caregiver forms ( n = @TAU ; n = @C ) were returned .\\n',\n",
       " 'METHODS\\tTwo researchers coded data blind , using thematic analysis .\\n',\n",
       " 'RESULTS\\t( i ) Caregivers and patients express a need for post-discharge support .\\n',\n",
       " 'RESULTS\\t( ii ) Patients identify helpful and unhelpful support strategies , useful for developing future interventions .\\n',\n",
       " 'RESULTS\\t( iii ) Patients could identify positive caregiver behaviour changes targeted in intervention .\\n',\n",
       " 'RESULTS\\t( iv ) Guided self-help may benefit caregiver and sufferer , post-discharge .\\n',\n",
       " 'CONCLUSIONS\\tCaregiver interventions can be a useful tool that will improve the cost effectiveness of inpatient treatment by enhancing the well-being of caregivers and patients .\\n',\n",
       " '\\n',\n",
       " '###24799513\\n',\n",
       " 'BACKGROUND\\tCardiac mortality and electrophysiological dysfunction both increase with age .\\n',\n",
       " 'BACKGROUND\\tHeart rate variability ( HRV ) provides indices of autonomic function and electrophysiology that are associated with cardiac risk .\\n',\n",
       " 'BACKGROUND\\tHow habitual physical activity among older adults prospectively relates to HRV , including nonlinear indices of erratic sinus patterns , is not established .\\n',\n",
       " 'BACKGROUND\\tWe hypothesized that increasing the levels of both total leisure-time activity and walking would be prospectively associated with more favorable time-domain , frequency-domain , and nonlinear HRV measures in older adults .\\n',\n",
       " 'RESULTS\\tWe evaluated serial longitudinal measures of both physical activity and @-hour Holter HRV over @ years among @ older US adults in the community-based Cardiovascular Health Study .\\n',\n",
       " 'RESULTS\\tAfter multivariable adjustment , greater total leisure-time activity , walking distance , and walking pace were each prospectively associated with specific , more favorable HRV indices , including higher @-hour standard deviation of all normal-to-normal intervals ( Ptrend = @ , @ , @ , respectively ) and ultralow-frequency power ( Ptrend = @ , @ , @ , respectively ) .\\n',\n",
       " 'RESULTS\\tGreater walking pace was also associated with a higher short-term fractal scaling exponent ( Ptrend = @ ) and lower Poincar ratio ( Ptrend = @ ) , markers of less erratic sinus patterns .\\n',\n",
       " 'CONCLUSIONS\\tGreater total leisure-time activity , and walking alone , as well , were prospectively associated with more favorable and specific indices of autonomic function in older adults , including several suggestive of more normal circadian fluctuations and less erratic sinoatrial firing .\\n',\n",
       " 'CONCLUSIONS\\tOur results suggest potential mechanisms that might contribute to lower cardiovascular mortality with habitual physical activity later in life .\\n',\n",
       " '\\n',\n",
       " '###24573358\\n',\n",
       " 'OBJECTIVE\\tOur aim was to compare anatomical and functional outcome between vaginal colposuspension and transvaginal mesh .\\n',\n",
       " 'METHODS\\tThis was a prospective randomized controlled trial in a teaching hospital .\\n',\n",
       " 'METHODS\\tSixty-eight women with stage @ anterior vaginal wall prolapse according to the Pelvic Organ Prolapse Quantification ( POP-Q ) system were assessed , randomized , and analyzed .\\n',\n",
       " 'METHODS\\tPatients were randomized to anterior colporrhaphy with vaginal colposuspension ( n = @ ) or transvaginal mesh ( n = @ ) .\\n',\n",
       " 'METHODS\\tPrimary outcome was objective cure rate of the anterior vaginal wall , defined as POP-Q @ at @years .\\n',\n",
       " 'METHODS\\tSecondary outcomes were functional results , quality-of-life ( QoL ) scores , mesh-related morbidity , and onset of urinary incontinence .\\n',\n",
       " 'RESULTS\\tThe anatomical result for point Ba was significantly better at @years in the mesh group ( -@ cm ) than in the colposuspension group ( -@ cm ) ( p = @ ) .\\n',\n",
       " 'RESULTS\\tConcerning POP-Q stages , the anatomical success rate at @years was @ % for colposuspension and @ % for mesh ( p = @ ) .\\n',\n",
       " 'RESULTS\\tThere were @ anatomic recurrences ( @ % ) in the colposuspension group .\\n',\n",
       " 'RESULTS\\tThe erosion rate was @ % ( n = @ ) .\\n',\n",
       " 'RESULTS\\tNo significant difference was noted regarding minor complications .\\n',\n",
       " 'RESULTS\\tAnalysis of QoL questionnaires showed overall improvement in both groups , with no significant difference between them .\\n',\n",
       " 'CONCLUSIONS\\tThe vaginal colposuspension technique of anterior vaginal wall prolapse repair gave good anatomical and functional results at @years .\\n',\n",
       " 'CONCLUSIONS\\tTransobturator vaginal mesh gave better @-year anatomical results than vaginal colposuspension , with overall improvement in QoL in both groups .\\n',\n",
       " '\\n',\n",
       " '###25249651\\n',\n",
       " 'OBJECTIVE\\tClinical studies evaluating the effects of medications on - cell function in type @ diabetes ( T@DM ) are compromised by an inability to determine the actual baseline degree of - cell dysfunction independent of the reversible dysfunction induced by hyperglycemia ( glucotoxicity ) .\\n',\n",
       " 'OBJECTIVE\\tShort-term intensive insulin therapy ( IIT ) is a strategy for eliminating glucotoxicity before randomization .\\n',\n",
       " 'OBJECTIVE\\tThis study determined whether liraglutide can preserve - cell function over @ weeks in early T@DM following initial elimination of glucotoxicity with IIT .\\n',\n",
       " \"METHODS\\tIn this double-blind , randomized , placebo-controlled trial , @ patients with T@DM of @ @ years ' duration and an A@C of @ @ % ( @ @ mmol/mol ) completed @ weeks of IIT before randomization to daily subcutaneous liraglutide or placebo injection , with serial assessment of - cell function by Insulin Secretion-Sensitivity Index-@ ( ISSI-@ ) on oral glucose tolerance test performed every @ weeks .\\n\",\n",
       " 'RESULTS\\tThe primary outcome of baseline-adjusted ISSI-@ at @ weeks was higher in the liraglutide group than in the placebo group ( @ @ vs. @ @ , P = @ ) .\\n',\n",
       " 'RESULTS\\tBaseline-adjusted HbA@c at @ weeks was lower in the liraglutide group ( @ @ % vs. @ @ % , P = @ ) ( @ @ vs. @ @ mmol/mol ) .\\n',\n",
       " 'RESULTS\\tAt each quarterly assessment , > @ % of participants on liraglutide had an HbA@c @ % ( @ mmol/mol ) and glucose tolerance in the nondiabetic range .\\n',\n",
       " 'RESULTS\\tDespite this level of glycemic control , no difference was found in the incidence of hypoglycemia between the liraglutide and placebo groups ( P = @ ) .\\n',\n",
       " 'RESULTS\\tTwo weeks after stopping treatment , however , the beneficial effect on ISSI-@ of liraglutide versus placebo was entirely lost ( @ @ vs. @ @ , P = @ ) .\\n',\n",
       " 'CONCLUSIONS\\tLiraglutide provides robust enhancement of - cell function that is sustained over @ weeks in early T@DM but lost upon cessation of therapy .\\n',\n",
       " '\\n',\n",
       " '###25110443\\n',\n",
       " 'OBJECTIVE\\tTo investigate the effectiveness of rectally administered indomethacin in the prophylaxis of post-endoscopic retrograde cholangiopancreatography ( ERCP ) pancreatitis and hyperamylasaemia in a multicentre study .\\n',\n",
       " 'METHODS\\tA prospective , randomised , placebo-controlled multicentre study in five endoscopic units was conducted on @ patients randomised to receive a suppository containing @ mg indomethacin , or an inert placebo , @-@ min before ERCP .\\n',\n",
       " 'METHODS\\tPost-ERCP pancreatitis and hyperamylasaemia were evaluated @ h following the procedure on the basis of clinical signs and laboratory parameters , and computed tomography/magnetic resonance imaging findings if required .\\n',\n",
       " 'RESULTS\\tTwenty-one patients were excluded because of incompleteness of their data or because of protocol violation .\\n',\n",
       " 'RESULTS\\tThe results of @ investigations were evaluated : @ in the indomethacin group and @ in the placebo group .\\n',\n",
       " 'RESULTS\\tThe distributions of the risk factors in the two groups did not differ significantly .\\n',\n",
       " 'RESULTS\\tPancreatitis developed in @ patients ( @ % ) : it was mild in @ ( @ % ) and severe in eight ( @ % ) cases .\\n',\n",
       " 'RESULTS\\tHyperamylaesemia occurred in @ patients ( @ % ) .\\n',\n",
       " 'RESULTS\\tThere was no significant difference between the indomethacin and placebo groups in the incidence of either post-ERCP pancreatitis ( @ % vs @ % ) or hyperamylasaemia ( @ % vs @ % ) .\\n',\n",
       " 'RESULTS\\tSimilarly , subgroup analysis did not reveal any significant differences between the two groups .\\n',\n",
       " 'CONCLUSIONS\\t@ mg rectal indomethacin administered before ERCP did not prove effective in preventing post-ERCP pancreatitis .\\n',\n",
       " '\\n',\n",
       " '###24249722\\n',\n",
       " 'BACKGROUND\\tWe sought to determine the incidence of newly diagnosed diabetes in treated elderly hypertensive patients and the prognostic impact of diabetes on long-term survival .\\n',\n",
       " 'METHODS\\tThe Second Australian National Blood Pressure ( ANBP@ ) study randomized @,@ hypertensive patients aged @-@ years to angiotensin-converting enzyme inhibitor ( ACEI ) or thiazide diuretic-based therapy and followed them for a median of @ years .\\n',\n",
       " 'METHODS\\tLong-term survival was determined in @,@ patients over an additional median of @ years after ANBP@ ( post-trial ) .\\n',\n",
       " 'RESULTS\\tAfter ANBP@ , the cohort was classified into preexisting ( @ % ) , newly diagnosed ( @ % ) , and no diabetes ( @ % ) groups .\\n',\n",
       " 'RESULTS\\tA @ % higher incidence of newly diagnosed diabetes was observed in patients randomized to thiazide diuretic compared with ACEI-based treatment .\\n',\n",
       " 'RESULTS\\tThe other predictors of newly diagnosed diabetes were having a higher body mass index , having a higher random blood glucose , and living in a regional location compared to major cities ( a geographical classification based on accessibility ) at study entry .\\n',\n",
       " 'RESULTS\\tAfter completion of ANBP@ , compared with those with no diabetes , the preexisting diabetes group experienced higher cardiovascular ( hazards ratio ( HR ) = @ ; @ % confidence interval ( CI ) = @-@ @ ) and all-cause mortality ( HR = @ ; @ % CI = @-@ @ ) when adjusted for age , sex , and treatment .\\n',\n",
       " 'RESULTS\\tA similar pattern was observed after including the post-trial period for cardiovascular ( HR = @ ; @ % CI = @-@ @ ) and all-cause mortality ( HR = @ ; @ % CI = @-@ @ ) .\\n',\n",
       " 'RESULTS\\tHowever , when the newly diagnosed group was compared with the no diabetes group , no significant difference was observed in cardiovascular ( HR = @ ; @ % CI = @-@ @ ) or all-cause mortality ( HR = @ ; @ % CI = @-@ @ ) either during the ANBP@ trial or including post-trial follow-up ( cardiovascular : HR = @ ; @ % CI = @-@ @ ; all-cause mortality : HR = @ ; @ % CI = @-@ @ ) .\\n',\n",
       " 'CONCLUSIONS\\tLong-term presence of diabetes reduces survival .\\n',\n",
       " 'CONCLUSIONS\\tCompared with thiazide diuretics , ACEI-based antihypertensives may delay the development of diabetes in those at risk and thus potentially improve cardiovascular outcome in the elderly .\\n',\n",
       " '\\n',\n",
       " '###25027286\\n',\n",
       " 'BACKGROUND\\tObesity is associated with a risk of gastroesophageal reflux disease .\\n',\n",
       " 'BACKGROUND\\tThe pharmacodynamic efficacy of proton pump inhibitors has not been specifically evaluated in obese subjects .\\n',\n",
       " 'BACKGROUND\\tThe aim of this study was to compare the antisecretory response to a single oral dose of @ mg rabeprazole , @ mg omeprazole and placebo in obese subjects .\\n',\n",
       " 'METHODS\\tGastric pH was monitored for @ hours on three separate occasions in eighteen H. pylori-negative , asymptomatic obese subjects .\\n',\n",
       " 'METHODS\\tSubjects were given omeprazole , rabeprazole or placebo in a randomized order and in a double-blind fashion .\\n',\n",
       " 'METHODS\\tThe main analysis criterion was @-h percent of time post dose with intragastric pH above @ ; secondary criteria were percentage of time above pH @ , median pH , -LSB- H + -RSB- concentrations and nocturnal acid breakthrough ( NAB ) .\\n',\n",
       " 'METHODS\\tResults were analyzed using linear mixed models and Wilks test comparing variances .\\n',\n",
       " 'RESULTS\\t@-h median -LSB- IQ -RSB- percentages of time with gastric pH above @ and @ were higher with rabeprazole than omeprazole ( @ -LSB- @-@ -RSB- vs. @ -LSB- @-@ -RSB- % , @ -LSB- @-@ -RSB- % for placebo ) but the differences did not reach statistical significance ( p = @ and @ , respectively ) .\\n',\n",
       " 'RESULTS\\tMedian acid concentrations were significantly lower with rabeprazole than with omeprazole and placebo ( @ -LSB- @-@ -RSB- vs. @ -LSB- @-@ -RSB- and @ -LSB- @-@ -RSB- mmoles/l , p < @ ) for all periods .\\n',\n",
       " 'RESULTS\\tThe number of NAB was significantly lower with rabeprazole than with omeprazole ( median @ -LSB- @,@ -RSB- vs. @ -LSB- @-@ -RSB- , p = @ ) .\\n',\n",
       " 'RESULTS\\tVariances of @-h data ( pH above @ and @ , median pH , -LSB- H + -RSB- concentrations ) were significantly lower with rabeprazole than with omeprazole ( p < @ ) .\\n',\n",
       " 'CONCLUSIONS\\tIn asymptomatic obese subjects the gastric antisecretory response to a single dose of rabeprazole and omeprazole was strong and not significantly different between drugs despite a significantly more homogeneous response with rabeprazole .\\n',\n",
       " 'BACKGROUND\\tClinicalTrial.gov : NCT@ .\\n',\n",
       " '\\n',\n",
       " '###25439809\\n',\n",
       " 'OBJECTIVE\\tTo study the effect of growth hormone ( GH ) treatment on ovarian and uterine morphology and function in short , prepubertal small-for-gestational-age ( SGA ) girls .\\n',\n",
       " 'METHODS\\tA multinational , randomized controlled trial on safety and efficacy of GH therapy in short , prepubertal children born SGA .\\n',\n",
       " 'METHODS\\tNot applicable .\\n',\n",
       " 'METHODS\\tA subgroup of @ Danish girls born SGA included in North European SGA Study ( NESGAS ) .\\n',\n",
       " 'METHODS\\tOne year of GH treatment ( @ g/kg/day ) followed by @ years of randomized GH treatment ( @ g/kg/day , @ g/kg/day , or IGF-I titrated ) .\\n',\n",
       " 'METHODS\\tData on anthropometrics , reproductive hormones , and ultrasonographic examination of the internal genitalia were collected during @ months of GH treatment .\\n',\n",
       " 'RESULTS\\tUterine and ovarian volume increased significantly during @ years of treatment ( @ % and @ % , respectively ) but remained low within normal reference ranges .\\n',\n",
       " 'RESULTS\\tOvarian follicles became visible in @ % after @ year compared with @ % before GH therapy .\\n',\n",
       " 'RESULTS\\tAnti-Mllerian hormone increased significantly during the @ years of GH therapy but remained within the normal range .\\n',\n",
       " 'RESULTS\\tPrecocious puberty was observed in one girl ; another girl developed multicystic ovaries .\\n',\n",
       " 'CONCLUSIONS\\tGH treatment was associated with statistically significant growth of the internal genitalia , but remained within the normal range .\\n',\n",
       " 'CONCLUSIONS\\tAs altered pubertal development and ovarian morphology were found in @ of @ girls , monitoring of puberty and ovarian function during GH therapy in SGA girls is prudent .\\n',\n",
       " 'CONCLUSIONS\\tAltogether , the findings are reassuring .\\n',\n",
       " 'CONCLUSIONS\\tHowever , long-term effects of GH treatment on adult reproductive function remain unknown .\\n',\n",
       " 'BACKGROUND\\tEudraCT @-@-@ .\\n',\n",
       " '\\n',\n",
       " '###24898858\\n',\n",
       " 'OBJECTIVE\\tTo test the hypothesis that a brief , clinic-based , single-session programme will reduce the rate of @ selected condom use errors in a clinical sample of young black men ( YBM ) ages @ through @ years .\\n',\n",
       " 'METHODS\\tData were collected in clinics treating patients with sexually transmitted infections ( STI ) in three southern US cities .\\n',\n",
       " 'METHODS\\tMales @-@years of age who identified as black/African-American , and reported recent ( past @months ) condom use were eligible .\\n',\n",
       " 'METHODS\\tOnly those also reporting condom use in the @months prior to a @-month follow-up assessment ( n = @ ) were included in this secondary analysis of data from a randomised , controlled trial .\\n',\n",
       " 'METHODS\\tDifference scores were used to capture a GroupTime effect .\\n',\n",
       " 'RESULTS\\tYBM reported @ condom use events in the @months preceding study enrolment and @ in the @months preceding the follow-up assessment .\\n',\n",
       " 'RESULTS\\tMean baseline error rates were @ and @ for young men randomised to the intervention and control conditions , respectively .\\n',\n",
       " 'RESULTS\\tFollow-up rates were @ and @ for young men randomised to the intervention and control conditions , respectively .\\n',\n",
       " 'RESULTS\\tControlled findings yielded a significant effect for the influence of group assignment on the difference score ( baseline to follow-up ) in the condom use error rate ( = @ ; p = @ ) .\\n',\n",
       " 'CONCLUSIONS\\tA brief , clinic-based counselling programme produced modest reductions in condom use errors among YBM attending STI clinics in the southern USA Intensified clinic-based intervention that helps YBM improve the quality of their condom use behaviours is warranted .\\n',\n",
       " 'BACKGROUND\\tNCT@ .\\n',\n",
       " '\\n',\n",
       " '###24672940\\n',\n",
       " 'OBJECTIVE\\tTo provide evidence for Chinese medical treatment of children with EB virus infection by exploring its clinical efficacy from multiple angles .\\n',\n",
       " 'METHODS\\tTotally @ children patients were randomly assigned to the treatment group ( @ cases ) and the control group ( @ cases ) .\\n',\n",
       " 'METHODS\\tPatients in the treatment group took Chinese medical decoction , while those in the control received intravenous dripping of Ganciclovir and oral administration of pidotimod .\\n',\n",
       " 'METHODS\\tThe treatment period for the two groups was @ weeks .\\n',\n",
       " 'METHODS\\tPatients were followed-up till the @th week .\\n',\n",
       " 'METHODS\\tClinical symptoms such as fever , lymphadenopathy and hepatosplenomegaly , as well as lab indices such as abnormal lymphocyte percentage , EB virus antibody , virus DNA load , T cell subsets , immunoglobulin , and so on were observed before and after treatment , at week @ and @ of follow-ups .\\n',\n",
       " 'RESULTS\\t( @ ) The total effective rate at week @ was @ % in the treatment group , higher than that of the control group ( @ % ) , but there was no statistical difference between the two groups .\\n',\n",
       " 'RESULTS\\t( @ ) The time for defervescence , duration of pharyngeal hyperemia , duration of swollen tonsils was shorter in the treatment group than in the control group ( P < @ ) .\\n',\n",
       " 'RESULTS\\tThe subsidence of lymphadenopathy , hepatomegaly , and abnormal lymphocytes was better in the treatment group than in the control group ( P < @ ) .\\n',\n",
       " 'RESULTS\\t( @ ) The positive cases of peripheral blood hetero-lymphocyte was significantly reduced after treatment , at week @ and @ of follow-ups both in the treatment group and the control group ( P < @ ) .\\n',\n",
       " 'RESULTS\\tThe expression of IgA and IgM decreased after treatment in the two groups when compared with before treatment in the same group ( P < @ , P < @ ) .\\n',\n",
       " 'RESULTS\\tIgG in the treatment group also obviously decreased after treatment , at week @ and @ of follow-ups ( P < @ , P < @ ) , while it decreased only after treatment in the control group ( P < @ ) .\\n',\n",
       " 'RESULTS\\tActivities of AST and ALT in the treatment group and the AST activity in the control group were markedly improved when compared with those before treatment ( P < @ ) .\\n',\n",
       " 'RESULTS\\tCompared with the control group , the abnormal lymphocyte positive case number obviously decreased in the treatment group after treatment , at week @ and @ of follow-ups ( P < @ ) .\\n',\n",
       " 'RESULTS\\t( @ ) After treatment , at week @ and @ of follow-ups , CD@ + and CD@ + significantly decreased ; CD@ + , CD@/CD@ , and B cells significantly increased in the two groups , when compared with before treatment ( P < @ ) .\\n',\n",
       " 'RESULTS\\tNK cells significantly increased more in the treatment group after treatment , at week @ and @ of follow-ups , higher than before treatment as well as the control group ( P < @ ) .\\n',\n",
       " 'RESULTS\\t( @ ) EB viral DNA and EB viral CA-IgM negative conversion case numbers significantly increased in the two groups after treatment , at week @ and @ of follow-ups ( P < @ ) .\\n',\n",
       " 'RESULTS\\tCompared with the control group , EB viral DNA and EB viral CA-IgM negative conversion case numbers significantly increased in the treatment group after treatment and at week @ of follow-ups ( P < @ ) .\\n',\n",
       " 'CONCLUSIONS\\tTreatment of EB virus infection by Chinese medical treatment was effective .\\n',\n",
       " 'CONCLUSIONS\\tIt could promote the recovery of EB viral infection , and reduce the risk of vicious disease after EB viral infection .\\n',\n",
       " '\\n',\n",
       " '###25039547\\n',\n",
       " 'OBJECTIVE\\tThe primary objective was to compare the cosmetic outcomes of traumatic trunk and extremity lacerations repaired using absorbable versus nonabsorbable sutures .\\n',\n",
       " 'OBJECTIVE\\tThe secondary objective was to compare complication rates between the two groups .\\n',\n",
       " 'METHODS\\tThis was a randomized controlled trial comparing wounds repaired with Vicryl Rapide and Prolene sutures .\\n',\n",
       " 'METHODS\\tPediatric and adult patients with lacerations were enrolled in the study .\\n',\n",
       " 'METHODS\\tAt a @-day follow-up , the wounds were evaluated for infection and dehiscence .\\n',\n",
       " 'METHODS\\tAfter @ months , patients returned to have the wounds photographed .\\n',\n",
       " 'METHODS\\tTwo plastic surgeons blinded to the method of closure rated the cosmetic outcome of each wound using a @-mm visual analog scale ( VAS ) .\\n',\n",
       " 'METHODS\\tUsing a noninferiority design , a VAS score of @ mm or greater was considered to be a clinically significant difference .\\n',\n",
       " \"METHODS\\tWe used a Student 's t-test to compare differences between mean VAS scores and odds ratios ( ORs ) to compare differences in complication rates between the two groups .\\n\",\n",
       " 'RESULTS\\tOf the @ patients enrolled , @ completed the study including @ in the Vicryl Rapide group and @ in the Prolene group .\\n',\n",
       " 'RESULTS\\tThe mean ( SD ) age of patients who completed the study was @ ( @ ) years , and @ were male .\\n',\n",
       " 'RESULTS\\tWe found no significant differences in the age , race , sex , length of wound , number of sutures , or layers of repair in the two groups .\\n',\n",
       " \"RESULTS\\tThe observer 's mean VAS for the Vicryl Rapide group was @ mm ( @ % confidence interval -LSB- CI -RSB- = @ to @ mm ) and for the Prolene group was @ mm ( @ % CI = @ to @ mm ) .\\n\",\n",
       " 'RESULTS\\tThe resulting mean difference was @ mm ( @ % CI = -@ to @ mm ; p = @ ) ; thus noninferiority was established .\\n',\n",
       " 'RESULTS\\tStatistical testing showed no differences in the rates of complications between the two groups , but a higher percentage of the Vicryl Rapide wounds developed complications .\\n',\n",
       " 'CONCLUSIONS\\tThe use of absorbable sutures for the repair of simple lacerations on the trunk and extremities should be considered as an alternative to nonabsorbable suture repair .\\n',\n",
       " '\\n',\n",
       " '###25139873\\n',\n",
       " 'OBJECTIVE\\tAspirin early after intravenous thrombolysis in acute ischemic stroke increases the risk of symptomatic intracranial hemorrhage ( SICH ) , without influencing functional outcome at @ months .\\n',\n",
       " 'OBJECTIVE\\tThe effect of aspirin on early neurological deterioration ( END ) was explored as a post hoc analysis of the randomized Antiplatelet Therapy in Combination With Recombinant t-PA Thrombolysis in Ischemic Stroke ( ARTIS ) trial .\\n',\n",
       " 'METHODS\\tEND , defined as a @ points National Institutes of Health Stroke Scale worsening @ hours after intravenous thrombolysis , was categorized into SICH ( ENDSICH ) and cerebral ischemia ( ENDCI ) .\\n',\n",
       " 'METHODS\\tMultinomial logistic regression was used to assess the effect of aspirin on END .\\n',\n",
       " 'RESULTS\\tOf the @ patients , @ patients ( @ % ) experienced END ( @ ENDSICH , @ ENDCI ) .\\n',\n",
       " 'RESULTS\\tAspirin increased the risk of ENDSICH ( odds ratio , @ ; @ % confidence interval , @-@ @ ) but not of ENDCI ( odds ratio , @ ; @ % confidence interval , @-@ @ ) .\\n',\n",
       " 'RESULTS\\tAfter adjustment for other explanatory variables , the association between aspirin and ENDSICH remained significant .\\n',\n",
       " 'CONCLUSIONS\\tIn this trial , there is no evidence of an early antithrombotic effect from the addition of aspirin to intravenous thrombolysis in acute ischemic stroke .\\n',\n",
       " '\\n',\n",
       " '###24917273\\n',\n",
       " 'OBJECTIVE\\tTo compare the relative effectiveness of methotrexate and mycophenolate mofetil for noninfectious intermediate uveitis , posterior uveitis , or panuveitis .\\n',\n",
       " 'METHODS\\tMulticenter , block-randomized , observer-masked clinical trial .\\n',\n",
       " ...]"
      ]
     },
     "execution_count": 15,
     "metadata": {},
     "output_type": "execute_result"
    }
   ],
   "source": [
    "# Read in training line\n",
    "train_lines = get_lines(data_dir + \"train.txt\")\n",
    "train_lines"
   ]
  },
  {
   "cell_type": "code",
   "execution_count": 16,
   "id": "c3d32d7e",
   "metadata": {},
   "outputs": [
    {
     "data": {
      "text/plain": [
       "['###24845963\\n',\n",
       " 'BACKGROUND\\tThis study analyzed liver function abnormalities in heart failure patients admitted with severe acute decompensated heart failure ( ADHF ) .\\n',\n",
       " 'RESULTS\\tA post hoc analysis was conducted with the use of data from the Evaluation Study of Congestive Heart Failure and Pulmonary Artery Catheterization Effectiveness ( ESCAPE ) .\\n',\n",
       " 'RESULTS\\tLiver function tests ( LFTs ) were measured at @ time points from baseline , at discharge , and up to @ months follow-up .\\n',\n",
       " 'RESULTS\\tSurvival analyses were used to assess the association between admission Model of End-Stage Liver Disease Excluding International Normalized Ratio ( MELD-XI ) scores and patient outcome.There was a high prevalence of abnormal baseline ( admission ) LFTs ( albumin @ % , aspartate transaminase @ % , alanine transaminase @ % , and total bilirubin @ % ) .\\n',\n",
       " \"RESULTS\\tThe percentage of patients with abnormal LFTs decreased significantly from baseline to @-months ' follow-up .\\n\",\n",
       " 'RESULTS\\tWhen mean hemodynamic profiles were compared in patients with abnormal versus normal LFTs , elevated total bilirubin was associated with a significantly lower cardiac index ( @ vs @ ; P < @ ) and higher central venous pressure ( @ vs @ ; P = @ ) .\\n',\n",
       " 'RESULTS\\tMultivariable analyses revealed that patients with elevated MELD-XI scores ( @ ) had a @-fold ( hazard ratio@ @ , @ % confidence interval @-@ @ ) increased risk of death , rehospitalization , or transplantation after adjusting for baseline LFTs , age , sex , race , body mass index , diabetes , and systolic blood pressure .\\n',\n",
       " 'CONCLUSIONS\\tAbnormal LFTs are common in the ADHF population and are a dynamic marker of an impaired hemodynamic state .\\n',\n",
       " 'CONCLUSIONS\\tElevated MELD-XI scores are associated with poor outcomes among patients admitted with ADHF .\\n']"
      ]
     },
     "execution_count": 16,
     "metadata": {},
     "output_type": "execute_result"
    }
   ],
   "source": [
    "test_lines = get_lines(data_dir + \"test.txt\")\n",
    "test_lines[:10]"
   ]
  },
  {
   "cell_type": "markdown",
   "id": "54953b09",
   "metadata": {},
   "source": [
    "The form of data would be presented on is:\n",
    "> [{\n",
    ">    \n",
    ">    'line_number': 0,\n",
    ">\n",
    ">    'target': 'BACKGROUND'\n",
    ">\n",
    ">   'text' : 'e.g. \\n'\n",
    ">\n",
    ">    'total_line': 11\n",
    ">\n",
    "> }, ...]"
   ]
  },
  {
   "cell_type": "code",
   "execution_count": 17,
   "id": "157a1ef7",
   "metadata": {},
   "outputs": [],
   "source": [
    "# Fucntion turns each of out datasets into above format\n",
    "def preprocess_text_with_line_numbers(filename):\n",
    "    input_lines = get_lines(filename) # get all line of filename\n",
    "    abstract_lines = \"\" # create an empty abstract\n",
    "    abstract_samples = [] # create an empty list of abstracts\n",
    "    \n",
    "    for line in input_lines:\n",
    "        if line.startswith(\"###\"): # Check if this is an ID line\n",
    "            abstract_id = line\n",
    "            abstract_lines = \"\" # reset the abstract_lines\n",
    "        elif line.isspace():\n",
    "            abstract_lines_split = abstract_lines.splitlines()\n",
    "    \n",
    "             # Iterate through each line in a single abstract and count them at the same time\n",
    "            for abstract_line_number, abstract_line in enumerate(abstract_lines_split):\n",
    "                line_data = {}\n",
    "                target_text_split = abstract_line.split(\"\\t\")\n",
    "                if len(target_text_split) < 2:\n",
    "                    continue\n",
    "                line_data = {\n",
    "                    \"line_number\": abstract_line_number,\n",
    "                    \"target\": target_text_split[0],\n",
    "                    \"text\": target_text_split[1].lower(),\n",
    "                    \"total_lines\": len(abstract_lines_split) - 1\n",
    "                }\n",
    "\n",
    "                abstract_samples.append(line_data)\n",
    "        else: # the line contains a labelled sentence\n",
    "            abstract_lines += line\n",
    "    \n",
    "    return abstract_samples"
   ]
  },
  {
   "cell_type": "code",
   "execution_count": 18,
   "id": "3de9c0fd",
   "metadata": {},
   "outputs": [
    {
     "data": {
      "text/plain": [
       "(180040, 30212, 30135)"
      ]
     },
     "execution_count": 18,
     "metadata": {},
     "output_type": "execute_result"
    }
   ],
   "source": [
    "# Get data from file and preprocess it\n",
    "train_samples = preprocess_text_with_line_numbers(data_dir + \"train.txt\")\n",
    "val_samples = preprocess_text_with_line_numbers(data_dir + \"dev.txt\") # dev is another name of validation set\n",
    "test_samples = preprocess_text_with_line_numbers(data_dir + \"test.txt\")\n",
    "len(train_samples), len(val_samples), len(test_samples)"
   ]
  },
  {
   "cell_type": "code",
   "execution_count": 19,
   "id": "a6cf4318",
   "metadata": {},
   "outputs": [
    {
     "data": {
      "text/plain": [
       "[{'line_number': 0,\n",
       "  'target': 'OBJECTIVE',\n",
       "  'text': 'to investigate the efficacy of @ weeks of daily low-dose oral prednisolone in improving pain , mobility , and systemic low-grade inflammation in the short term and whether the effect would be sustained at @ weeks in older adults with moderate to severe knee osteoarthritis ( oa ) .',\n",
       "  'total_lines': 11},\n",
       " {'line_number': 1,\n",
       "  'target': 'METHODS',\n",
       "  'text': 'a total of @ patients with primary knee oa were randomized @:@ ; @ received @ mg/day of prednisolone and @ received placebo for @ weeks .',\n",
       "  'total_lines': 11},\n",
       " {'line_number': 2,\n",
       "  'target': 'METHODS',\n",
       "  'text': 'outcome measures included pain reduction and improvement in function scores and systemic inflammation markers .',\n",
       "  'total_lines': 11},\n",
       " {'line_number': 3,\n",
       "  'target': 'METHODS',\n",
       "  'text': 'pain was assessed using the visual analog pain scale ( @-@ mm ) .',\n",
       "  'total_lines': 11},\n",
       " {'line_number': 4,\n",
       "  'target': 'METHODS',\n",
       "  'text': 'secondary outcome measures included the western ontario and mcmaster universities osteoarthritis index scores , patient global assessment ( pga ) of the severity of knee oa , and @-min walk distance ( @mwd ) .',\n",
       "  'total_lines': 11},\n",
       " {'line_number': 5,\n",
       "  'target': 'METHODS',\n",
       "  'text': 'serum levels of interleukin @ ( il-@ ) , il-@ , tumor necrosis factor ( tnf ) - , and high-sensitivity c-reactive protein ( hscrp ) were measured .',\n",
       "  'total_lines': 11},\n",
       " {'line_number': 6,\n",
       "  'target': 'RESULTS',\n",
       "  'text': 'there was a clinically relevant reduction in the intervention group compared to the placebo group for knee pain , physical function , pga , and @mwd at @ weeks .',\n",
       "  'total_lines': 11},\n",
       " {'line_number': 7,\n",
       "  'target': 'RESULTS',\n",
       "  'text': 'the mean difference between treatment arms ( @ % ci ) was @ ( @-@ @ ) , p < @ ; @ ( @-@ @ ) , p < @ ; @ ( @-@ @ ) , p < @ ; and @ ( @-@ @ ) , p < @ , respectively .',\n",
       "  'total_lines': 11},\n",
       " {'line_number': 8,\n",
       "  'target': 'RESULTS',\n",
       "  'text': 'further , there was a clinically relevant reduction in the serum levels of il-@ , il-@ , tnf - , and hscrp at @ weeks in the intervention group when compared to the placebo group .',\n",
       "  'total_lines': 11},\n",
       " {'line_number': 9,\n",
       "  'target': 'RESULTS',\n",
       "  'text': 'these differences remained significant at @ weeks .',\n",
       "  'total_lines': 11}]"
      ]
     },
     "execution_count": 19,
     "metadata": {},
     "output_type": "execute_result"
    }
   ],
   "source": [
    "train_samples[:10]"
   ]
  },
  {
   "cell_type": "code",
   "execution_count": 20,
   "id": "cb6089c8",
   "metadata": {},
   "outputs": [
    {
     "data": {
      "text/plain": [
       "210040"
      ]
     },
     "execution_count": 20,
     "metadata": {},
     "output_type": "execute_result"
    }
   ],
   "source": [
    "len(train_lines)"
   ]
  },
  {
   "cell_type": "markdown",
   "id": "34f4741d",
   "metadata": {},
   "source": [
    "We need to turn into DataFrame if wanna further visualize them"
   ]
  },
  {
   "cell_type": "code",
   "execution_count": 21,
   "id": "3b0f05c0",
   "metadata": {},
   "outputs": [
    {
     "name": "stdout",
     "output_type": "stream",
     "text": [
      "    line_number       target  \\\n",
      "0             0    OBJECTIVE   \n",
      "1             1      METHODS   \n",
      "2             2      METHODS   \n",
      "3             3      METHODS   \n",
      "4             4      METHODS   \n",
      "5             5      METHODS   \n",
      "6             6      RESULTS   \n",
      "7             7      RESULTS   \n",
      "8             8      RESULTS   \n",
      "9             9      RESULTS   \n",
      "10           10      RESULTS   \n",
      "11           11  CONCLUSIONS   \n",
      "12            0   BACKGROUND   \n",
      "13            1   BACKGROUND   \n",
      "\n",
      "                                                 text  total_lines  \n",
      "0   to investigate the efficacy of @ weeks of dail...           11  \n",
      "1   a total of @ patients with primary knee oa wer...           11  \n",
      "2   outcome measures included pain reduction and i...           11  \n",
      "3   pain was assessed using the visual analog pain...           11  \n",
      "4   secondary outcome measures included the wester...           11  \n",
      "5   serum levels of interleukin @ ( il-@ ) , il-@ ...           11  \n",
      "6   there was a clinically relevant reduction in t...           11  \n",
      "7   the mean difference between treatment arms ( @...           11  \n",
      "8   further , there was a clinically relevant redu...           11  \n",
      "9   these differences remained significant at @ we...           11  \n",
      "10  the outcome measures in rheumatology clinical ...           11  \n",
      "11  low-dose oral prednisolone had both a short-te...           11  \n",
      "12  emotional eating is associated with overeating...           10  \n",
      "13  yet , empirical evidence for individual ( trai...           10  \n",
      "target\n",
      "METHODS        59353\n",
      "RESULTS        57953\n",
      "CONCLUSIONS    27168\n",
      "BACKGROUND     21727\n",
      "OBJECTIVE      13839\n",
      "Name: count, dtype: int64\n"
     ]
    }
   ],
   "source": [
    "# Turn into dataframe\n",
    "train_df = pd.DataFrame(train_samples)\n",
    "val_df = pd.DataFrame(val_samples)\n",
    "test_df = pd.DataFrame(test_samples)\n",
    "\n",
    "print(train_df.head(14))\n",
    "print(train_df.target.value_counts())"
   ]
  },
  {
   "cell_type": "code",
   "execution_count": 22,
   "id": "395883f1",
   "metadata": {},
   "outputs": [
    {
     "data": {
      "image/png": "[encoded data removed]",
      "text/plain": [
       "<Figure size 640x480 with 1 Axes>"
      ]
     },
     "metadata": {},
     "output_type": "display_data"
    }
   ],
   "source": [
    "# Check the length of the different lines\n",
    "train_df.total_lines.plot.hist();"
   ]
  },
  {
   "cell_type": "code",
   "execution_count": 23,
   "id": "97b581ea",
   "metadata": {},
   "outputs": [
    {
     "data": {
      "text/plain": [
       "(180040, 30212, 30135)"
      ]
     },
     "execution_count": 23,
     "metadata": {},
     "output_type": "execute_result"
    }
   ],
   "source": [
    "# Get lists of sentences\n",
    "train_sentences = train_df[\"text\"].tolist()\n",
    "val_sentences = val_df[\"text\"].tolist()\n",
    "test_sentences = test_df[\"text\"].tolist()\n",
    "\n",
    "len(train_sentences), len(val_sentences), len(test_sentences)"
   ]
  },
  {
   "cell_type": "markdown",
   "id": "303d940b",
   "metadata": {},
   "source": [
    "### Turn our labels in to numerical tensor embedded\n",
    "*Machine Learning requires numerical values as inputs and outputs.*"
   ]
  },
  {
   "cell_type": "markdown",
   "id": "96610d84",
   "metadata": {},
   "source": [
    "**One hot encoder**"
   ]
  },
  {
   "cell_type": "code",
   "execution_count": 24,
   "id": "ae9b8aa1",
   "metadata": {},
   "outputs": [],
   "source": [
    "# One hot encode labels\n",
    "from sklearn.preprocessing import OneHotEncoder\n",
    "one_hot_encoder = OneHotEncoder(sparse_output= False) # we want non_sparse matrix\n",
    "\n",
    "train_labels_one_hot = one_hot_encoder.fit_transform(train_df[\"target\"].to_numpy().reshape(-1,1))\n",
    "val_labels_one_hot = one_hot_encoder.fit_transform(val_df[\"target\"].to_numpy().reshape(-1,1))\n",
    "test_labels_one_hot = one_hot_encoder.fit_transform(test_df[\"target\"].to_numpy().reshape(-1,1))"
   ]
  },
  {
   "cell_type": "code",
   "execution_count": 25,
   "id": "ba72ef6f",
   "metadata": {},
   "outputs": [
    {
     "name": "stderr",
     "output_type": "stream",
     "text": [
      "2025-09-13 21:47:33.540054: E external/local_xla/xla/stream_executor/cuda/cuda_platform.cc:51] failed call to cuInit: INTERNAL: CUDA error: Failed call to cuInit: UNKNOWN ERROR (303)\n"
     ]
    },
    {
     "data": {
      "text/plain": [
       "<tf.Tensor: shape=(180040, 5), dtype=float64, numpy=\n",
       "array([[0., 0., 0., 1., 0.],\n",
       "       [0., 0., 1., 0., 0.],\n",
       "       [0., 0., 1., 0., 0.],\n",
       "       ...,\n",
       "       [0., 0., 0., 0., 1.],\n",
       "       [0., 1., 0., 0., 0.],\n",
       "       [0., 1., 0., 0., 0.]])>"
      ]
     },
     "execution_count": 25,
     "metadata": {},
     "output_type": "execute_result"
    }
   ],
   "source": [
    "tf.constant(train_labels_one_hot)"
   ]
  },
  {
   "cell_type": "markdown",
   "id": "ff06ecbe",
   "metadata": {},
   "source": [
    "**Label encode labels**"
   ]
  },
  {
   "cell_type": "code",
   "execution_count": 26,
   "id": "000129ab",
   "metadata": {},
   "outputs": [
    {
     "data": {
      "text/plain": [
       "array([3, 2, 2, ..., 4, 1, 1])"
      ]
     },
     "execution_count": 26,
     "metadata": {},
     "output_type": "execute_result"
    }
   ],
   "source": [
    "label_encoder = LabelEncoder()\n",
    "train_labels_encoded = label_encoder.fit_transform(train_df[\"target\"].to_numpy())\n",
    "val_labels_encoded = label_encoder.transform(val_df[\"target\"].to_numpy())\n",
    "test_labels_encoded = label_encoder.transform(test_df[\"target\"].to_numpy())\n",
    "\n",
    "train_labels_encoded"
   ]
  },
  {
   "cell_type": "markdown",
   "id": "ef9af609",
   "metadata": {},
   "source": [
    "## Get class names and numer of classes from LabelEncoder instance"
   ]
  },
  {
   "cell_type": "code",
   "execution_count": 27,
   "id": "c3ee4f59",
   "metadata": {},
   "outputs": [
    {
     "data": {
      "text/plain": [
       "(5,\n",
       " array(['BACKGROUND', 'CONCLUSIONS', 'METHODS', 'OBJECTIVE', 'RESULTS'],\n",
       "       dtype=object))"
      ]
     },
     "execution_count": 27,
     "metadata": {},
     "output_type": "execute_result"
    }
   ],
   "source": [
    "num_classes = len(label_encoder.classes_)\n",
    "class_names = label_encoder.classes_\n",
    "num_classes, class_names"
   ]
  },
  {
   "cell_type": "code",
   "execution_count": 28,
   "id": "f7a4e63e",
   "metadata": {},
   "outputs": [],
   "source": [
    "# Download the helper function\n",
    "#!wget https://raw.githubusercontent.com/mrdbourke/tensorflow-deep-learning/main/extras/helper_functions.py"
   ]
  },
  {
   "cell_type": "code",
   "execution_count": 29,
   "id": "0a652419",
   "metadata": {},
   "outputs": [],
   "source": [
    "from helper_functions import calculate_results"
   ]
  },
  {
   "cell_type": "markdown",
   "id": "ec4b8d04",
   "metadata": {},
   "source": [
    "## Trainning with various types of models"
   ]
  },
  {
   "cell_type": "markdown",
   "id": "7075acd7",
   "metadata": {},
   "source": [
    "### Model 0: Naive Bayes with TF-IDF"
   ]
  },
  {
   "cell_type": "code",
   "execution_count": 30,
   "id": "73d7ee68",
   "metadata": {},
   "outputs": [
    {
     "data": {
      "text/html": [
       "<style>#sk-container-id-1 {\n",
       "  /* Definition of color scheme common for light and dark mode */\n",
       "  --sklearn-color-text: #000;\n",
       "  --sklearn-color-text-muted: #666;\n",
       "  --sklearn-color-line: gray;\n",
       "  /* Definition of color scheme for unfitted estimators */\n",
       "  --sklearn-color-unfitted-level-0: #fff5e6;\n",
       "  --sklearn-color-unfitted-level-1: #f6e4d2;\n",
       "  --sklearn-color-unfitted-level-2: #ffe0b3;\n",
       "  --sklearn-color-unfitted-level-3: chocolate;\n",
       "  /* Definition of color scheme for fitted estimators */\n",
       "  --sklearn-color-fitted-level-0: #f0f8ff;\n",
       "  --sklearn-color-fitted-level-1: #d4ebff;\n",
       "  --sklearn-color-fitted-level-2: #b3dbfd;\n",
       "  --sklearn-color-fitted-level-3: cornflowerblue;\n",
       "\n",
       "  /* Specific color for light theme */\n",
       "  --sklearn-color-text-on-default-background: var(--sg-text-color, var(--theme-code-foreground, var(--jp-content-font-color1, black)));\n",
       "  --sklearn-color-background: var(--sg-background-color, var(--theme-background, var(--jp-layout-color0, white)));\n",
       "  --sklearn-color-border-box: var(--sg-text-color, var(--theme-code-foreground, var(--jp-content-font-color1, black)));\n",
       "  --sklearn-color-icon: #696969;\n",
       "\n",
       "  @media (prefers-color-scheme: dark) {\n",
       "    /* Redefinition of color scheme for dark theme */\n",
       "    --sklearn-color-text-on-default-background: var(--sg-text-color, var(--theme-code-foreground, var(--jp-content-font-color1, white)));\n",
       "    --sklearn-color-background: var(--sg-background-color, var(--theme-background, var(--jp-layout-color0, #111)));\n",
       "    --sklearn-color-border-box: var(--sg-text-color, var(--theme-code-foreground, var(--jp-content-font-color1, white)));\n",
       "    --sklearn-color-icon: #878787;\n",
       "  }\n",
       "}\n",
       "\n",
       "#sk-container-id-1 {\n",
       "  color: var(--sklearn-color-text);\n",
       "}\n",
       "\n",
       "#sk-container-id-1 pre {\n",
       "  padding: 0;\n",
       "}\n",
       "\n",
       "#sk-container-id-1 input.sk-hidden--visually {\n",
       "  border: 0;\n",
       "  clip: rect(1px 1px 1px 1px);\n",
       "  clip: rect(1px, 1px, 1px, 1px);\n",
       "  height: 1px;\n",
       "  margin: -1px;\n",
       "  overflow: hidden;\n",
       "  padding: 0;\n",
       "  position: absolute;\n",
       "  width: 1px;\n",
       "}\n",
       "\n",
       "#sk-container-id-1 div.sk-dashed-wrapped {\n",
       "  border: 1px dashed var(--sklearn-color-line);\n",
       "  margin: 0 0.4em 0.5em 0.4em;\n",
       "  box-sizing: border-box;\n",
       "  padding-bottom: 0.4em;\n",
       "  background-color: var(--sklearn-color-background);\n",
       "}\n",
       "\n",
       "#sk-container-id-1 div.sk-container {\n",
       "  /* jupyter's `normalize.less` sets `[hidden] { display: none; }`\n",
       "     but bootstrap.min.css set `[hidden] { display: none !important; }`\n",
       "     so we also need the `!important` here to be able to override the\n",
       "     default hidden behavior on the sphinx rendered scikit-learn.org.\n",
       "     See: https://github.com/scikit-learn/scikit-learn/issues/21755 */\n",
       "  display: inline-block !important;\n",
       "  position: relative;\n",
       "}\n",
       "\n",
       "#sk-container-id-1 div.sk-text-repr-fallback {\n",
       "  display: none;\n",
       "}\n",
       "\n",
       "div.sk-parallel-item,\n",
       "div.sk-serial,\n",
       "div.sk-item {\n",
       "  /* draw centered vertical line to link estimators */\n",
       "  background-image: linear-gradient(var(--sklearn-color-text-on-default-background), var(--sklearn-color-text-on-default-background));\n",
       "  background-size: 2px 100%;\n",
       "  background-repeat: no-repeat;\n",
       "  background-position: center center;\n",
       "}\n",
       "\n",
       "/* Parallel-specific style estimator block */\n",
       "\n",
       "#sk-container-id-1 div.sk-parallel-item::after {\n",
       "  content: \"\";\n",
       "  width: 100%;\n",
       "  border-bottom: 2px solid var(--sklearn-color-text-on-default-background);\n",
       "  flex-grow: 1;\n",
       "}\n",
       "\n",
       "#sk-container-id-1 div.sk-parallel {\n",
       "  display: flex;\n",
       "  align-items: stretch;\n",
       "  justify-content: center;\n",
       "  background-color: var(--sklearn-color-background);\n",
       "  position: relative;\n",
       "}\n",
       "\n",
       "#sk-container-id-1 div.sk-parallel-item {\n",
       "  display: flex;\n",
       "  flex-direction: column;\n",
       "}\n",
       "\n",
       "#sk-container-id-1 div.sk-parallel-item:first-child::after {\n",
       "  align-self: flex-end;\n",
       "  width: 50%;\n",
       "}\n",
       "\n",
       "#sk-container-id-1 div.sk-parallel-item:last-child::after {\n",
       "  align-self: flex-start;\n",
       "  width: 50%;\n",
       "}\n",
       "\n",
       "#sk-container-id-1 div.sk-parallel-item:only-child::after {\n",
       "  width: 0;\n",
       "}\n",
       "\n",
       "/* Serial-specific style estimator block */\n",
       "\n",
       "#sk-container-id-1 div.sk-serial {\n",
       "  display: flex;\n",
       "  flex-direction: column;\n",
       "  align-items: center;\n",
       "  background-color: var(--sklearn-color-background);\n",
       "  padding-right: 1em;\n",
       "  padding-left: 1em;\n",
       "}\n",
       "\n",
       "\n",
       "/* Toggleable style: style used for estimator/Pipeline/ColumnTransformer box that is\n",
       "clickable and can be expanded/collapsed.\n",
       "- Pipeline and ColumnTransformer use this feature and define the default style\n",
       "- Estimators will overwrite some part of the style using the `sk-estimator` class\n",
       "*/\n",
       "\n",
       "/* Pipeline and ColumnTransformer style (default) */\n",
       "\n",
       "#sk-container-id-1 div.sk-toggleable {\n",
       "  /* Default theme specific background. It is overwritten whether we have a\n",
       "  specific estimator or a Pipeline/ColumnTransformer */\n",
       "  background-color: var(--sklearn-color-background);\n",
       "}\n",
       "\n",
       "/* Toggleable label */\n",
       "#sk-container-id-1 label.sk-toggleable__label {\n",
       "  cursor: pointer;\n",
       "  display: flex;\n",
       "  width: 100%;\n",
       "  margin-bottom: 0;\n",
       "  padding: 0.5em;\n",
       "  box-sizing: border-box;\n",
       "  text-align: center;\n",
       "  align-items: start;\n",
       "  justify-content: space-between;\n",
       "  gap: 0.5em;\n",
       "}\n",
       "\n",
       "#sk-container-id-1 label.sk-toggleable__label .caption {\n",
       "  font-size: 0.6rem;\n",
       "  font-weight: lighter;\n",
       "  color: var(--sklearn-color-text-muted);\n",
       "}\n",
       "\n",
       "#sk-container-id-1 label.sk-toggleable__label-arrow:before {\n",
       "  /* Arrow on the left of the label */\n",
       "  content: \"▸\";\n",
       "  float: left;\n",
       "  margin-right: 0.25em;\n",
       "  color: var(--sklearn-color-icon);\n",
       "}\n",
       "\n",
       "#sk-container-id-1 label.sk-toggleable__label-arrow:hover:before {\n",
       "  color: var(--sklearn-color-text);\n",
       "}\n",
       "\n",
       "/* Toggleable content - dropdown */\n",
       "\n",
       "#sk-container-id-1 div.sk-toggleable__content {\n",
       "  max-height: 0;\n",
       "  max-width: 0;\n",
       "  overflow: hidden;\n",
       "  text-align: left;\n",
       "  /* unfitted */\n",
       "  background-color: var(--sklearn-color-unfitted-level-0);\n",
       "}\n",
       "\n",
       "#sk-container-id-1 div.sk-toggleable__content.fitted {\n",
       "  /* fitted */\n",
       "  background-color: var(--sklearn-color-fitted-level-0);\n",
       "}\n",
       "\n",
       "#sk-container-id-1 div.sk-toggleable__content pre {\n",
       "  margin: 0.2em;\n",
       "  border-radius: 0.25em;\n",
       "  color: var(--sklearn-color-text);\n",
       "  /* unfitted */\n",
       "  background-color: var(--sklearn-color-unfitted-level-0);\n",
       "}\n",
       "\n",
       "#sk-container-id-1 div.sk-toggleable__content.fitted pre {\n",
       "  /* unfitted */\n",
       "  background-color: var(--sklearn-color-fitted-level-0);\n",
       "}\n",
       "\n",
       "#sk-container-id-1 input.sk-toggleable__control:checked~div.sk-toggleable__content {\n",
       "  /* Expand drop-down */\n",
       "  max-height: 200px;\n",
       "  max-width: 100%;\n",
       "  overflow: auto;\n",
       "}\n",
       "\n",
       "#sk-container-id-1 input.sk-toggleable__control:checked~label.sk-toggleable__label-arrow:before {\n",
       "  content: \"▾\";\n",
       "}\n",
       "\n",
       "/* Pipeline/ColumnTransformer-specific style */\n",
       "\n",
       "#sk-container-id-1 div.sk-label input.sk-toggleable__control:checked~label.sk-toggleable__label {\n",
       "  color: var(--sklearn-color-text);\n",
       "  background-color: var(--sklearn-color-unfitted-level-2);\n",
       "}\n",
       "\n",
       "#sk-container-id-1 div.sk-label.fitted input.sk-toggleable__control:checked~label.sk-toggleable__label {\n",
       "  background-color: var(--sklearn-color-fitted-level-2);\n",
       "}\n",
       "\n",
       "/* Estimator-specific style */\n",
       "\n",
       "/* Colorize estimator box */\n",
       "#sk-container-id-1 div.sk-estimator input.sk-toggleable__control:checked~label.sk-toggleable__label {\n",
       "  /* unfitted */\n",
       "  background-color: var(--sklearn-color-unfitted-level-2);\n",
       "}\n",
       "\n",
       "#sk-container-id-1 div.sk-estimator.fitted input.sk-toggleable__control:checked~label.sk-toggleable__label {\n",
       "  /* fitted */\n",
       "  background-color: var(--sklearn-color-fitted-level-2);\n",
       "}\n",
       "\n",
       "#sk-container-id-1 div.sk-label label.sk-toggleable__label,\n",
       "#sk-container-id-1 div.sk-label label {\n",
       "  /* The background is the default theme color */\n",
       "  color: var(--sklearn-color-text-on-default-background);\n",
       "}\n",
       "\n",
       "/* On hover, darken the color of the background */\n",
       "#sk-container-id-1 div.sk-label:hover label.sk-toggleable__label {\n",
       "  color: var(--sklearn-color-text);\n",
       "  background-color: var(--sklearn-color-unfitted-level-2);\n",
       "}\n",
       "\n",
       "/* Label box, darken color on hover, fitted */\n",
       "#sk-container-id-1 div.sk-label.fitted:hover label.sk-toggleable__label.fitted {\n",
       "  color: var(--sklearn-color-text);\n",
       "  background-color: var(--sklearn-color-fitted-level-2);\n",
       "}\n",
       "\n",
       "/* Estimator label */\n",
       "\n",
       "#sk-container-id-1 div.sk-label label {\n",
       "  font-family: monospace;\n",
       "  font-weight: bold;\n",
       "  display: inline-block;\n",
       "  line-height: 1.2em;\n",
       "}\n",
       "\n",
       "#sk-container-id-1 div.sk-label-container {\n",
       "  text-align: center;\n",
       "}\n",
       "\n",
       "/* Estimator-specific */\n",
       "#sk-container-id-1 div.sk-estimator {\n",
       "  font-family: monospace;\n",
       "  border: 1px dotted var(--sklearn-color-border-box);\n",
       "  border-radius: 0.25em;\n",
       "  box-sizing: border-box;\n",
       "  margin-bottom: 0.5em;\n",
       "  /* unfitted */\n",
       "  background-color: var(--sklearn-color-unfitted-level-0);\n",
       "}\n",
       "\n",
       "#sk-container-id-1 div.sk-estimator.fitted {\n",
       "  /* fitted */\n",
       "  background-color: var(--sklearn-color-fitted-level-0);\n",
       "}\n",
       "\n",
       "/* on hover */\n",
       "#sk-container-id-1 div.sk-estimator:hover {\n",
       "  /* unfitted */\n",
       "  background-color: var(--sklearn-color-unfitted-level-2);\n",
       "}\n",
       "\n",
       "#sk-container-id-1 div.sk-estimator.fitted:hover {\n",
       "  /* fitted */\n",
       "  background-color: var(--sklearn-color-fitted-level-2);\n",
       "}\n",
       "\n",
       "/* Specification for estimator info (e.g. \"i\" and \"?\") */\n",
       "\n",
       "/* Common style for \"i\" and \"?\" */\n",
       "\n",
       ".sk-estimator-doc-link,\n",
       "a:link.sk-estimator-doc-link,\n",
       "a:visited.sk-estimator-doc-link {\n",
       "  float: right;\n",
       "  font-size: smaller;\n",
       "  line-height: 1em;\n",
       "  font-family: monospace;\n",
       "  background-color: var(--sklearn-color-background);\n",
       "  border-radius: 1em;\n",
       "  height: 1em;\n",
       "  width: 1em;\n",
       "  text-decoration: none !important;\n",
       "  margin-left: 0.5em;\n",
       "  text-align: center;\n",
       "  /* unfitted */\n",
       "  border: var(--sklearn-color-unfitted-level-1) 1pt solid;\n",
       "  color: var(--sklearn-color-unfitted-level-1);\n",
       "}\n",
       "\n",
       ".sk-estimator-doc-link.fitted,\n",
       "a:link.sk-estimator-doc-link.fitted,\n",
       "a:visited.sk-estimator-doc-link.fitted {\n",
       "  /* fitted */\n",
       "  border: var(--sklearn-color-fitted-level-1) 1pt solid;\n",
       "  color: var(--sklearn-color-fitted-level-1);\n",
       "}\n",
       "\n",
       "/* On hover */\n",
       "div.sk-estimator:hover .sk-estimator-doc-link:hover,\n",
       ".sk-estimator-doc-link:hover,\n",
       "div.sk-label-container:hover .sk-estimator-doc-link:hover,\n",
       ".sk-estimator-doc-link:hover {\n",
       "  /* unfitted */\n",
       "  background-color: var(--sklearn-color-unfitted-level-3);\n",
       "  color: var(--sklearn-color-background);\n",
       "  text-decoration: none;\n",
       "}\n",
       "\n",
       "div.sk-estimator.fitted:hover .sk-estimator-doc-link.fitted:hover,\n",
       ".sk-estimator-doc-link.fitted:hover,\n",
       "div.sk-label-container:hover .sk-estimator-doc-link.fitted:hover,\n",
       ".sk-estimator-doc-link.fitted:hover {\n",
       "  /* fitted */\n",
       "  background-color: var(--sklearn-color-fitted-level-3);\n",
       "  color: var(--sklearn-color-background);\n",
       "  text-decoration: none;\n",
       "}\n",
       "\n",
       "/* Span, style for the box shown on hovering the info icon */\n",
       ".sk-estimator-doc-link span {\n",
       "  display: none;\n",
       "  z-index: 9999;\n",
       "  position: relative;\n",
       "  font-weight: normal;\n",
       "  right: .2ex;\n",
       "  padding: .5ex;\n",
       "  margin: .5ex;\n",
       "  width: min-content;\n",
       "  min-width: 20ex;\n",
       "  max-width: 50ex;\n",
       "  color: var(--sklearn-color-text);\n",
       "  box-shadow: 2pt 2pt 4pt #999;\n",
       "  /* unfitted */\n",
       "  background: var(--sklearn-color-unfitted-level-0);\n",
       "  border: .5pt solid var(--sklearn-color-unfitted-level-3);\n",
       "}\n",
       "\n",
       ".sk-estimator-doc-link.fitted span {\n",
       "  /* fitted */\n",
       "  background: var(--sklearn-color-fitted-level-0);\n",
       "  border: var(--sklearn-color-fitted-level-3);\n",
       "}\n",
       "\n",
       ".sk-estimator-doc-link:hover span {\n",
       "  display: block;\n",
       "}\n",
       "\n",
       "/* \"?\"-specific style due to the `<a>` HTML tag */\n",
       "\n",
       "#sk-container-id-1 a.estimator_doc_link {\n",
       "  float: right;\n",
       "  font-size: 1rem;\n",
       "  line-height: 1em;\n",
       "  font-family: monospace;\n",
       "  background-color: var(--sklearn-color-background);\n",
       "  border-radius: 1rem;\n",
       "  height: 1rem;\n",
       "  width: 1rem;\n",
       "  text-decoration: none;\n",
       "  /* unfitted */\n",
       "  color: var(--sklearn-color-unfitted-level-1);\n",
       "  border: var(--sklearn-color-unfitted-level-1) 1pt solid;\n",
       "}\n",
       "\n",
       "#sk-container-id-1 a.estimator_doc_link.fitted {\n",
       "  /* fitted */\n",
       "  border: var(--sklearn-color-fitted-level-1) 1pt solid;\n",
       "  color: var(--sklearn-color-fitted-level-1);\n",
       "}\n",
       "\n",
       "/* On hover */\n",
       "#sk-container-id-1 a.estimator_doc_link:hover {\n",
       "  /* unfitted */\n",
       "  background-color: var(--sklearn-color-unfitted-level-3);\n",
       "  color: var(--sklearn-color-background);\n",
       "  text-decoration: none;\n",
       "}\n",
       "\n",
       "#sk-container-id-1 a.estimator_doc_link.fitted:hover {\n",
       "  /* fitted */\n",
       "  background-color: var(--sklearn-color-fitted-level-3);\n",
       "}\n",
       "</style><div id=\"sk-container-id-1\" class=\"sk-top-container\"><div class=\"sk-text-repr-fallback\"><pre>Pipeline(steps=[(&#x27;tf-idf&#x27;, TfidfVectorizer()), (&#x27;clf&#x27;, MultinomialNB())])</pre><b>In a Jupyter environment, please rerun this cell to show the HTML representation or trust the notebook. <br />On GitHub, the HTML representation is unable to render, please try loading this page with nbviewer.org.</b></div><div class=\"sk-container\" hidden><div class=\"sk-item sk-dashed-wrapped\"><div class=\"sk-label-container\"><div class=\"sk-label fitted sk-toggleable\"><input class=\"sk-toggleable__control sk-hidden--visually\" id=\"sk-estimator-id-1\" type=\"checkbox\" ><label for=\"sk-estimator-id-1\" class=\"sk-toggleable__label fitted sk-toggleable__label-arrow\"><div><div>Pipeline</div></div><div><a class=\"sk-estimator-doc-link fitted\" rel=\"noreferrer\" target=\"_blank\" href=\"https://scikit-learn.org/1.6/modules/generated/sklearn.pipeline.Pipeline.html\">?<span>Documentation for Pipeline</span></a><span class=\"sk-estimator-doc-link fitted\">i<span>Fitted</span></span></div></label><div class=\"sk-toggleable__content fitted\"><pre>Pipeline(steps=[(&#x27;tf-idf&#x27;, TfidfVectorizer()), (&#x27;clf&#x27;, MultinomialNB())])</pre></div> </div></div><div class=\"sk-serial\"><div class=\"sk-item\"><div class=\"sk-estimator fitted sk-toggleable\"><input class=\"sk-toggleable__control sk-hidden--visually\" id=\"sk-estimator-id-2\" type=\"checkbox\" ><label for=\"sk-estimator-id-2\" class=\"sk-toggleable__label fitted sk-toggleable__label-arrow\"><div><div>TfidfVectorizer</div></div><div><a class=\"sk-estimator-doc-link fitted\" rel=\"noreferrer\" target=\"_blank\" href=\"https://scikit-learn.org/1.6/modules/generated/sklearn.feature_extraction.text.TfidfVectorizer.html\">?<span>Documentation for TfidfVectorizer</span></a></div></label><div class=\"sk-toggleable__content fitted\"><pre>TfidfVectorizer()</pre></div> </div></div><div class=\"sk-item\"><div class=\"sk-estimator fitted sk-toggleable\"><input class=\"sk-toggleable__control sk-hidden--visually\" id=\"sk-estimator-id-3\" type=\"checkbox\" ><label for=\"sk-estimator-id-3\" class=\"sk-toggleable__label fitted sk-toggleable__label-arrow\"><div><div>MultinomialNB</div></div><div><a class=\"sk-estimator-doc-link fitted\" rel=\"noreferrer\" target=\"_blank\" href=\"https://scikit-learn.org/1.6/modules/generated/sklearn.naive_bayes.MultinomialNB.html\">?<span>Documentation for MultinomialNB</span></a></div></label><div class=\"sk-toggleable__content fitted\"><pre>MultinomialNB()</pre></div> </div></div></div></div></div></div>"
      ],
      "text/plain": [
       "Pipeline(steps=[('tf-idf', TfidfVectorizer()), ('clf', MultinomialNB())])"
      ]
     },
     "execution_count": 30,
     "metadata": {},
     "output_type": "execute_result"
    }
   ],
   "source": [
    "from sklearn.feature_extraction.text import TfidfVectorizer\n",
    "from sklearn.naive_bayes import MultinomialNB\n",
    "from sklearn.pipeline import Pipeline\n",
    "\n",
    "# Create a pipeline\n",
    "model_0 = Pipeline([\n",
    "    (\"tf-idf\", TfidfVectorizer()),\n",
    "    (\"clf\", MultinomialNB())\n",
    "])\n",
    "\n",
    "# Fit the pipeline to the training data\n",
    "model_0.fit(X=train_sentences, y=train_labels_encoded)"
   ]
  },
  {
   "cell_type": "code",
   "execution_count": 31,
   "id": "7dd7fbf3",
   "metadata": {},
   "outputs": [
    {
     "data": {
      "text/plain": [
       "0.7218323844829869"
      ]
     },
     "execution_count": 31,
     "metadata": {},
     "output_type": "execute_result"
    }
   ],
   "source": [
    "# Evaluate baseline model on validation dataset\n",
    "model_0.score(X=val_sentences, y=val_labels_encoded)"
   ]
  },
  {
   "cell_type": "markdown",
   "id": "02a7a9fe",
   "metadata": {},
   "source": [
    "Nice! Looks like *72.2%* accuracy will be the number to beat with our deeper models.\n",
    "\n",
    "Now let's make some predictions with our baseline model to further evaluate it."
   ]
  },
  {
   "cell_type": "code",
   "execution_count": 32,
   "id": "e1e36a58",
   "metadata": {},
   "outputs": [
    {
     "data": {
      "text/plain": [
       "array([4, 1, 3, ..., 4, 4, 1])"
      ]
     },
     "execution_count": 32,
     "metadata": {},
     "output_type": "execute_result"
    }
   ],
   "source": [
    "baseline_preds = model_0.predict(val_sentences)\n",
    "baseline_preds"
   ]
  },
  {
   "cell_type": "code",
   "execution_count": 33,
   "id": "08fc7957",
   "metadata": {},
   "outputs": [
    {
     "data": {
      "text/plain": [
       "{'accuracy': 72.1832384482987,\n",
       " 'precision': 0.7186466952323352,\n",
       " 'recall': 0.7218323844829869,\n",
       " 'f1': 0.6989250353450294}"
      ]
     },
     "execution_count": 33,
     "metadata": {},
     "output_type": "execute_result"
    }
   ],
   "source": [
    "baseline_results = calculate_results(y_true=val_labels_encoded, y_pred=baseline_preds)\n",
    "baseline_results"
   ]
  },
  {
   "cell_type": "markdown",
   "id": "793cc483",
   "metadata": {},
   "source": [
    "*That is the end of model 0 with Tf Idf, for deeper upgrade, we have to prepare our data further.*"
   ]
  },
  {
   "cell_type": "markdown",
   "id": "619ac678",
   "metadata": {},
   "source": [
    "### Preparing data for deep learning model\n",
    "We can use the `TextVectorization` layer from TensorFlow to turn our text into embedded numerical tensors."
   ]
  },
  {
   "cell_type": "code",
   "execution_count": 34,
   "id": "11b0791d",
   "metadata": {},
   "outputs": [
    {
     "name": "stdout",
     "output_type": "stream",
     "text": [
      "Average length: 26.338269273494777\n"
     ]
    },
    {
     "data": {
      "text/plain": [
       "(array([4.2075e+04, 8.3771e+04, 3.6877e+04, 1.0945e+04, 3.9310e+03,\n",
       "        1.4450e+03, 5.6000e+02, 2.2600e+02, 1.0100e+02, 4.5000e+01,\n",
       "        2.0000e+01, 1.2000e+01, 9.0000e+00, 1.0000e+01, 6.0000e+00,\n",
       "        2.0000e+00, 3.0000e+00, 0.0000e+00, 1.0000e+00, 1.0000e+00]),\n",
       " array([  1.  ,  15.75,  30.5 ,  45.25,  60.  ,  74.75,  89.5 , 104.25,\n",
       "        119.  , 133.75, 148.5 , 163.25, 178.  , 192.75, 207.5 , 222.25,\n",
       "        237.  , 251.75, 266.5 , 281.25, 296.  ]),\n",
       " <BarContainer object of 20 artists>)"
      ]
     },
     "execution_count": 34,
     "metadata": {},
     "output_type": "execute_result"
    },
    {
     "data": {
      "image/png": "[encoded data removed]",
      "text/plain": [
       "<Figure size 640x480 with 1 Axes>"
      ]
     },
     "metadata": {},
     "output_type": "display_data"
    }
   ],
   "source": [
    "from tensorflow.keras import layers\n",
    "import numpy as np\n",
    "# How long is each sentence on average\n",
    "sentence_len = [len(sentence.split()) for sentence in train_sentences]\n",
    "sentence_len\n",
    "\n",
    "print(f\"Average length: {np.mean(sentence_len)}\")\n",
    "plt.hist(sentence_len, bins=20)"
   ]
  },
  {
   "cell_type": "code",
   "execution_count": 35,
   "id": "ecc5436a",
   "metadata": {},
   "outputs": [
    {
     "name": "stdout",
     "output_type": "stream",
     "text": [
      "55\n",
      "296\n"
     ]
    }
   ],
   "source": [
    "output_seq_len = int(np.percentile(sentence_len, 95))\n",
    "print(output_seq_len)\n",
    "print(np.max(sentence_len))"
   ]
  },
  {
   "cell_type": "markdown",
   "id": "27cc239d",
   "metadata": {},
   "source": [
    "Wonderful! It looks like 95% of the sentences in our training set have a length of 55 tokens or less.\n",
    "\n",
    "When we create our tokenization layer, we'll use this value to turn all of our sentences into the same length. Meaning sentences with a length below 55 get padded with zeros and sentences with a length above 55 get truncated (words after 55 get cut off)."
   ]
  },
  {
   "cell_type": "markdown",
   "id": "c7938c23",
   "metadata": {},
   "source": [
    "### Creating a text vectorization layer"
   ]
  },
  {
   "cell_type": "code",
   "execution_count": 36,
   "id": "f4172cfd",
   "metadata": {},
   "outputs": [],
   "source": [
    "# Define max_tokens\n",
    "max_tokens = 68000\n",
    "\n",
    "# Create text vectorizer\n",
    "from tensorflow.keras.layers import TextVectorization\n",
    "\n",
    "text_vectorizer = TextVectorization(max_tokens=max_tokens, output_sequence_length=output_seq_len)"
   ]
  },
  {
   "cell_type": "markdown",
   "id": "5c5d97fc",
   "metadata": {},
   "source": [
    "Adapt text vectorizer to training sentences"
   ]
  },
  {
   "cell_type": "code",
   "execution_count": 37,
   "id": "86163f46",
   "metadata": {},
   "outputs": [],
   "source": [
    "text_vectorizer.adapt(train_sentences)"
   ]
  },
  {
   "cell_type": "markdown",
   "id": "9ad13e78",
   "metadata": {},
   "source": [
    "`TextVectorization` lưu một bảng tra cứu token → index ở bên trong (dùng TensorFlow lookup table).\n",
    "\n",
    "Nếu bạn chưa gọi `.adapt()` thì bảng đó rỗng, nên khi gọi `.call()` (tức là khi bạn làm text_vectorizer([...])) nó sẽ báo \"table not initialized\".\n",
    "\n",
    "👉 Sau khi `.adapt(train_sentences)`, nó mới biết từ nào trong vocabulary để map thành số."
   ]
  },
  {
   "cell_type": "markdown",
   "id": "048d1a89",
   "metadata": {},
   "source": [
    "Test our text vectorizer on random training sentences"
   ]
  },
  {
   "cell_type": "code",
   "execution_count": 38,
   "id": "276afdcc",
   "metadata": {},
   "outputs": [
    {
     "name": "stdout",
     "output_type": "stream",
     "text": [
      "Text:\n",
      "grade @ fatigue , reported in five ( @ % ) patients in the @ mg/kg pembrolizumab group , was the only drug-related grade @ to @ adverse event reported in more than one patient .\n",
      "\n",
      "Length of text: 177\n",
      "\n",
      " Vectorized text: [[ 445  648  205    5  487   12    5    2  618 7176   13   10    2  192\n",
      "  4329  445    6  118  675  205    5   69   42   88  127    0    0    0\n",
      "     0    0    0    0    0    0    0    0    0    0    0    0    0    0\n",
      "     0    0    0    0    0    0    0    0    0    0    0    0    0]]\n"
     ]
    }
   ],
   "source": [
    "import random\n",
    "target_sentence = random.choice(train_sentences)\n",
    "print(f\"Text:\\n{target_sentence}\")\n",
    "print(f\"\\nLength of text: {len(target_sentence)}\")\n",
    "print(f\"\\n Vectorized text: {text_vectorizer([target_sentence])}\") "
   ]
  },
  {
   "cell_type": "code",
   "execution_count": 39,
   "id": "8777c7c9",
   "metadata": {},
   "outputs": [
    {
     "name": "stdout",
     "output_type": "stream",
     "text": [
      "Number of words in vocabulary: 64841\n",
      "Most common words in the vocabulary: ['', '[UNK]', 'the', 'and', 'of']\n",
      "Least common words in the vocabulary: ['aainduced', 'aaigroup', 'aachener', 'aachen', 'aaacp']\n"
     ]
    }
   ],
   "source": [
    "# How many words in our training vocabulary?\n",
    "rct_20k_text_vocab = text_vectorizer.get_vocabulary()\n",
    "print(f\"Number of words in vocabulary: {len(rct_20k_text_vocab)}\"), \n",
    "print(f\"Most common words in the vocabulary: {rct_20k_text_vocab[:5]}\")\n",
    "print(f\"Least common words in the vocabulary: {rct_20k_text_vocab[-5:]}\")"
   ]
  },
  {
   "cell_type": "code",
   "execution_count": 40,
   "id": "1f02fbc6",
   "metadata": {},
   "outputs": [
    {
     "data": {
      "text/plain": [
       "{'name': 'text_vectorization',\n",
       " 'trainable': True,\n",
       " 'dtype': {'module': 'keras',\n",
       "  'class_name': 'DTypePolicy',\n",
       "  'config': {'name': 'float32'},\n",
       "  'registered_name': None},\n",
       " 'max_tokens': 68000,\n",
       " 'standardize': 'lower_and_strip_punctuation',\n",
       " 'split': 'whitespace',\n",
       " 'ngrams': None,\n",
       " 'output_mode': 'int',\n",
       " 'output_sequence_length': 55,\n",
       " 'pad_to_max_tokens': False,\n",
       " 'sparse': False,\n",
       " 'ragged': False,\n",
       " 'vocabulary': None,\n",
       " 'idf_weights': None,\n",
       " 'encoding': 'utf-8',\n",
       " 'vocabulary_size': 64841}"
      ]
     },
     "execution_count": 40,
     "metadata": {},
     "output_type": "execute_result"
    }
   ],
   "source": [
    "# Get the config of our text vectorizer\n",
    "text_vectorizer.get_config()"
   ]
  },
  {
   "cell_type": "markdown",
   "id": "dcb54df8",
   "metadata": {},
   "source": [
    "### Create custom-text embedding\n",
    "*Turns positive integers (indexes) into dense vectors of fixed size.*"
   ]
  },
  {
   "cell_type": "code",
   "execution_count": 41,
   "id": "0421fb48",
   "metadata": {},
   "outputs": [],
   "source": [
    "# Create the token embedding layer\n",
    "token_embed = layers.Embedding(input_dim=len(rct_20k_text_vocab), # length of vocabulary\n",
    "                               output_dim=128, # Note: Different embedding sizes result in drastically different number of params,\n",
    "                               mask_zero=True, # Use masking to handle sequence length\n",
    "                               name=\"token_embedding\")"
   ]
  },
  {
   "cell_type": "code",
   "execution_count": 42,
   "id": "fd879f5d",
   "metadata": {},
   "outputs": [
    {
     "name": "stdout",
     "output_type": "stream",
     "text": [
      "Sentence before vectorization:\n",
      "grade @ fatigue , reported in five ( @ % ) patients in the @ mg/kg pembrolizumab group , was the only drug-related grade @ to @ adverse event reported in more than one patient .\n",
      "\n",
      "Sentence after vectorization (before embedding):\n",
      "[[ 445  648  205    5  487   12    5    2  618 7176   13   10    2  192\n",
      "  4329  445    6  118  675  205    5   69   42   88  127    0    0    0\n",
      "     0    0    0    0    0    0    0    0    0    0    0    0    0    0\n",
      "     0    0    0    0    0    0    0    0    0    0    0    0    0]]\n",
      "\n",
      "Sentence after embedding:\n",
      "[[[-0.04636243  0.00708871 -0.02259954 ...  0.02883197 -0.02511686\n",
      "    0.00945313]\n",
      "  [-0.04471942  0.01200207  0.00782534 ...  0.02723939 -0.00892478\n",
      "   -0.00249724]\n",
      "  [ 0.04621394 -0.02915446 -0.01175723 ...  0.01616131  0.02816016\n",
      "    0.03171978]\n",
      "  ...\n",
      "  [ 0.02953779  0.02663651 -0.01685242 ... -0.01403715  0.03691596\n",
      "   -0.0232713 ]\n",
      "  [ 0.02953779  0.02663651 -0.01685242 ... -0.01403715  0.03691596\n",
      "   -0.0232713 ]\n",
      "  [ 0.02953779  0.02663651 -0.01685242 ... -0.01403715  0.03691596\n",
      "   -0.0232713 ]]]\n",
      "\n",
      "Embedded sentence shape: (1, 55, 128)\n"
     ]
    }
   ],
   "source": [
    "# Show example embedding\n",
    "print(f\"Sentence before vectorization:\\n{target_sentence}\\n\")\n",
    "vectorized_sentence = text_vectorizer([target_sentence])\n",
    "print(f\"Sentence after vectorization (before embedding):\\n{vectorized_sentence}\\n\")\n",
    "embedded_sentence = token_embed(vectorized_sentence)\n",
    "print(f\"Sentence after embedding:\\n{embedded_sentence}\\n\")\n",
    "print(f\"Embedded sentence shape: {embedded_sentence.shape}\")"
   ]
  },
  {
   "cell_type": "markdown",
   "id": "4c95f633",
   "metadata": {},
   "source": [
    "## Create datasets (as fast as possible)\n",
    "We've gone through all the trouble of preprocessing our datasets to be used with a machine learning model, however, there are still a few steps we can use to make them work faster with our models.\n",
    "\n",
    "Namely, the `tf.data API` provides methods which enable faster data loading.\n",
    "\n",
    "`tf.data`: Build TensorFlow input pipelines\n",
    "Better performance with the tf.data API\n",
    "The main steps we'll want to use with our data is to turn it into a PrefetchDataset of batches.\n",
    "\n",
    "Doing so we'll ensure TensorFlow loads our data onto the GPU as fast as possible, in turn leading to faster training time.\n",
    "\n",
    "To create a batched PrefetchDataset we can use the methods `batch()` and `prefetch()`, the parameter `tf.data.AUTOTUNE` will also allow TensorFlow to determine the optimal amount of compute to use to prepare datasets."
   ]
  },
  {
   "cell_type": "code",
   "execution_count": 43,
   "id": "4853b77a",
   "metadata": {},
   "outputs": [
    {
     "data": {
      "text/plain": [
       "<_TensorSliceDataset element_spec=(TensorSpec(shape=(), dtype=tf.string, name=None), TensorSpec(shape=(5,), dtype=tf.float64, name=None))>"
      ]
     },
     "execution_count": 43,
     "metadata": {},
     "output_type": "execute_result"
    }
   ],
   "source": [
    "# Turn our data into TensorFlow Datasets\n",
    "train_dataset = tf.data.Dataset.from_tensor_slices((train_sentences, train_labels_one_hot))\n",
    "valid_dataset = tf.data.Dataset.from_tensor_slices((val_sentences, val_labels_one_hot))\n",
    "test_dataset = tf.data.Dataset.from_tensor_slices((test_sentences, test_labels_one_hot))\n",
    "train_dataset"
   ]
  },
  {
   "cell_type": "markdown",
   "id": "c3c37932",
   "metadata": {},
   "source": [
    "### Prefectching\n",
    "Prefeching overlaps the preprocessing and model execution of a training step. While the model is executing training step *n*, the input pipeline is reading the data for step *n+1*. This can **reduce the time** it takes to train a model.\n",
    "\n",
    "The `tf.data.Dataset.prefetch()` method creates a dataset that prefetches elements from this dataset. The argument `buffer_size` is the number of elements to prefetch. Setting `buffer_size=tf.data.AUTOTUNE` allows the tf.data runtime to tune the value dynamically at runtime.\n",
    "\n",
    "> We have to turn batch(32) before prefetch(tf.data.AUTOTUNE) because prefetching works on the data that has already been batched."
   ]
  },
  {
   "cell_type": "code",
   "execution_count": 44,
   "id": "beaa8d12",
   "metadata": {},
   "outputs": [
    {
     "data": {
      "text/plain": [
       "<_PrefetchDataset element_spec=(TensorSpec(shape=(None,), dtype=tf.string, name=None), TensorSpec(shape=(None, 5), dtype=tf.float64, name=None))>"
      ]
     },
     "execution_count": 44,
     "metadata": {},
     "output_type": "execute_result"
    }
   ],
   "source": [
    "# Take the TensorSliceDataset's and turn them into prefetched batches\n",
    "train_dataset = train_dataset.batch(32).prefetch(tf.data.AUTOTUNE)\n",
    "valid_dataset = valid_dataset.batch(32).prefetch(tf.data.AUTOTUNE)\n",
    "test_dataset = test_dataset.batch(32).prefetch(tf.data.AUTOTUNE)\n",
    "\n",
    "train_dataset"
   ]
  },
  {
   "cell_type": "markdown",
   "id": "5929fcd7",
   "metadata": {},
   "source": [
    "### Model 1: Convolutional Neural Network (CNN) 1D with token embeddings\n",
    "\n",
    "> Input(text) -> Tokenization -> Embedding -> Conv1D -> GlobalMaxPool1D -> Dense -> Output (label probabilities)"
   ]
  },
  {
   "cell_type": "markdown",
   "id": "f814f23e",
   "metadata": {},
   "source": [
    "The main component we'll be changing throughout is the Layers component. Because any modern deep NLP model requires text to be converted into an embedding before meaningful patterns can be discovered within."
   ]
  },
  {
   "cell_type": "code",
   "execution_count": 45,
   "id": "97fb254f",
   "metadata": {},
   "outputs": [
    {
     "name": "stderr",
     "output_type": "stream",
     "text": [
      "/home/dikhangcshcmut/.local/lib/python3.10/site-packages/keras/src/layers/layer.py:965: UserWarning: Layer 'conv1d' (of type Conv1D) was passed an input with a mask attached to it. However, this layer does not support masking and will therefore destroy the mask information. Downstream layers will not see the mask.\n",
      "  warnings.warn(\n"
     ]
    }
   ],
   "source": [
    "# Create model with sequences\n",
    "inputs = layers.Input(shape=(1,), dtype=tf.string)\n",
    "\n",
    "text_vectors = text_vectorizer(inputs) # vectorize text inputs\n",
    "\n",
    "token_embeddings = token_embed(text_vectors) # Create embedding\n",
    "\n",
    "x = layers.Conv1D(64, kernel_size=5, padding=\"same\", activation=\"relu\")(token_embeddings)\n",
    "x = layers.GlobalAveragePooling1D()(x) # condense the output of our feature vector\n",
    "\n",
    "outputs = layers.Dense(num_classes, activation=\"softmax\")(x)\n",
    "model_1 = tf.keras.Model(inputs, outputs)"
   ]
  },
  {
   "cell_type": "code",
   "execution_count": 46,
   "id": "ee2dfada",
   "metadata": {},
   "outputs": [
    {
     "data": {
      "text/html": [
       "<pre style=\"white-space:pre;overflow-x:auto;line-height:normal;font-family:Menlo,'DejaVu Sans Mono',consolas,'Courier New',monospace\"><span style=\"font-weight: bold\">Model: \"functional\"</span>\n",
       "</pre>\n"
      ],
      "text/plain": [
       "\u001b[1mModel: \"functional\"\u001b[0m\n"
      ]
     },
     "metadata": {},
     "output_type": "display_data"
    },
    {
     "data": {
      "text/html": [
       "<pre style=\"white-space:pre;overflow-x:auto;line-height:normal;font-family:Menlo,'DejaVu Sans Mono',consolas,'Courier New',monospace\">┏━━━━━━━━━━━━━━━━━━━━━━━━━━━━━━━━━┳━━━━━━━━━━━━━━━━━━━━━━━━┳━━━━━━━━━━━━━━━┓\n",
       "┃<span style=\"font-weight: bold\"> Layer (type)                    </span>┃<span style=\"font-weight: bold\"> Output Shape           </span>┃<span style=\"font-weight: bold\">       Param # </span>┃\n",
       "┡━━━━━━━━━━━━━━━━━━━━━━━━━━━━━━━━━╇━━━━━━━━━━━━━━━━━━━━━━━━╇━━━━━━━━━━━━━━━┩\n",
       "│ input_layer (<span style=\"color: #0087ff; text-decoration-color: #0087ff\">InputLayer</span>)        │ (<span style=\"color: #00d7ff; text-decoration-color: #00d7ff\">None</span>, <span style=\"color: #00af00; text-decoration-color: #00af00\">1</span>)              │             <span style=\"color: #00af00; text-decoration-color: #00af00\">0</span> │\n",
       "├─────────────────────────────────┼────────────────────────┼───────────────┤\n",
       "│ text_vectorization              │ (<span style=\"color: #00d7ff; text-decoration-color: #00d7ff\">None</span>, <span style=\"color: #00af00; text-decoration-color: #00af00\">55</span>)             │             <span style=\"color: #00af00; text-decoration-color: #00af00\">0</span> │\n",
       "│ (<span style=\"color: #0087ff; text-decoration-color: #0087ff\">TextVectorization</span>)             │                        │               │\n",
       "├─────────────────────────────────┼────────────────────────┼───────────────┤\n",
       "│ token_embedding (<span style=\"color: #0087ff; text-decoration-color: #0087ff\">Embedding</span>)     │ (<span style=\"color: #00d7ff; text-decoration-color: #00d7ff\">None</span>, <span style=\"color: #00af00; text-decoration-color: #00af00\">55</span>, <span style=\"color: #00af00; text-decoration-color: #00af00\">128</span>)        │     <span style=\"color: #00af00; text-decoration-color: #00af00\">8,299,648</span> │\n",
       "├─────────────────────────────────┼────────────────────────┼───────────────┤\n",
       "│ conv1d (<span style=\"color: #0087ff; text-decoration-color: #0087ff\">Conv1D</span>)                 │ (<span style=\"color: #00d7ff; text-decoration-color: #00d7ff\">None</span>, <span style=\"color: #00af00; text-decoration-color: #00af00\">55</span>, <span style=\"color: #00af00; text-decoration-color: #00af00\">64</span>)         │        <span style=\"color: #00af00; text-decoration-color: #00af00\">41,024</span> │\n",
       "├─────────────────────────────────┼────────────────────────┼───────────────┤\n",
       "│ global_average_pooling1d        │ (<span style=\"color: #00d7ff; text-decoration-color: #00d7ff\">None</span>, <span style=\"color: #00af00; text-decoration-color: #00af00\">64</span>)             │             <span style=\"color: #00af00; text-decoration-color: #00af00\">0</span> │\n",
       "│ (<span style=\"color: #0087ff; text-decoration-color: #0087ff\">GlobalAveragePooling1D</span>)        │                        │               │\n",
       "├─────────────────────────────────┼────────────────────────┼───────────────┤\n",
       "│ dense (<span style=\"color: #0087ff; text-decoration-color: #0087ff\">Dense</span>)                   │ (<span style=\"color: #00d7ff; text-decoration-color: #00d7ff\">None</span>, <span style=\"color: #00af00; text-decoration-color: #00af00\">5</span>)              │           <span style=\"color: #00af00; text-decoration-color: #00af00\">325</span> │\n",
       "└─────────────────────────────────┴────────────────────────┴───────────────┘\n",
       "</pre>\n"
      ],
      "text/plain": [
       "┏━━━━━━━━━━━━━━━━━━━━━━━━━━━━━━━━━┳━━━━━━━━━━━━━━━━━━━━━━━━┳━━━━━━━━━━━━━━━┓\n",
       "┃\u001b[1m \u001b[0m\u001b[1mLayer (type)                   \u001b[0m\u001b[1m \u001b[0m┃\u001b[1m \u001b[0m\u001b[1mOutput Shape          \u001b[0m\u001b[1m \u001b[0m┃\u001b[1m \u001b[0m\u001b[1m      Param #\u001b[0m\u001b[1m \u001b[0m┃\n",
       "┡━━━━━━━━━━━━━━━━━━━━━━━━━━━━━━━━━╇━━━━━━━━━━━━━━━━━━━━━━━━╇━━━━━━━━━━━━━━━┩\n",
       "│ input_layer (\u001b[38;5;33mInputLayer\u001b[0m)        │ (\u001b[38;5;45mNone\u001b[0m, \u001b[38;5;34m1\u001b[0m)              │             \u001b[38;5;34m0\u001b[0m │\n",
       "├─────────────────────────────────┼────────────────────────┼───────────────┤\n",
       "│ text_vectorization              │ (\u001b[38;5;45mNone\u001b[0m, \u001b[38;5;34m55\u001b[0m)             │             \u001b[38;5;34m0\u001b[0m │\n",
       "│ (\u001b[38;5;33mTextVectorization\u001b[0m)             │                        │               │\n",
       "├─────────────────────────────────┼────────────────────────┼───────────────┤\n",
       "│ token_embedding (\u001b[38;5;33mEmbedding\u001b[0m)     │ (\u001b[38;5;45mNone\u001b[0m, \u001b[38;5;34m55\u001b[0m, \u001b[38;5;34m128\u001b[0m)        │     \u001b[38;5;34m8,299,648\u001b[0m │\n",
       "├─────────────────────────────────┼────────────────────────┼───────────────┤\n",
       "│ conv1d (\u001b[38;5;33mConv1D\u001b[0m)                 │ (\u001b[38;5;45mNone\u001b[0m, \u001b[38;5;34m55\u001b[0m, \u001b[38;5;34m64\u001b[0m)         │        \u001b[38;5;34m41,024\u001b[0m │\n",
       "├─────────────────────────────────┼────────────────────────┼───────────────┤\n",
       "│ global_average_pooling1d        │ (\u001b[38;5;45mNone\u001b[0m, \u001b[38;5;34m64\u001b[0m)             │             \u001b[38;5;34m0\u001b[0m │\n",
       "│ (\u001b[38;5;33mGlobalAveragePooling1D\u001b[0m)        │                        │               │\n",
       "├─────────────────────────────────┼────────────────────────┼───────────────┤\n",
       "│ dense (\u001b[38;5;33mDense\u001b[0m)                   │ (\u001b[38;5;45mNone\u001b[0m, \u001b[38;5;34m5\u001b[0m)              │           \u001b[38;5;34m325\u001b[0m │\n",
       "└─────────────────────────────────┴────────────────────────┴───────────────┘\n"
      ]
     },
     "metadata": {},
     "output_type": "display_data"
    },
    {
     "data": {
      "text/html": [
       "<pre style=\"white-space:pre;overflow-x:auto;line-height:normal;font-family:Menlo,'DejaVu Sans Mono',consolas,'Courier New',monospace\"><span style=\"font-weight: bold\"> Total params: </span><span style=\"color: #00af00; text-decoration-color: #00af00\">8,340,997</span> (31.82 MB)\n",
       "</pre>\n"
      ],
      "text/plain": [
       "\u001b[1m Total params: \u001b[0m\u001b[38;5;34m8,340,997\u001b[0m (31.82 MB)\n"
      ]
     },
     "metadata": {},
     "output_type": "display_data"
    },
    {
     "data": {
      "text/html": [
       "<pre style=\"white-space:pre;overflow-x:auto;line-height:normal;font-family:Menlo,'DejaVu Sans Mono',consolas,'Courier New',monospace\"><span style=\"font-weight: bold\"> Trainable params: </span><span style=\"color: #00af00; text-decoration-color: #00af00\">8,340,997</span> (31.82 MB)\n",
       "</pre>\n"
      ],
      "text/plain": [
       "\u001b[1m Trainable params: \u001b[0m\u001b[38;5;34m8,340,997\u001b[0m (31.82 MB)\n"
      ]
     },
     "metadata": {},
     "output_type": "display_data"
    },
    {
     "data": {
      "text/html": [
       "<pre style=\"white-space:pre;overflow-x:auto;line-height:normal;font-family:Menlo,'DejaVu Sans Mono',consolas,'Courier New',monospace\"><span style=\"font-weight: bold\"> Non-trainable params: </span><span style=\"color: #00af00; text-decoration-color: #00af00\">0</span> (0.00 B)\n",
       "</pre>\n"
      ],
      "text/plain": [
       "\u001b[1m Non-trainable params: \u001b[0m\u001b[38;5;34m0\u001b[0m (0.00 B)\n"
      ]
     },
     "metadata": {},
     "output_type": "display_data"
    }
   ],
   "source": [
    "# Compile the model\n",
    "model_1.compile(loss=\"categorical_crossentropy\",# if your labels are integer form (not one hot) use sparse_categorical_crossentropy\n",
    "                optimizer=tf.keras.optimizers.Adam(),\n",
    "                metrics=[\"accuracy\"])\n",
    "\n",
    "# Get summary of Conv1D model\n",
    "model_1.summary()"
   ]
  },
  {
   "cell_type": "code",
   "execution_count": 47,
   "id": "88f0217d",
   "metadata": {},
   "outputs": [
    {
     "name": "stdout",
     "output_type": "stream",
     "text": [
      "Epoch 1/3\n",
      "\u001b[1m562/562\u001b[0m \u001b[32m━━━━━━━━━━━━━━━━━━━━\u001b[0m\u001b[37m\u001b[0m \u001b[1m47s\u001b[0m 82ms/step - accuracy: 0.5320 - loss: 1.1534 - val_accuracy: 0.7410 - val_loss: 0.6941\n",
      "Epoch 2/3\n",
      "\u001b[1m562/562\u001b[0m \u001b[32m━━━━━━━━━━━━━━━━━━━━\u001b[0m\u001b[37m\u001b[0m \u001b[1m46s\u001b[0m 82ms/step - accuracy: 0.7423 - loss: 0.6911 - val_accuracy: 0.7676 - val_loss: 0.6417\n",
      "Epoch 3/3\n",
      "\u001b[1m562/562\u001b[0m \u001b[32m━━━━━━━━━━━━━━━━━━━━\u001b[0m\u001b[37m\u001b[0m \u001b[1m48s\u001b[0m 86ms/step - accuracy: 0.7638 - loss: 0.6289 - val_accuracy: 0.7836 - val_loss: 0.6045\n"
     ]
    }
   ],
   "source": [
    "# Fit the model\n",
    "# Fit the model\n",
    "model_1_history = model_1.fit(train_dataset,\n",
    "                              steps_per_epoch=int(0.1*len(train_dataset)),\n",
    "                              epochs=3,\n",
    "                              validation_data=valid_dataset,\n",
    "                              validation_steps=int(0.1*len(valid_dataset))) # Only 10% of the dataset"
   ]
  },
  {
   "cell_type": "code",
   "execution_count": 48,
   "id": "401337ad",
   "metadata": {},
   "outputs": [
    {
     "name": "stdout",
     "output_type": "stream",
     "text": [
      "\u001b[1m945/945\u001b[0m \u001b[32m━━━━━━━━━━━━━━━━━━━━\u001b[0m\u001b[37m\u001b[0m \u001b[1m5s\u001b[0m 6ms/step - accuracy: 0.7836 - loss: 0.6038\n"
     ]
    },
    {
     "data": {
      "text/plain": [
       "[0.6065527200698853, 0.7835959196090698]"
      ]
     },
     "execution_count": 48,
     "metadata": {},
     "output_type": "execute_result"
    }
   ],
   "source": [
    "model_1.evaluate(valid_dataset)"
   ]
  },
  {
   "cell_type": "code",
   "execution_count": 49,
   "id": "d8651fe9",
   "metadata": {},
   "outputs": [
    {
     "name": "stdout",
     "output_type": "stream",
     "text": [
      "\u001b[1m945/945\u001b[0m \u001b[32m━━━━━━━━━━━━━━━━━━━━\u001b[0m\u001b[37m\u001b[0m \u001b[1m5s\u001b[0m 5ms/step\n"
     ]
    },
    {
     "data": {
      "text/plain": [
       "array([[4.05853391e-01, 1.75383374e-01, 1.16040632e-01, 2.65939057e-01,\n",
       "        3.67835686e-02],\n",
       "       [4.42969710e-01, 2.68096238e-01, 1.00949565e-02, 2.72983789e-01,\n",
       "        5.85528836e-03],\n",
       "       [1.58695668e-01, 8.12844001e-03, 2.83976900e-03, 8.30299258e-01,\n",
       "        3.68082729e-05],\n",
       "       ...,\n",
       "       [6.41083670e-06, 9.54281015e-04, 6.99949916e-04, 2.33583455e-06,\n",
       "        9.98337030e-01],\n",
       "       [4.79470715e-02, 4.31722492e-01, 1.06944516e-01, 4.43450809e-02,\n",
       "        3.69040877e-01],\n",
       "       [1.70734152e-01, 6.14769757e-01, 5.71265332e-02, 6.57020137e-02,\n",
       "        9.16676149e-02]], dtype=float32)"
      ]
     },
     "execution_count": 49,
     "metadata": {},
     "output_type": "execute_result"
    }
   ],
   "source": [
    "# Make predictions (our model outputs prediction probabilities for each class)\n",
    "model_1_pred_probs = model_1.predict(valid_dataset)\n",
    "model_1_pred_probs"
   ]
  },
  {
   "cell_type": "code",
   "execution_count": 50,
   "id": "8bff622c",
   "metadata": {},
   "outputs": [
    {
     "data": {
      "text/plain": [
       "<tf.Tensor: shape=(30212,), dtype=int64, numpy=array([0, 0, 3, ..., 4, 1, 1])>"
      ]
     },
     "execution_count": 50,
     "metadata": {},
     "output_type": "execute_result"
    }
   ],
   "source": [
    "# Convert pred probs to classes\n",
    "model_1_preds = tf.argmax(model_1_pred_probs, axis=1)\n",
    "model_1_preds"
   ]
  },
  {
   "cell_type": "code",
   "execution_count": 51,
   "id": "8085e90c",
   "metadata": {},
   "outputs": [
    {
     "data": {
      "text/plain": [
       "{'accuracy': 78.3595922150139,\n",
       " 'precision': 0.7800533849700586,\n",
       " 'recall': 0.7835959221501391,\n",
       " 'f1': 0.7808814857407956}"
      ]
     },
     "execution_count": 51,
     "metadata": {},
     "output_type": "execute_result"
    }
   ],
   "source": [
    "# Calculate model_1 results\n",
    "model_1_results = calculate_results(y_true=val_labels_encoded,\n",
    "                                    y_pred=model_1_preds)\n",
    "model_1_results"
   ]
  },
  {
   "cell_type": "code",
   "execution_count": 52,
   "id": "9350f566",
   "metadata": {},
   "outputs": [
    {
     "data": {
      "text/plain": [
       "{'accuracy': 72.1832384482987,\n",
       " 'precision': 0.7186466952323352,\n",
       " 'recall': 0.7218323844829869,\n",
       " 'f1': 0.6989250353450294}"
      ]
     },
     "execution_count": 52,
     "metadata": {},
     "output_type": "execute_result"
    }
   ],
   "source": [
    "baseline_results"
   ]
  },
  {
   "cell_type": "code",
   "execution_count": 53,
   "id": "306e86a3",
   "metadata": {},
   "outputs": [],
   "source": [
    "from tabulate import tabulate  # pip install tabulate\n",
    "\n",
    "def compare_results(baseline_results: dict, new_results: dict, digits: int = 4):\n",
    "    rows = []\n",
    "    all_keys = set(baseline_results.keys()) | set(new_results.keys())\n",
    "\n",
    "    for key in all_keys:\n",
    "        base_val = baseline_results.get(key, None)\n",
    "        new_val = new_results.get(key, None)\n",
    "        diff, status = None, \"\"\n",
    "        \n",
    "        if base_val is not None and new_val is not None:\n",
    "            diff = new_val - base_val\n",
    "            if diff > 0:\n",
    "                status = \"Higher\"\n",
    "            elif diff < 0:\n",
    "                status = \"Lower\"\n",
    "            else:\n",
    "                status = \"Equal\"\n",
    "\n",
    "        rows.append([\n",
    "            key,\n",
    "            None if base_val is None else round(base_val, digits),\n",
    "            None if new_val is None else round(new_val, digits),\n",
    "            None if diff is None else round(diff, digits),\n",
    "            status\n",
    "        ])\n",
    "\n",
    "    print(tabulate(rows, headers=[\"Metric\", \"Baseline\", \"New\", \"Diff\", \"Status\"], tablefmt=\"pretty\"))\n",
    "    return rows\n"
   ]
  },
  {
   "cell_type": "code",
   "execution_count": 54,
   "id": "8f829bbd",
   "metadata": {},
   "outputs": [
    {
     "name": "stdout",
     "output_type": "stream",
     "text": [
      "+-----------+----------+---------+--------+--------+\n",
      "|  Metric   | Baseline |   New   |  Diff  | Status |\n",
      "+-----------+----------+---------+--------+--------+\n",
      "| accuracy  | 72.1832  | 78.3596 | 6.1764 | Higher |\n",
      "|  recall   |  0.7218  | 0.7836  | 0.0618 | Higher |\n",
      "|    f1     |  0.6989  | 0.7809  | 0.082  | Higher |\n",
      "| precision |  0.7186  | 0.7801  | 0.0614 | Higher |\n",
      "+-----------+----------+---------+--------+--------+\n"
     ]
    },
    {
     "data": {
      "text/plain": [
       "[['accuracy', 72.1832, 78.3596, 6.1764, 'Higher'],\n",
       " ['recall', 0.7218, 0.7836, 0.0618, 'Higher'],\n",
       " ['f1', 0.6989, 0.7809, 0.082, 'Higher'],\n",
       " ['precision', 0.7186, 0.7801, 0.0614, 'Higher']]"
      ]
     },
     "execution_count": 54,
     "metadata": {},
     "output_type": "execute_result"
    }
   ],
   "source": [
    "compare_results(baseline_results=baseline_results, new_results=model_1_results)"
   ]
  },
  {
   "cell_type": "markdown",
   "id": "98698ef4",
   "metadata": {},
   "source": [
    "### Prepare datasets for training model 2"
   ]
  },
  {
   "cell_type": "markdown",
   "id": "22b8c72f",
   "metadata": {},
   "source": [
    "Now we use pretrained word embeddings from TensorFlow Hub.\n",
    "The paper originally use GloVe embeddings, but we can use any pretrained embeddings we want. As we going to stick with the later created USE (Universal Sentence Encoder) pretrained embeddings."
   ]
  },
  {
   "cell_type": "code",
   "execution_count": 55,
   "id": "c084ad4c",
   "metadata": {},
   "outputs": [
    {
     "name": "stderr",
     "output_type": "stream",
     "text": [
      "/home/dikhangcshcmut/.local/lib/python3.10/site-packages/tensorflow_hub/__init__.py:61: UserWarning: pkg_resources is deprecated as an API. See https://setuptools.pypa.io/en/latest/pkg_resources.html. The pkg_resources package is slated for removal as early as 2025-11-30. Refrain from using this package or pin to Setuptools<81.\n",
      "  from pkg_resources import parse_version\n"
     ]
    }
   ],
   "source": [
    "# Download pretrained TensorFlow Hub USE\n",
    "import tf_keras\n",
    "import tensorflow_hub as hub\n",
    "tf_hub_embedding_layer = hub.KerasLayer(\"https://tfhub.dev/google/universal-sentence-encoder/4\",\n",
    "                                        trainable=False,\n",
    "                                        name=\"universal_sentence_encoder\")"
   ]
  },
  {
   "cell_type": "code",
   "execution_count": 56,
   "id": "413d273a",
   "metadata": {},
   "outputs": [
    {
     "name": "stdout",
     "output_type": "stream",
     "text": [
      "Random sentence:\n",
      " the hisds showed non-significant improvement in self-concept and reduction in polarization of the self in the present , future and past in the second intervention .\n",
      "Sentence after embeding:\n",
      "[[ 0.04413411 -0.08130696 -0.04424993 -0.06169312 -0.08074822  0.08244964\n",
      "   0.03574342  0.01365122  0.03884328  0.05836018 -0.03481422 -0.04318058\n",
      "  -0.00256362 -0.00039679  0.03479055 -0.03262262 -0.04970601 -0.01729596\n",
      "  -0.00907494 -0.02734498  0.01576915  0.04937399 -0.01290385  0.04472788\n",
      "  -0.04359234  0.06347089  0.09115133  0.05743549 -0.00805659  0.01342093\n",
      "   0.02735923  0.03718823  0.08213285  0.03387529 -0.02440625  0.04723664\n",
      "   0.02752405 -0.0505612  -0.02703904 -0.02900454 -0.00623547 -0.04998023\n",
      "   0.03247582 -0.06625252 -0.00168766  0.00421263 -0.04454273  0.050091\n",
      "  -0.00131025 -0.02216995 -0.01831132  0.04406657 -0.03089611 -0.0049053\n",
      "   0.04850496  0.06106189  0.0142789   0.06401616  0.03420357 -0.01967391\n",
      "  -0.03875658  0.03127903  0.06267497  0.05000212 -0.02438871  0.0178935\n",
      "   0.05728294 -0.0244376  -0.01621558  0.02531588 -0.02712469 -0.06835094\n",
      "   0.07271413  0.01703615 -0.07533395  0.08465436 -0.02992553  0.04966329\n",
      "   0.01796908  0.05005713 -0.03964579  0.01187425  0.00140716  0.05492286\n",
      "  -0.02578399  0.01247422 -0.00485724 -0.004424   -0.00351495 -0.05492425\n",
      "   0.07264302 -0.00370352  0.00161521  0.02243394 -0.00758672  0.00670768\n",
      "   0.01575175 -0.07660782  0.01338683 -0.04284222  0.00725079  0.03101459\n",
      "   0.01993454  0.06176316  0.01468629 -0.06835636 -0.07361311  0.07599597\n",
      "   0.05991062  0.0096222  -0.01977395 -0.00393292 -0.07239334 -0.04067049\n",
      "   0.05981529 -0.06409301  0.04410533 -0.04329967  0.00823812 -0.01229657\n",
      "   0.06829329  0.00743581 -0.03119952  0.00415857 -0.02244056 -0.0071729\n",
      "  -0.07565627 -0.0220105   0.07762752  0.05105406  0.01002083  0.03399058\n",
      "   0.03653069  0.0270511   0.04647514 -0.04201544 -0.046149    0.02328066\n",
      "   0.03871863 -0.01829648  0.02503278 -0.0268139   0.02344026 -0.00043919\n",
      "   0.0522777   0.03925955  0.01593744 -0.04355009 -0.04822038 -0.03114661\n",
      "  -0.00428317 -0.08207486 -0.03562604 -0.0616899   0.04279042  0.07708979\n",
      "   0.00601948 -0.07113732 -0.0313741  -0.02755456  0.03431466 -0.06132972\n",
      "  -0.05443429  0.08846594  0.05734508  0.04165853 -0.00382449 -0.06724082\n",
      "   0.03380033  0.04480835 -0.03007949 -0.05020917  0.01926411  0.02482055\n",
      "   0.03603955 -0.01531372 -0.07963219 -0.01835188  0.0321559   0.02790451\n",
      "  -0.06579523  0.01061987 -0.0051668  -0.01430523  0.01214705 -0.03744331\n",
      "   0.07638691 -0.05201025 -0.02134505 -0.03735626 -0.01720808 -0.07679318\n",
      "   0.03981259  0.06892469  0.05456703 -0.07197856 -0.01734622  0.01439206\n",
      "   0.01813446 -0.0232682   0.01516043  0.00715397  0.05846203  0.05765967\n",
      "  -0.06785233 -0.0624376   0.05980398 -0.01416198  0.04814908  0.0429542\n",
      "  -0.06323538 -0.00874136 -0.06887972  0.01590588 -0.05786138 -0.02796246\n",
      "  -0.01595094  0.02197338  0.06831562 -0.00104034  0.05741267 -0.01833211\n",
      "  -0.08784983  0.01590544  0.03210892 -0.06382953 -0.03592334  0.00180608\n",
      "   0.03301492  0.04423655 -0.00211263  0.04637076 -0.09055223 -0.05986573\n",
      "   0.0208887   0.02258928 -0.04488895 -0.0352831  -0.00042794  0.0850319\n",
      "   0.02594685  0.04112947 -0.0983614  -0.03649283 -0.05841931 -0.0580203\n",
      "   0.04110914  0.06022691  0.02128332 -0.05234385  0.00485933 -0.00537696\n",
      "   0.01820495 -0.04015755 -0.04842626 -0.00861487 -0.07715286  0.00270963\n",
      "  -0.03253634 -0.03410278 -0.05575261 -0.04297267  0.02072829  0.05336625\n",
      "  -0.07282314  0.04822214  0.0168968   0.04981856  0.0259707  -0.02456954\n",
      "  -0.05016435  0.0805102   0.07770246 -0.0280998   0.04616808  0.03271022\n",
      "  -0.0092655  -0.05640941 -0.0408305  -0.06981383  0.0119459  -0.05505764\n",
      "  -0.04324139  0.03296416  0.03194799  0.05464047 -0.03926101  0.06199168\n",
      "   0.01546228  0.01436502 -0.04403659  0.03994355 -0.06227488 -0.05698204\n",
      "   0.04862101 -0.02815183 -0.08675173  0.02286356  0.05345     0.00902732\n",
      "   0.00479686 -0.03447278  0.00718808 -0.04548669  0.0501923   0.01082909\n",
      "  -0.06723857  0.04623315 -0.00571154  0.02971355 -0.01146696 -0.02966412\n",
      "   0.04779126 -0.00505846 -0.05501482 -0.02303816  0.01721193  0.0703828\n",
      "  -0.05423661 -0.06092365 -0.07116535 -0.04055814  0.00455168  0.00139426\n",
      "   0.07719068 -0.03718427  0.04104256  0.03087471  0.05226336  0.08096348\n",
      "  -0.01267696  0.02521793  0.01580593  0.00380516  0.04048308 -0.06914385\n",
      "  -0.03936014 -0.0572585  -0.0258775   0.01687446 -0.03406608  0.00552664\n",
      "  -0.01745209 -0.01591708 -0.03099309  0.0104009  -0.04003547  0.00828511\n",
      "   0.0003987   0.0705919  -0.01493818  0.06420747 -0.01366497 -0.07378673\n",
      "   0.06169455  0.04310561 -0.00041359  0.02001354 -0.06981849 -0.06887823\n",
      "  -0.01461061  0.04039572 -0.07324208 -0.0864554  -0.029269    0.01318816\n",
      "   0.04446061  0.03328993 -0.03665298  0.03609805 -0.00248661  0.0085311\n",
      "  -0.04805361  0.01601372 -0.00297045 -0.03730978  0.03080441  0.03237875\n",
      "   0.00986351 -0.06043899 -0.06375673  0.02921603  0.08307441  0.01179924\n",
      "   0.05103515  0.05191059  0.02671824  0.04841547 -0.00444255  0.00192685\n",
      "   0.0079941   0.00660164 -0.06181617  0.0014794  -0.01720845  0.01528323\n",
      "   0.06695668 -0.00775466 -0.02266403 -0.09168667  0.07287973 -0.01602631\n",
      "  -0.03432941  0.05746932 -0.0135175  -0.06450542  0.06096229 -0.01443237\n",
      "   0.0070986   0.06661545 -0.07201024  0.04160782  0.07806277 -0.00467322\n",
      "  -0.01048324  0.03962261  0.07672217 -0.00520315 -0.0268805   0.06364685\n",
      "   0.00747316 -0.03760782 -0.00846724 -0.02503142 -0.04782565 -0.04488794\n",
      "   0.09131593  0.05841068  0.00560431 -0.02243964 -0.0639324   0.07705132\n",
      "   0.00823022  0.08596845  0.03221136 -0.01258767  0.04860054  0.00916742\n",
      "  -0.0449034   0.04921041  0.03177375 -0.00361346  0.05280991  0.01268395\n",
      "   0.07882973 -0.07242154  0.02981554 -0.05244731 -0.03574614  0.01966169\n",
      "   0.03419152 -0.06823902 -0.04111132  0.05151653  0.05668502 -0.0790393\n",
      "   0.03145578  0.02144789 -0.01322871  0.04067297 -0.03788744  0.05875987\n",
      "  -0.01174918  0.07503328 -0.02084424 -0.01761659 -0.05210257 -0.01770879\n",
      "   0.00252687 -0.02536702 -0.02487315  0.05133179 -0.01292556 -0.04681225\n",
      "  -0.03944722 -0.00354625 -0.0392372   0.00891674  0.002151    0.01103728\n",
      "  -0.02141878  0.09129185  0.06546192  0.01696113  0.02464333 -0.01964679\n",
      "   0.01280269 -0.04895016  0.03418358 -0.00356193 -0.00885943  0.06244556\n",
      "  -0.0597228  -0.00746651  0.03864115 -0.00331691  0.09800237 -0.02874934\n",
      "   0.05872016  0.09001438  0.00361537 -0.02350364  0.00386799 -0.06809589\n",
      "   0.00460634 -0.00443402  0.04319501 -0.03939298  0.03144169 -0.0292109\n",
      "  -0.06163394  0.07436765]]\n",
      "Length of sentence embedding: 512\n"
     ]
    },
    {
     "name": "stderr",
     "output_type": "stream",
     "text": [
      "2025-09-13 21:50:20.438732: E tensorflow/core/util/util.cc:131] oneDNN supports DT_INT64 only on platforms with AVX-512. Falling back to the default Eigen-based implementation if present.\n"
     ]
    }
   ],
   "source": [
    "# Test our pretrained embedding on a random sentence\n",
    "random_train_sentence = random.choice(train_sentences)\n",
    "print(f\"Random sentence:\\n {random_train_sentence}\")\n",
    "use_embedded_sentence = tf_hub_embedding_layer([random_train_sentence])\n",
    "print(f\"Sentence after embeding:\\n{use_embedded_sentence}\")\n",
    "print(f\"Length of sentence embedding: {len(use_embedded_sentence[0])}\")"
   ]
  },
  {
   "cell_type": "markdown",
   "id": "12a5104f",
   "metadata": {},
   "source": [
    "### Building and fitting an NLP feature extractor model using  pretrained embeddings from TensorFlow Hub"
   ]
  },
  {
   "cell_type": "code",
   "execution_count": 57,
   "id": "e8558480",
   "metadata": {},
   "outputs": [],
   "source": [
    "import tf_keras as keras\n",
    "def create_functional_model():\n",
    "    \"\"\"Sử dụng Functional API - cách chắc chắn nhất\"\"\"\n",
    "    \n",
    "    print(\"Creating model using Functional API...\")\n",
    "    \n",
    "    # Input\n",
    "    text_input = keras.layers.Input(shape=(), dtype=tf.string, name='text_input')\n",
    "    \n",
    "    # TensorFlow Hub layer\n",
    "    encoder = hub.KerasLayer(\n",
    "        \"https://tfhub.dev/google/universal-sentence-encoder/4\",\n",
    "        trainable=False,\n",
    "        name=\"universal_sentence_encoder\"\n",
    "    )\n",
    "    \n",
    "    # Apply encoder\n",
    "    embeddings = encoder(text_input)\n",
    "    \n",
    "    # Dense layers (smaller size for memory efficiency)\n",
    "    x = keras.layers.Dense(64, activation='relu', name='dense1')(embeddings)\n",
    "    x = layers.Dense(32, activation='relu', name='dense2')(x)\n",
    "    # Output layer\n",
    "    outputs = keras.layers.Dense(5, activation='softmax', name='predictions')(x)\n",
    "    \n",
    "    # Create model\n",
    "    model = keras.Model(inputs=text_input, outputs=outputs, name='text_classifier')\n",
    "    \n",
    "    return model"
   ]
  },
  {
   "cell_type": "code",
   "execution_count": 58,
   "id": "d326c187",
   "metadata": {},
   "outputs": [
    {
     "name": "stdout",
     "output_type": "stream",
     "text": [
      "Creating model using Functional API...\n",
      "WARNING:tensorflow:The following Variables were used in a Lambda layer's call (tf.nn.bias_add), but are not present in its tracked objects:   <tf.Variable 'dense2/bias:0' shape=(32,) dtype=float32>. This is a strong indication that the Lambda layer should be rewritten as a subclassed Layer.\n"
     ]
    },
    {
     "name": "stderr",
     "output_type": "stream",
     "text": [
      "WARNING:tensorflow:The following Variables were used in a Lambda layer's call (tf.nn.bias_add), but are not present in its tracked objects:   <tf.Variable 'dense2/bias:0' shape=(32,) dtype=float32>. This is a strong indication that the Lambda layer should be rewritten as a subclassed Layer.\n"
     ]
    }
   ],
   "source": [
    "model_2 = create_functional_model()"
   ]
  },
  {
   "cell_type": "code",
   "execution_count": 59,
   "id": "e93d5ea6",
   "metadata": {},
   "outputs": [
    {
     "name": "stdout",
     "output_type": "stream",
     "text": [
      "============================================================\n",
      "VERSION CHECK\n",
      "============================================================\n",
      "TensorFlow version: 2.19.0\n",
      "TensorFlow Hub version: 0.16.1\n",
      "Keras version: 3.10.0\n"
     ]
    }
   ],
   "source": [
    "print(\"=\"*60)\n",
    "print(\"VERSION CHECK\")\n",
    "print(\"=\"*60)\n",
    "print(\"TensorFlow version:\", tf.__version__)\n",
    "print(\"TensorFlow Hub version:\", hub.__version__ if hasattr(hub, '__version__') else \"Unknown\")\n",
    "print(\"Keras version:\", tf.keras.__version__)"
   ]
  },
  {
   "cell_type": "code",
   "execution_count": 60,
   "id": "57e85d46",
   "metadata": {},
   "outputs": [
    {
     "name": "stdout",
     "output_type": "stream",
     "text": [
      "Model: \"text_classifier\"\n",
      "_________________________________________________________________\n",
      " Layer (type)                Output Shape              Param #   \n",
      "=================================================================\n",
      " text_input (InputLayer)     [(None,)]                 0         \n",
      "                                                                 \n",
      " universal_sentence_encoder  (None, 512)               256797824 \n",
      "  (KerasLayer)                                                   \n",
      "                                                                 \n",
      " dense1 (Dense)              (None, 64)                32832     \n",
      "                                                                 \n",
      " tf.cast (TFOpLambda)        (None, 64)                0         \n",
      "                                                                 \n",
      " tf.linalg.matmul (TFOpLamb  (None, 32)                0         \n",
      " da)                                                             \n",
      "                                                                 \n",
      " tf.cast_1 (TFOpLambda)      (None, 32)                0         \n",
      "                                                                 \n",
      " tf.nn.bias_add (TFOpLambda  (None, 32)                0         \n",
      " )                                                               \n",
      "                                                                 \n",
      " tf.nn.relu (TFOpLambda)     (None, 32)                0         \n",
      "                                                                 \n",
      " predictions (Dense)         (None, 5)                 165       \n",
      "                                                                 \n",
      "=================================================================\n",
      "Total params: 256830821 (979.73 MB)\n",
      "Trainable params: 32997 (128.89 KB)\n",
      "Non-trainable params: 256797824 (979.61 MB)\n",
      "_________________________________________________________________\n"
     ]
    }
   ],
   "source": [
    "# Compile the model\n",
    "model_2.compile(loss=\"categorical_crossentropy\",\n",
    "                optimizer=keras.optimizers.Adam(),\n",
    "                metrics=[\"accuracy\"])\n",
    "model_2.summary()"
   ]
  },
  {
   "cell_type": "code",
   "execution_count": 56,
   "id": "92ac6fb6",
   "metadata": {},
   "outputs": [
    {
     "name": "stdout",
     "output_type": "stream",
     "text": [
      "Epoch 1/3\n",
      "562/562 [==============================] - 10s 15ms/step - loss: 0.9946 - accuracy: 0.6244 - val_loss: 0.8121 - val_accuracy: 0.6832\n",
      "Epoch 2/3\n",
      "562/562 [==============================] - 8s 14ms/step - loss: 0.7813 - accuracy: 0.6950 - val_loss: 0.7621 - val_accuracy: 0.7041\n",
      "Epoch 3/3\n",
      "562/562 [==============================] - 8s 14ms/step - loss: 0.7640 - accuracy: 0.7065 - val_loss: 0.7511 - val_accuracy: 0.7114\n"
     ]
    },
    {
     "data": {
      "text/plain": [
       "<tf_keras.src.callbacks.History at 0x7c314edc75b0>"
      ]
     },
     "execution_count": 61,
     "metadata": {},
     "output_type": "execute_result"
    }
   ],
   "source": [
    "# Fit feature extractor model for 3 epochs\n",
    "model_2.fit(train_dataset,\n",
    "            steps_per_epoch=int(0.1 * len(train_dataset)),\n",
    "            epochs=3,\n",
    "            validation_data=valid_dataset,\n",
    "            validation_steps=int(0.1 * len(valid_dataset)))"
   ]
  },
  {
   "cell_type": "code",
   "execution_count": 62,
   "id": "5eac4346",
   "metadata": {},
   "outputs": [
    {
     "name": "stdout",
     "output_type": "stream",
     "text": [
      "945/945 [==============================] - 11s 12ms/step - loss: 0.7511 - accuracy: 0.7096\n"
     ]
    },
    {
     "data": {
      "text/plain": [
       "[0.7510604858398438, 0.7096186876296997]"
      ]
     },
     "execution_count": 62,
     "metadata": {},
     "output_type": "execute_result"
    }
   ],
   "source": [
    "# Evaluate on the validation dataset\n",
    "model_2.evaluate(valid_dataset)"
   ]
  },
  {
   "cell_type": "code",
   "execution_count": 63,
   "id": "917a254c",
   "metadata": {},
   "outputs": [
    {
     "name": "stdout",
     "output_type": "stream",
     "text": [
      "945/945 [==============================] - 12s 12ms/step\n"
     ]
    },
    {
     "data": {
      "text/plain": [
       "array([[4.6044794e-01, 3.4759739e-01, 4.8448662e-03, 1.7481829e-01,\n",
       "        1.2291462e-02],\n",
       "       [3.6833945e-01, 4.7579345e-01, 1.1081263e-02, 1.3699181e-01,\n",
       "        7.7939830e-03],\n",
       "       [2.0373507e-01, 1.7314318e-01, 1.8180918e-02, 5.7682866e-01,\n",
       "        2.8112208e-02],\n",
       "       ...,\n",
       "       [2.2793654e-03, 3.9384561e-03, 5.1134508e-02, 8.6978561e-04,\n",
       "        9.4177788e-01],\n",
       "       [4.8112064e-03, 4.5574591e-02, 2.2318396e-01, 1.5631309e-03,\n",
       "        7.2486711e-01],\n",
       "       [2.3234977e-01, 3.2613361e-01, 3.6390933e-01, 2.5264677e-02,\n",
       "        5.2342605e-02]], dtype=float32)"
      ]
     },
     "execution_count": 63,
     "metadata": {},
     "output_type": "execute_result"
    }
   ],
   "source": [
    "# Calculate the probabilities of prediction\n",
    "model_2_pred_probs = model_2.predict(valid_dataset)\n",
    "model_2_pred_probs"
   ]
  },
  {
   "cell_type": "code",
   "execution_count": 64,
   "id": "194c9a26",
   "metadata": {},
   "outputs": [
    {
     "data": {
      "text/plain": [
       "<tf.Tensor: shape=(30212,), dtype=int64, numpy=array([0, 1, 3, ..., 4, 4, 2])>"
      ]
     },
     "execution_count": 64,
     "metadata": {},
     "output_type": "execute_result"
    }
   ],
   "source": [
    "# Get the prediction finally\n",
    "model_2_preds = tf.argmax(model_2_pred_probs, axis=1)\n",
    "model_2_preds"
   ]
  },
  {
   "cell_type": "code",
   "execution_count": 65,
   "id": "229204b9",
   "metadata": {},
   "outputs": [
    {
     "name": "stdout",
     "output_type": "stream",
     "text": [
      "{'accuracy': 70.96186945584536, 'precision': 0.7090223948670501, 'recall': 0.7096186945584536, 'f1': 0.7064138807446305}\n",
      "+-----------+----------+---------+---------+--------+\n",
      "|  Metric   | Baseline |   New   |  Diff   | Status |\n",
      "+-----------+----------+---------+---------+--------+\n",
      "| accuracy  | 78.3596  | 70.9619 | -7.3977 | Lower  |\n",
      "|  recall   |  0.7836  | 0.7096  | -0.074  | Lower  |\n",
      "|    f1     |  0.7809  | 0.7064  | -0.0745 | Lower  |\n",
      "| precision |  0.7801  |  0.709  | -0.071  | Lower  |\n",
      "+-----------+----------+---------+---------+--------+\n"
     ]
    },
    {
     "data": {
      "text/plain": [
       "[['accuracy', 78.3596, 70.9619, -7.3977, 'Lower'],\n",
       " ['recall', 0.7836, 0.7096, -0.074, 'Lower'],\n",
       " ['f1', 0.7809, 0.7064, -0.0745, 'Lower'],\n",
       " ['precision', 0.7801, 0.709, -0.071, 'Lower']]"
      ]
     },
     "execution_count": 65,
     "metadata": {},
     "output_type": "execute_result"
    }
   ],
   "source": [
    "# Get the result finally\n",
    "model_2_results = calculate_results(y_true=val_labels_encoded,\n",
    "                                    y_pred=model_2_preds)\n",
    "print(model_2_results)\n",
    "\n",
    "compare_results(baseline_results=model_1_results, new_results=model_2_results)"
   ]
  },
  {
   "cell_type": "markdown",
   "id": "ece95bee",
   "metadata": {},
   "source": [
    "## Model 3: Conv1D with character-level tokenizer and embeddings"
   ]
  },
  {
   "cell_type": "markdown",
   "id": "28d93f49",
   "metadata": {},
   "source": [
    "### Create a character-level tokenizer"
   ]
  },
  {
   "cell_type": "code",
   "execution_count": 66,
   "id": "e915b329",
   "metadata": {},
   "outputs": [
    {
     "data": {
      "text/plain": [
       "['to investigate the efficacy of @ weeks of daily low-dose oral prednisolone in improving pain , mobility , and systemic low-grade inflammation in the short term and whether the effect would be sustained at @ weeks in older adults with moderate to severe knee osteoarthritis ( oa ) .',\n",
       " 'a total of @ patients with primary knee oa were randomized @:@ ; @ received @ mg/day of prednisolone and @ received placebo for @ weeks .',\n",
       " 'outcome measures included pain reduction and improvement in function scores and systemic inflammation markers .',\n",
       " 'pain was assessed using the visual analog pain scale ( @-@ mm ) .',\n",
       " 'secondary outcome measures included the western ontario and mcmaster universities osteoarthritis index scores , patient global assessment ( pga ) of the severity of knee oa , and @-min walk distance ( @mwd ) .']"
      ]
     },
     "execution_count": 66,
     "metadata": {},
     "output_type": "execute_result"
    }
   ],
   "source": [
    "train_sentences[:5]"
   ]
  },
  {
   "cell_type": "code",
   "execution_count": 67,
   "id": "862e3fe8",
   "metadata": {},
   "outputs": [],
   "source": [
    "def split_chars(text):\n",
    "    return \" \".join(list(text))"
   ]
  },
  {
   "cell_type": "code",
   "execution_count": 68,
   "id": "5d99da98",
   "metadata": {},
   "outputs": [
    {
     "data": {
      "text/plain": [
       "'t h e   h i s d s   s h o w e d   n o n - s i g n i f i c a n t   i m p r o v e m e n t   i n   s e l f - c o n c e p t   a n d   r e d u c t i o n   i n   p o l a r i z a t i o n   o f   t h e   s e l f   i n   t h e   p r e s e n t   ,   f u t u r e   a n d   p a s t   i n   t h e   s e c o n d   i n t e r v e n t i o n   .'"
      ]
     },
     "execution_count": 68,
     "metadata": {},
     "output_type": "execute_result"
    }
   ],
   "source": [
    "split_chars(random_train_sentence)"
   ]
  },
  {
   "cell_type": "code",
   "execution_count": 69,
   "id": "30312b84",
   "metadata": {},
   "outputs": [
    {
     "data": {
      "text/plain": [
       "['t o   i n v e s t i g a t e   t h e   e f f i c a c y   o f   @   w e e k s   o f   d a i l y   l o w - d o s e   o r a l   p r e d n i s o l o n e   i n   i m p r o v i n g   p a i n   ,   m o b i l i t y   ,   a n d   s y s t e m i c   l o w - g r a d e   i n f l a m m a t i o n   i n   t h e   s h o r t   t e r m   a n d   w h e t h e r   t h e   e f f e c t   w o u l d   b e   s u s t a i n e d   a t   @   w e e k s   i n   o l d e r   a d u l t s   w i t h   m o d e r a t e   t o   s e v e r e   k n e e   o s t e o a r t h r i t i s   (   o a   )   .',\n",
       " 'a   t o t a l   o f   @   p a t i e n t s   w i t h   p r i m a r y   k n e e   o a   w e r e   r a n d o m i z e d   @ : @   ;   @   r e c e i v e d   @   m g / d a y   o f   p r e d n i s o l o n e   a n d   @   r e c e i v e d   p l a c e b o   f o r   @   w e e k s   .',\n",
       " 'o u t c o m e   m e a s u r e s   i n c l u d e d   p a i n   r e d u c t i o n   a n d   i m p r o v e m e n t   i n   f u n c t i o n   s c o r e s   a n d   s y s t e m i c   i n f l a m m a t i o n   m a r k e r s   .']"
      ]
     },
     "execution_count": 69,
     "metadata": {},
     "output_type": "execute_result"
    }
   ],
   "source": [
    "# Split a sequence data splits into character-level\n",
    "train_chars = [split_chars(sentence) for sentence in train_sentences]\n",
    "val_chars = [split_chars(sentence) for sentence in val_sentences]\n",
    "test_chars = [split_chars(sentence) for sentence in test_sentences]\n",
    "train_chars[:3]"
   ]
  },
  {
   "cell_type": "code",
   "execution_count": 70,
   "id": "95c56bce",
   "metadata": {},
   "outputs": [
    {
     "name": "stdout",
     "output_type": "stream",
     "text": [
      "149.3662574983337\n"
     ]
    },
    {
     "data": {
      "text/plain": [
       "(array([1.41175e+05, 3.71110e+04, 1.60000e+03, 1.27000e+02, 2.10000e+01,\n",
       "        5.00000e+00, 1.00000e+00]),\n",
       " array([1.00000000e+00, 1.98857143e+02, 3.96714286e+02, 5.94571429e+02,\n",
       "        7.92428571e+02, 9.90285714e+02, 1.18814286e+03, 1.38600000e+03]),\n",
       " <BarContainer object of 7 artists>)"
      ]
     },
     "execution_count": 70,
     "metadata": {},
     "output_type": "execute_result"
    },
    {
     "data": {
      "image/png": "[encoded data removed]",
      "text/plain": [
       "<Figure size 640x480 with 1 Axes>"
      ]
     },
     "metadata": {},
     "output_type": "display_data"
    }
   ],
   "source": [
    "# The avg character length\n",
    "char_lens = [len(sentence) for sentence in train_sentences]\n",
    "mean_char_len = np.mean(char_lens)\n",
    "print(mean_char_len)\n",
    "# Check the distribution of sequence\n",
    "plt.hist(char_lens, bins=7)"
   ]
  },
  {
   "cell_type": "code",
   "execution_count": 71,
   "id": "9bcdc0f6",
   "metadata": {},
   "outputs": [
    {
     "data": {
      "text/plain": [
       "290"
      ]
     },
     "execution_count": 71,
     "metadata": {},
     "output_type": "execute_result"
    }
   ],
   "source": [
    "output_seq_char_len = int(np.percentile(char_lens, 95))\n",
    "output_seq_char_len"
   ]
  },
  {
   "cell_type": "code",
   "execution_count": 72,
   "id": "8e5d443b",
   "metadata": {},
   "outputs": [
    {
     "data": {
      "text/plain": [
       "'abcdefghijklmnopqrstuvwxyz0123456789!\"#$%&\\'()*+,-./:;<=>?@[\\\\]^_`{|}~'"
      ]
     },
     "execution_count": 72,
     "metadata": {},
     "output_type": "execute_result"
    }
   ],
   "source": [
    "#! Get all keyboard character\n",
    "import string\n",
    "alphabet = string.ascii_lowercase + string.digits + string.punctuation\n",
    "\n",
    "alphabet"
   ]
  },
  {
   "cell_type": "code",
   "execution_count": 73,
   "id": "3d72d5c8",
   "metadata": {},
   "outputs": [],
   "source": [
    "# Create char_level token vectorizer instance\n",
    "NUM_CHAR_TOKENS = len(alphabet) + 2 # add 2 for space and OOV token\n",
    "char_vectorizer = TextVectorization(max_tokens=NUM_CHAR_TOKENS,\n",
    "                                    output_sequence_length=output_seq_char_len,\n",
    "                                    name=\"char_vectorizer\")"
   ]
  },
  {
   "cell_type": "code",
   "execution_count": 74,
   "id": "7450d0d3",
   "metadata": {},
   "outputs": [
    {
     "name": "stdout",
     "output_type": "stream",
     "text": [
      "Number of different characters in character vocab: 28\n",
      "5 most common characters:['', '[UNK]', 'e', 't', 'i']\n",
      "5 least common characters: ['k', 'x', 'z', 'q', 'j']\n"
     ]
    }
   ],
   "source": [
    "# Adapt\n",
    "char_vectorizer.adapt(train_chars)\n",
    "char_vocab = char_vectorizer.get_vocabulary()\n",
    "print(f\"Number of different characters in character vocab: {len(char_vocab)}\")\n",
    "print(f\"5 most common characters:{char_vocab[:5]}\")\n",
    "print(f\"5 least common characters: {char_vocab[-5:]}\")"
   ]
  },
  {
   "cell_type": "code",
   "execution_count": 75,
   "id": "e9acf674",
   "metadata": {},
   "outputs": [
    {
     "name": "stdout",
     "output_type": "stream",
     "text": [
      "Charified text:\n",
      "t h e   p r i m a r y   o u t c o m e   m e a s u r e   w a s   a c t i v e   k n e e   f l e x i o n   r o m   .\n",
      "\n",
      "Length of chars: 48\n",
      "\n",
      "Vectorized chars:\n",
      "[[ 3 13  2 14  8  4 15  5  8 19  7 16  3 11  7 15  2 15  2  5  9 16  8  2\n",
      "  20  5  9  5 11  3  4 21  2 23  6  2  2 17 12  2 24  4  7  6  8  7 15  0\n",
      "   0  0  0  0  0  0  0  0  0  0  0  0  0  0  0  0  0  0  0  0  0  0  0  0\n",
      "   0  0  0  0  0  0  0  0  0  0  0  0  0  0  0  0  0  0  0  0  0  0  0  0\n",
      "   0  0  0  0  0  0  0  0  0  0  0  0  0  0  0  0  0  0  0  0  0  0  0  0\n",
      "   0  0  0  0  0  0  0  0  0  0  0  0  0  0  0  0  0  0  0  0  0  0  0  0\n",
      "   0  0  0  0  0  0  0  0  0  0  0  0  0  0  0  0  0  0  0  0  0  0  0  0\n",
      "   0  0  0  0  0  0  0  0  0  0  0  0  0  0  0  0  0  0  0  0  0  0  0  0\n",
      "   0  0  0  0  0  0  0  0  0  0  0  0  0  0  0  0  0  0  0  0  0  0  0  0\n",
      "   0  0  0  0  0  0  0  0  0  0  0  0  0  0  0  0  0  0  0  0  0  0  0  0\n",
      "   0  0  0  0  0  0  0  0  0  0  0  0  0  0  0  0  0  0  0  0  0  0  0  0\n",
      "   0  0  0  0  0  0  0  0  0  0  0  0  0  0  0  0  0  0  0  0  0  0  0  0\n",
      "   0  0]]\n",
      "\n",
      "Length of vectorized chars: 290\n"
     ]
    }
   ],
   "source": [
    "# Test out character vectorizer\n",
    "random_train_chars = random.choice(train_chars)\n",
    "print(f\"Charified text:\\n{random_train_chars}\")\n",
    "print(f\"\\nLength of chars: {len(random_train_chars.split())}\")\n",
    "vectorized_chars = char_vectorizer([random_train_chars])\n",
    "print(f\"\\nVectorized chars:\\n{vectorized_chars}\")\n",
    "print(f\"\\nLength of vectorized chars: {len(vectorized_chars[0])}\")"
   ]
  },
  {
   "cell_type": "markdown",
   "id": "d4c56fda",
   "metadata": {},
   "source": [
    "You'll notice sequences with a length shorter than 290 (output_seq_char_length) get padded with zeros on the end, this ensures all sequences passed to our model are the same length.\n",
    "\n",
    "Also, due to the standardize parameter of TextVectorization being \"lower_and_strip_punctuation\" and the split parameter being \"whitespace\" by default, symbols (such as @) and spaces are removed.\n",
    "\n"
   ]
  },
  {
   "cell_type": "markdown",
   "id": "0382278c",
   "metadata": {},
   "source": [
    "### Create a character-level embedding layer"
   ]
  },
  {
   "cell_type": "code",
   "execution_count": 76,
   "id": "9bc25f21",
   "metadata": {},
   "outputs": [
    {
     "name": "stdout",
     "output_type": "stream",
     "text": [
      "Charified text (before vectorization and embedding):\n",
      "t h e   p r i m a r y   o u t c o m e   m e a s u r e   w a s   a c t i v e   k n e e   f l e x i o n   r o m   .\n",
      "\n",
      "Embedded chars (after vectorization and embedding):\n",
      "[[[-0.04168896 -0.02785423 -0.04814753 ...  0.00729042  0.02862818\n",
      "   -0.04145856]\n",
      "  [ 0.04561666 -0.0192108   0.02077109 ... -0.00807201  0.00699962\n",
      "   -0.03780733]\n",
      "  [-0.00858319  0.04393739  0.03626979 ...  0.04158563 -0.00730025\n",
      "    0.04713472]\n",
      "  ...\n",
      "  [ 0.02641592  0.04105825 -0.00451268 ... -0.01846629 -0.03678833\n",
      "   -0.01695079]\n",
      "  [ 0.02641592  0.04105825 -0.00451268 ... -0.01846629 -0.03678833\n",
      "   -0.01695079]\n",
      "  [ 0.02641592  0.04105825 -0.00451268 ... -0.01846629 -0.03678833\n",
      "   -0.01695079]]]\n",
      "\n",
      "Character embedding shape: (1, 290, 25)\n"
     ]
    }
   ],
   "source": [
    "# Create char embedding layer\n",
    "char_embed = layers.Embedding(input_dim=NUM_CHAR_TOKENS, # number of different characters\n",
    "                              output_dim=25, # embedding dimension of each character (same as Figure 1 in https://arxiv.org/pdf/1612.05251.pdf)\n",
    "                              mask_zero=False, # don't use masks (this messes up model_5 if set to True)\n",
    "                              name=\"char_embed\")\n",
    "\n",
    "# Test out character embedding layer\n",
    "print(f\"Charified text (before vectorization and embedding):\\n{random_train_chars}\\n\")\n",
    "char_embed_example = char_embed(char_vectorizer([random_train_chars]))\n",
    "print(f\"Embedded chars (after vectorization and embedding):\\n{char_embed_example}\\n\")\n",
    "print(f\"Character embedding shape: {char_embed_example.shape}\")"
   ]
  },
  {
   "cell_type": "markdown",
   "id": "83b7f6c0",
   "metadata": {},
   "source": [
    "### Building a Conv1D model to fit on character embeddings"
   ]
  },
  {
   "cell_type": "code",
   "execution_count": 77,
   "id": "6264d2ae",
   "metadata": {},
   "outputs": [],
   "source": [
    "def build_model(char_vectorizer, char_embed, num_classes: int):\n",
    "    \"\"\"\n",
    "    Build a Conv1D text classification model on character embeddings.\n",
    "    \n",
    "    Args:\n",
    "        char_vectorizer: TextVectorization layer (char-level).\n",
    "        char_embed: Embedding layer for characters.\n",
    "        num_classes: số lớp output (phân loại).\n",
    "    \n",
    "    Returns:\n",
    "        tf.keras.Model\n",
    "    \"\"\"\n",
    "    # Input:\n",
    "    inputs = tf.keras.layers.Input(shape=(1,), dtype = tf.string)\n",
    "    \n",
    "    # Vectorize -> Embedding\n",
    "    char_vectors = char_vectorizer(inputs)\n",
    "    char_embeddings = char_embed(char_vectors)\n",
    "    \n",
    "    # Conv1D + GlobalMaxPool\n",
    "    x = tf.keras.layers.Conv1D(64, kernel_size=5, padding=\"same\", activation=\"relu\")(char_embeddings)\n",
    "    x = tf.keras.layers.GlobalMaxPool1D()(x)\n",
    "    \n",
    "    # Dense output\n",
    "    outputs = layers.Dense(num_classes, activation=\"softmax\")(x)\n",
    "    model = tf.keras.Model(inputs=inputs,\n",
    "                            outputs=outputs,\n",
    "                            name=\"model_3_conv1D_char_embedding\")\n",
    "    \n",
    "    return model"
   ]
  },
  {
   "cell_type": "code",
   "execution_count": 78,
   "id": "b3e69ba9",
   "metadata": {},
   "outputs": [
    {
     "data": {
      "text/html": [
       "<pre style=\"white-space:pre;overflow-x:auto;line-height:normal;font-family:Menlo,'DejaVu Sans Mono',consolas,'Courier New',monospace\"><span style=\"font-weight: bold\">Model: \"model_3_conv1D_char_embedding\"</span>\n",
       "</pre>\n"
      ],
      "text/plain": [
       "\u001b[1mModel: \"model_3_conv1D_char_embedding\"\u001b[0m\n"
      ]
     },
     "metadata": {},
     "output_type": "display_data"
    },
    {
     "data": {
      "text/html": [
       "<pre style=\"white-space:pre;overflow-x:auto;line-height:normal;font-family:Menlo,'DejaVu Sans Mono',consolas,'Courier New',monospace\">┏━━━━━━━━━━━━━━━━━━━━━━━━━━━━━━━━━┳━━━━━━━━━━━━━━━━━━━━━━━━┳━━━━━━━━━━━━━━━┓\n",
       "┃<span style=\"font-weight: bold\"> Layer (type)                    </span>┃<span style=\"font-weight: bold\"> Output Shape           </span>┃<span style=\"font-weight: bold\">       Param # </span>┃\n",
       "┡━━━━━━━━━━━━━━━━━━━━━━━━━━━━━━━━━╇━━━━━━━━━━━━━━━━━━━━━━━━╇━━━━━━━━━━━━━━━┩\n",
       "│ input_layer_1 (<span style=\"color: #0087ff; text-decoration-color: #0087ff\">InputLayer</span>)      │ (<span style=\"color: #00d7ff; text-decoration-color: #00d7ff\">None</span>, <span style=\"color: #00af00; text-decoration-color: #00af00\">1</span>)              │             <span style=\"color: #00af00; text-decoration-color: #00af00\">0</span> │\n",
       "├─────────────────────────────────┼────────────────────────┼───────────────┤\n",
       "│ char_vectorizer                 │ (<span style=\"color: #00d7ff; text-decoration-color: #00d7ff\">None</span>, <span style=\"color: #00af00; text-decoration-color: #00af00\">290</span>)            │             <span style=\"color: #00af00; text-decoration-color: #00af00\">0</span> │\n",
       "│ (<span style=\"color: #0087ff; text-decoration-color: #0087ff\">TextVectorization</span>)             │                        │               │\n",
       "├─────────────────────────────────┼────────────────────────┼───────────────┤\n",
       "│ char_embed (<span style=\"color: #0087ff; text-decoration-color: #0087ff\">Embedding</span>)          │ (<span style=\"color: #00d7ff; text-decoration-color: #00d7ff\">None</span>, <span style=\"color: #00af00; text-decoration-color: #00af00\">290</span>, <span style=\"color: #00af00; text-decoration-color: #00af00\">25</span>)        │         <span style=\"color: #00af00; text-decoration-color: #00af00\">1,750</span> │\n",
       "├─────────────────────────────────┼────────────────────────┼───────────────┤\n",
       "│ conv1d_1 (<span style=\"color: #0087ff; text-decoration-color: #0087ff\">Conv1D</span>)               │ (<span style=\"color: #00d7ff; text-decoration-color: #00d7ff\">None</span>, <span style=\"color: #00af00; text-decoration-color: #00af00\">290</span>, <span style=\"color: #00af00; text-decoration-color: #00af00\">64</span>)        │         <span style=\"color: #00af00; text-decoration-color: #00af00\">8,064</span> │\n",
       "├─────────────────────────────────┼────────────────────────┼───────────────┤\n",
       "│ global_max_pooling1d            │ (<span style=\"color: #00d7ff; text-decoration-color: #00d7ff\">None</span>, <span style=\"color: #00af00; text-decoration-color: #00af00\">64</span>)             │             <span style=\"color: #00af00; text-decoration-color: #00af00\">0</span> │\n",
       "│ (<span style=\"color: #0087ff; text-decoration-color: #0087ff\">GlobalMaxPooling1D</span>)            │                        │               │\n",
       "├─────────────────────────────────┼────────────────────────┼───────────────┤\n",
       "│ dense_1 (<span style=\"color: #0087ff; text-decoration-color: #0087ff\">Dense</span>)                 │ (<span style=\"color: #00d7ff; text-decoration-color: #00d7ff\">None</span>, <span style=\"color: #00af00; text-decoration-color: #00af00\">5</span>)              │           <span style=\"color: #00af00; text-decoration-color: #00af00\">325</span> │\n",
       "└─────────────────────────────────┴────────────────────────┴───────────────┘\n",
       "</pre>\n"
      ],
      "text/plain": [
       "┏━━━━━━━━━━━━━━━━━━━━━━━━━━━━━━━━━┳━━━━━━━━━━━━━━━━━━━━━━━━┳━━━━━━━━━━━━━━━┓\n",
       "┃\u001b[1m \u001b[0m\u001b[1mLayer (type)                   \u001b[0m\u001b[1m \u001b[0m┃\u001b[1m \u001b[0m\u001b[1mOutput Shape          \u001b[0m\u001b[1m \u001b[0m┃\u001b[1m \u001b[0m\u001b[1m      Param #\u001b[0m\u001b[1m \u001b[0m┃\n",
       "┡━━━━━━━━━━━━━━━━━━━━━━━━━━━━━━━━━╇━━━━━━━━━━━━━━━━━━━━━━━━╇━━━━━━━━━━━━━━━┩\n",
       "│ input_layer_1 (\u001b[38;5;33mInputLayer\u001b[0m)      │ (\u001b[38;5;45mNone\u001b[0m, \u001b[38;5;34m1\u001b[0m)              │             \u001b[38;5;34m0\u001b[0m │\n",
       "├─────────────────────────────────┼────────────────────────┼───────────────┤\n",
       "│ char_vectorizer                 │ (\u001b[38;5;45mNone\u001b[0m, \u001b[38;5;34m290\u001b[0m)            │             \u001b[38;5;34m0\u001b[0m │\n",
       "│ (\u001b[38;5;33mTextVectorization\u001b[0m)             │                        │               │\n",
       "├─────────────────────────────────┼────────────────────────┼───────────────┤\n",
       "│ char_embed (\u001b[38;5;33mEmbedding\u001b[0m)          │ (\u001b[38;5;45mNone\u001b[0m, \u001b[38;5;34m290\u001b[0m, \u001b[38;5;34m25\u001b[0m)        │         \u001b[38;5;34m1,750\u001b[0m │\n",
       "├─────────────────────────────────┼────────────────────────┼───────────────┤\n",
       "│ conv1d_1 (\u001b[38;5;33mConv1D\u001b[0m)               │ (\u001b[38;5;45mNone\u001b[0m, \u001b[38;5;34m290\u001b[0m, \u001b[38;5;34m64\u001b[0m)        │         \u001b[38;5;34m8,064\u001b[0m │\n",
       "├─────────────────────────────────┼────────────────────────┼───────────────┤\n",
       "│ global_max_pooling1d            │ (\u001b[38;5;45mNone\u001b[0m, \u001b[38;5;34m64\u001b[0m)             │             \u001b[38;5;34m0\u001b[0m │\n",
       "│ (\u001b[38;5;33mGlobalMaxPooling1D\u001b[0m)            │                        │               │\n",
       "├─────────────────────────────────┼────────────────────────┼───────────────┤\n",
       "│ dense_1 (\u001b[38;5;33mDense\u001b[0m)                 │ (\u001b[38;5;45mNone\u001b[0m, \u001b[38;5;34m5\u001b[0m)              │           \u001b[38;5;34m325\u001b[0m │\n",
       "└─────────────────────────────────┴────────────────────────┴───────────────┘\n"
      ]
     },
     "metadata": {},
     "output_type": "display_data"
    },
    {
     "data": {
      "text/html": [
       "<pre style=\"white-space:pre;overflow-x:auto;line-height:normal;font-family:Menlo,'DejaVu Sans Mono',consolas,'Courier New',monospace\"><span style=\"font-weight: bold\"> Total params: </span><span style=\"color: #00af00; text-decoration-color: #00af00\">10,139</span> (39.61 KB)\n",
       "</pre>\n"
      ],
      "text/plain": [
       "\u001b[1m Total params: \u001b[0m\u001b[38;5;34m10,139\u001b[0m (39.61 KB)\n"
      ]
     },
     "metadata": {},
     "output_type": "display_data"
    },
    {
     "data": {
      "text/html": [
       "<pre style=\"white-space:pre;overflow-x:auto;line-height:normal;font-family:Menlo,'DejaVu Sans Mono',consolas,'Courier New',monospace\"><span style=\"font-weight: bold\"> Trainable params: </span><span style=\"color: #00af00; text-decoration-color: #00af00\">10,139</span> (39.61 KB)\n",
       "</pre>\n"
      ],
      "text/plain": [
       "\u001b[1m Trainable params: \u001b[0m\u001b[38;5;34m10,139\u001b[0m (39.61 KB)\n"
      ]
     },
     "metadata": {},
     "output_type": "display_data"
    },
    {
     "data": {
      "text/html": [
       "<pre style=\"white-space:pre;overflow-x:auto;line-height:normal;font-family:Menlo,'DejaVu Sans Mono',consolas,'Courier New',monospace\"><span style=\"font-weight: bold\"> Non-trainable params: </span><span style=\"color: #00af00; text-decoration-color: #00af00\">0</span> (0.00 B)\n",
       "</pre>\n"
      ],
      "text/plain": [
       "\u001b[1m Non-trainable params: \u001b[0m\u001b[38;5;34m0\u001b[0m (0.00 B)\n"
      ]
     },
     "metadata": {},
     "output_type": "display_data"
    }
   ],
   "source": [
    "model_3 = build_model(char_vectorizer, char_embed, num_classes=5)\n",
    "model_3.summary()"
   ]
  },
  {
   "cell_type": "code",
   "execution_count": 79,
   "id": "2bc52411",
   "metadata": {},
   "outputs": [],
   "source": [
    "# Compile model\n",
    "model_3.compile(loss=\"categorical_crossentropy\",\n",
    "                optimizer=tf.keras.optimizers.Adam(),\n",
    "                metrics=[\"accuracy\"])"
   ]
  },
  {
   "cell_type": "code",
   "execution_count": 80,
   "id": "68639663",
   "metadata": {},
   "outputs": [
    {
     "data": {
      "text/plain": [
       "<_PrefetchDataset element_spec=(TensorSpec(shape=(None,), dtype=tf.string, name=None), TensorSpec(shape=(None, 5), dtype=tf.float64, name=None))>"
      ]
     },
     "execution_count": 80,
     "metadata": {},
     "output_type": "execute_result"
    }
   ],
   "source": [
    "# Create char datasets\n",
    "train_char_dataset = tf.data.Dataset.from_tensor_slices((train_chars, train_labels_one_hot)).batch(32).prefetch(tf.data.AUTOTUNE)\n",
    "val_char_dataset = tf.data.Dataset.from_tensor_slices((val_chars, val_labels_one_hot)).batch(32).prefetch(tf.data.AUTOTUNE)\n",
    "\n",
    "train_char_dataset"
   ]
  },
  {
   "cell_type": "code",
   "execution_count": 81,
   "id": "173ec2b0",
   "metadata": {},
   "outputs": [
    {
     "name": "stdout",
     "output_type": "stream",
     "text": [
      "Epoch 1/3\n",
      "\u001b[1m562/562\u001b[0m \u001b[32m━━━━━━━━━━━━━━━━━━━━\u001b[0m\u001b[37m\u001b[0m \u001b[1m8s\u001b[0m 13ms/step - accuracy: 0.4292 - loss: 1.3920 - val_accuracy: 0.5911 - val_loss: 1.0435\n",
      "Epoch 2/3\n",
      "\u001b[1m562/562\u001b[0m \u001b[32m━━━━━━━━━━━━━━━━━━━━\u001b[0m\u001b[37m\u001b[0m \u001b[1m7s\u001b[0m 13ms/step - accuracy: 0.5889 - loss: 1.0328 - val_accuracy: 0.6343 - val_loss: 0.9255\n",
      "Epoch 3/3\n",
      "\u001b[1m562/562\u001b[0m \u001b[32m━━━━━━━━━━━━━━━━━━━━\u001b[0m\u001b[37m\u001b[0m \u001b[1m7s\u001b[0m 13ms/step - accuracy: 0.6340 - loss: 0.9327 - val_accuracy: 0.6656 - val_loss: 0.8536\n"
     ]
    }
   ],
   "source": [
    "# Fit the model on chars only\n",
    "model_3_history = model_3.fit(train_char_dataset,\n",
    "                              steps_per_epoch=int(0.1 * len(train_char_dataset)),\n",
    "                              epochs=3,\n",
    "                              validation_data=val_char_dataset,\n",
    "                              validation_steps=int(0.1 * len(val_char_dataset)))"
   ]
  },
  {
   "cell_type": "markdown",
   "id": "a576dbc8",
   "metadata": {},
   "source": [
    "### Evaluate model 3"
   ]
  },
  {
   "cell_type": "code",
   "execution_count": 82,
   "id": "59855d71",
   "metadata": {},
   "outputs": [
    {
     "name": "stdout",
     "output_type": "stream",
     "text": [
      "\u001b[1m945/945\u001b[0m \u001b[32m━━━━━━━━━━━━━━━━━━━━\u001b[0m\u001b[37m\u001b[0m \u001b[1m6s\u001b[0m 6ms/step - accuracy: 0.6592 - loss: 0.8700\n"
     ]
    },
    {
     "data": {
      "text/plain": [
       "[0.8757185935974121, 0.6606646180152893]"
      ]
     },
     "execution_count": 82,
     "metadata": {},
     "output_type": "execute_result"
    }
   ],
   "source": [
    "# Evaluate model_3 on whole validation char dataset\n",
    "model_3.evaluate(val_char_dataset)"
   ]
  },
  {
   "cell_type": "code",
   "execution_count": 83,
   "id": "8cb36cf5",
   "metadata": {},
   "outputs": [
    {
     "name": "stdout",
     "output_type": "stream",
     "text": [
      "\u001b[1m945/945\u001b[0m \u001b[32m━━━━━━━━━━━━━━━━━━━━\u001b[0m\u001b[37m\u001b[0m \u001b[1m5s\u001b[0m 5ms/step\n"
     ]
    },
    {
     "data": {
      "text/plain": [
       "{'accuracy': 66.0664636568251,\n",
       " 'precision': 0.657733418587715,\n",
       " 'recall': 0.660664636568251,\n",
       " 'f1': 0.6493523060650531}"
      ]
     },
     "execution_count": 83,
     "metadata": {},
     "output_type": "execute_result"
    }
   ],
   "source": [
    "# Make predictions with character model only\n",
    "model_3_pred_probs = model_3.predict(val_char_dataset)\n",
    "model_3_pred_probs\n",
    "# Convert predictions to classes\n",
    "model_3_preds = tf.argmax(model_3_pred_probs, axis=1)\n",
    "model_3_preds\n",
    "# Calculate Conv1D char only model results\n",
    "model_3_results = calculate_results(y_true=val_labels_encoded,\n",
    "                                        y_pred=model_3_preds)\n",
    "model_3_results"
   ]
  },
  {
   "cell_type": "code",
   "execution_count": 84,
   "id": "a3e0b328",
   "metadata": {},
   "outputs": [
    {
     "name": "stdout",
     "output_type": "stream",
     "text": [
      "+-----------+----------+---------+----------+--------+\n",
      "|  Metric   | Baseline |   New   |   Diff   | Status |\n",
      "+-----------+----------+---------+----------+--------+\n",
      "| accuracy  | 78.3596  | 66.0665 | -12.2931 | Lower  |\n",
      "|  recall   |  0.7836  | 0.6607  | -0.1229  | Lower  |\n",
      "|    f1     |  0.7809  | 0.6494  | -0.1315  | Lower  |\n",
      "| precision |  0.7801  | 0.6577  | -0.1223  | Lower  |\n",
      "+-----------+----------+---------+----------+--------+\n"
     ]
    },
    {
     "data": {
      "text/plain": [
       "[['accuracy', 78.3596, 66.0665, -12.2931, 'Lower'],\n",
       " ['recall', 0.7836, 0.6607, -0.1229, 'Lower'],\n",
       " ['f1', 0.7809, 0.6494, -0.1315, 'Lower'],\n",
       " ['precision', 0.7801, 0.6577, -0.1223, 'Lower']]"
      ]
     },
     "execution_count": 84,
     "metadata": {},
     "output_type": "execute_result"
    }
   ],
   "source": [
    "compare_results(model_1_results, model_3_results)"
   ]
  },
  {
   "cell_type": "markdown",
   "id": "9912b086",
   "metadata": {},
   "source": [
    "## Model 4: Combining pretrained token embeddings + character embeddings (hybrid embedding layer)"
   ]
  },
  {
   "cell_type": "markdown",
   "id": "37f8b8d0",
   "metadata": {},
   "source": [
    "To start replicating (or getting close to replicating) the model in Figure 1, we're going to go through the following steps:\n",
    "\n",
    "* *1.* Create a token-level model (similar to model_1)\n",
    "* *2.* Create a character-level model (similar to model_3 with a slight modification to reflect the paper)\n",
    "* *3.* Combine (using layers.Concatenate) the outputs of 1 and 2\n",
    "* *4.* Build a series of output layers on top of 3 similar to Figure 1 and section 4.2 of Neural Networks for Joint Sentence Classification in Medical Paper Abstracts\n",
    "* *5.* Construct a model which takes token and character-level sequences as input and produces sequence label probabilities as output"
   ]
  },
  {
   "cell_type": "code",
   "execution_count": 101,
   "id": "d22c5372",
   "metadata": {},
   "outputs": [],
   "source": [
    "# 1. Setup token inputs/model\n",
    "import tf_keras as keras\n",
    "token_inputs = keras.layers.Input(shape=(), dtype=tf.string, name=\"token_input\")\n",
    "token_embeddings = tf_hub_embedding_layer(token_inputs)\n",
    "token_output = keras.layers.Dense(128, activation=\"relu\")(token_embeddings)\n",
    "token_model = keras.Model(inputs=token_inputs,\n",
    "                             outputs=token_output)\n",
    "\n",
    "# 2. Setup char inputs/model\n",
    "char_inputs = keras.layers.Input(shape=(1,), dtype=tf.string, name=\"char_input\")\n",
    "char_vectorizer = tf_keras.layers.TextVectorization(max_tokens=NUM_CHAR_TOKENS,\n",
    "                                    output_sequence_length=output_seq_char_len,\n",
    "                                    name=\"char_vectorizer\")\n",
    "char_vectorizer.adapt(train_chars)\n",
    "char_vectors = char_vectorizer(char_inputs)\n",
    "char_embed = keras.layers.Embedding(input_dim=NUM_CHAR_TOKENS, # number of different characters\n",
    "                              output_dim=25, # embedding dimension of each character (same as Figure 1 in https://arxiv.org/pdf/1612.05251.pdf)\n",
    "                              mask_zero=False, # don't use masks (this messes up model_5 if set to True)\n",
    "                              name=\"char_embed\")\n",
    "char_embeddings = char_embed(char_vectors)\n",
    "char_bi_lstm = keras.layers.Bidirectional(keras.layers.LSTM(25))(char_embeddings) # bi-LSTM shown in Figure 1 of https://arxiv.org/pdf/1612.05251.pdf\n",
    "char_model = keras.Model(inputs=char_inputs,\n",
    "                            outputs=char_bi_lstm)\n",
    "\n",
    "# 3. Concatenate token and char inputs (create hybrid token embedding)\n",
    "token_char_concat = keras.layers.Concatenate(name=\"token_char_hybrid\")([token_model.output, \n",
    "                                                                  char_model.output])\n",
    "\n",
    "# 4. Create output layers - addition of dropout discussed in 4.2 of https://arxiv.org/pdf/1612.05251.pdf\n",
    "combined_dropout = keras.layers.Dropout(0.5)(token_char_concat)\n",
    "combined_dense = keras.layers.Dense(200, activation=\"relu\")(combined_dropout) # slightly different to Figure 1 due to different shapes of token/char embedding layers\n",
    "final_dropout = keras.layers.Dropout(0.5)(combined_dense)\n",
    "output_layer = keras.layers.Dense(num_classes, activation=\"softmax\")(final_dropout)\n",
    "\n",
    "# 5. Construct model with char and token inputs\n",
    "model_4 = keras.Model(inputs=[token_model.input, char_model.input],\n",
    "                         outputs=output_layer,\n",
    "                         name=\"model_4_token_and_char_embeddings\")"
   ]
  },
  {
   "cell_type": "code",
   "execution_count": 102,
   "id": "88dfeb31",
   "metadata": {},
   "outputs": [
    {
     "name": "stdout",
     "output_type": "stream",
     "text": [
      "Model: \"model_4_token_and_char_embeddings\"\n",
      "__________________________________________________________________________________________________\n",
      " Layer (type)                Output Shape                 Param #   Connected to                  \n",
      "==================================================================================================\n",
      " char_input (InputLayer)     [(None, 1)]                  0         []                            \n",
      "                                                                                                  \n",
      " token_input (InputLayer)    [(None,)]                    0         []                            \n",
      "                                                                                                  \n",
      " char_vectorizer (TextVecto  (None, 290)                  0         ['char_input[0][0]']          \n",
      " rization)                                                                                        \n",
      "                                                                                                  \n",
      " universal_sentence_encoder  (None, 512)                  2567978   ['token_input[0][0]']         \n",
      "  (KerasLayer)                                            24                                      \n",
      "                                                                                                  \n",
      " char_embed (Embedding)      (None, 290, 25)              1750      ['char_vectorizer[0][0]']     \n",
      "                                                                                                  \n",
      " dense_7 (Dense)             (None, 128)                  65664     ['universal_sentence_encoder[5\n",
      "                                                                    ][0]']                        \n",
      "                                                                                                  \n",
      " bidirectional_1 (Bidirecti  (None, 50)                   10200     ['char_embed[0][0]']          \n",
      " onal)                                                                                            \n",
      "                                                                                                  \n",
      " token_char_hybrid (Concate  (None, 178)                  0         ['dense_7[0][0]',             \n",
      " nate)                                                               'bidirectional_1[0][0]']     \n",
      "                                                                                                  \n",
      " dropout_2 (Dropout)         (None, 178)                  0         ['token_char_hybrid[0][0]']   \n",
      "                                                                                                  \n",
      " dense_8 (Dense)             (None, 200)                  35800     ['dropout_2[0][0]']           \n",
      "                                                                                                  \n",
      " dropout_3 (Dropout)         (None, 200)                  0         ['dense_8[0][0]']             \n",
      "                                                                                                  \n",
      " dense_9 (Dense)             (None, 5)                    1005      ['dropout_3[0][0]']           \n",
      "                                                                                                  \n",
      "==================================================================================================\n",
      "Total params: 256912243 (980.04 MB)\n",
      "Trainable params: 114419 (446.95 KB)\n",
      "Non-trainable params: 256797824 (979.61 MB)\n",
      "__________________________________________________________________________________________________\n"
     ]
    }
   ],
   "source": [
    "model_4.summary()"
   ]
  },
  {
   "cell_type": "code",
   "execution_count": 106,
   "id": "90af805b",
   "metadata": {},
   "outputs": [],
   "source": [
    "#Compile model 4\n",
    "model_4.compile(loss=\"categorical_crossentropy\",\n",
    "                optimizer=keras.optimizers.Adam(), # section 4.2 of https://arxiv.org/pdf/1612.05251.pdf mentions using SGD but we'll stick with Adam\n",
    "                metrics=[\"accuracy\"])"
   ]
  },
  {
   "cell_type": "code",
   "execution_count": 103,
   "id": "5d50eb4f",
   "metadata": {},
   "outputs": [
    {
     "data": {
      "image/png": "[encoded data removed]",
      "text/plain": [
       "<IPython.core.display.Image object>"
      ]
     },
     "execution_count": 103,
     "metadata": {},
     "output_type": "execute_result"
    }
   ],
   "source": [
    "# Plot hybrid token and character model\n",
    "from tensorflow.keras.utils import plot_model\n",
    "plot_model(model_4, show_shapes=True)"
   ]
  },
  {
   "cell_type": "markdown",
   "id": "eac4bf59",
   "metadata": {},
   "source": [
    "### Combining token and character data into a tf.data dataset"
   ]
  },
  {
   "cell_type": "code",
   "execution_count": 104,
   "id": "266b45f4",
   "metadata": {},
   "outputs": [],
   "source": [
    "# Train data\n",
    "train_char_token_data = tf.data.Dataset.from_tensor_slices({\n",
    "    \"token_input\": train_sentences,\n",
    "    \"char_input\": train_chars\n",
    "})\n",
    "train_char_token_labels = tf.data.Dataset.from_tensor_slices(train_labels_one_hot)\n",
    "train_char_token_dataset = tf.data.Dataset.zip((train_char_token_data, train_char_token_labels))\n",
    "train_char_token_dataset = train_char_token_dataset.batch(32).prefetch(tf.data.AUTOTUNE)\n",
    "\n",
    "# Validation data\n",
    "val_char_token_data = tf.data.Dataset.from_tensor_slices({\n",
    "    \"token_input\": val_sentences,\n",
    "    \"char_input\": val_chars\n",
    "})\n",
    "val_char_token_labels = tf.data.Dataset.from_tensor_slices(val_labels_one_hot)\n",
    "val_char_token_dataset = tf.data.Dataset.zip((val_char_token_data, val_char_token_labels))\n",
    "val_char_token_dataset = val_char_token_dataset.batch(32).prefetch(tf.data.AUTOTUNE)\n"
   ]
  },
  {
   "cell_type": "code",
   "execution_count": 105,
   "id": "fcd82fb5",
   "metadata": {},
   "outputs": [
    {
     "data": {
      "text/plain": [
       "(<_PrefetchDataset element_spec=({'token_input': TensorSpec(shape=(None,), dtype=tf.string, name=None), 'char_input': TensorSpec(shape=(None,), dtype=tf.string, name=None)}, TensorSpec(shape=(None, 5), dtype=tf.float64, name=None))>,\n",
       " <_PrefetchDataset element_spec=({'token_input': TensorSpec(shape=(None,), dtype=tf.string, name=None), 'char_input': TensorSpec(shape=(None,), dtype=tf.string, name=None)}, TensorSpec(shape=(None, 5), dtype=tf.float64, name=None))>)"
      ]
     },
     "execution_count": 105,
     "metadata": {},
     "output_type": "execute_result"
    }
   ],
   "source": [
    "# Check out training char and token embedding dataset\n",
    "train_char_token_dataset, val_char_token_dataset"
   ]
  },
  {
   "cell_type": "code",
   "execution_count": 107,
   "id": "e83c6a76",
   "metadata": {},
   "outputs": [
    {
     "name": "stdout",
     "output_type": "stream",
     "text": [
      "Epoch 1/3\n"
     ]
    },
    {
     "name": "stdout",
     "output_type": "stream",
     "text": [
      "562/562 [==============================] - 45s 73ms/step - loss: 0.9765 - accuracy: 0.6090 - val_loss: 0.7908 - val_accuracy: 0.6935\n",
      "Epoch 2/3\n",
      "562/562 [==============================] - 49s 88ms/step - loss: 0.7925 - accuracy: 0.6937 - val_loss: 0.7198 - val_accuracy: 0.7314\n",
      "Epoch 3/3\n",
      "562/562 [==============================] - 55s 97ms/step - loss: 0.7718 - accuracy: 0.7050 - val_loss: 0.6991 - val_accuracy: 0.7350\n"
     ]
    }
   ],
   "source": [
    "# Fit the model on tokens and chars\n",
    "model_4_history = model_4.fit(train_char_token_dataset, # train on dataset of token and characters\n",
    "                              steps_per_epoch=int(0.1 * len(train_char_token_dataset)),\n",
    "                              epochs=3,\n",
    "                              validation_data=val_char_token_dataset,\n",
    "                              validation_steps=int(0.1 * len(val_char_token_dataset)))"
   ]
  },
  {
   "cell_type": "markdown",
   "id": "30347e35",
   "metadata": {},
   "source": [
    "### Evaluate model 4"
   ]
  },
  {
   "cell_type": "code",
   "execution_count": 110,
   "id": "9f733b8a",
   "metadata": {},
   "outputs": [
    {
     "name": "stdout",
     "output_type": "stream",
     "text": [
      "945/945 [==============================] - 22s 23ms/step - loss: 0.6987 - accuracy: 0.7334\n"
     ]
    },
    {
     "data": {
      "text/plain": [
       "[0.6986939311027527, 0.7334172129631042]"
      ]
     },
     "execution_count": 110,
     "metadata": {},
     "output_type": "execute_result"
    }
   ],
   "source": [
    "model_4.evaluate(val_char_token_dataset)"
   ]
  },
  {
   "cell_type": "code",
   "execution_count": 112,
   "id": "2c68239b",
   "metadata": {},
   "outputs": [
    {
     "name": "stdout",
     "output_type": "stream",
     "text": [
      "945/945 [==============================] - 27s 28ms/step\n"
     ]
    },
    {
     "data": {
      "text/plain": [
       "array([[4.4950816e-01, 3.3856714e-01, 3.3484027e-03, 2.0018478e-01,\n",
       "        8.3915563e-03],\n",
       "       [3.0374849e-01, 5.2490455e-01, 3.1931819e-03, 1.6643965e-01,\n",
       "        1.7141411e-03],\n",
       "       [2.9492792e-01, 1.2605436e-01, 3.0322067e-02, 5.2295691e-01,\n",
       "        2.5738752e-02],\n",
       "       ...,\n",
       "       [4.4561544e-04, 7.4272784e-03, 5.3528089e-02, 2.4634862e-04,\n",
       "        9.3835264e-01],\n",
       "       [6.3943635e-03, 5.9160110e-02, 2.7114609e-01, 2.8601971e-03,\n",
       "        6.6043931e-01],\n",
       "       [3.2716313e-01, 3.8568950e-01, 1.9549364e-01, 3.5467871e-02,\n",
       "        5.6185871e-02]], dtype=float32)"
      ]
     },
     "execution_count": 112,
     "metadata": {},
     "output_type": "execute_result"
    }
   ],
   "source": [
    "# Calculate pred_probs\n",
    "model_4_pred_probs = model_4.predict(val_char_token_dataset)\n",
    "model_4_pred_probs"
   ]
  },
  {
   "cell_type": "code",
   "execution_count": 114,
   "id": "6df44da5",
   "metadata": {},
   "outputs": [
    {
     "data": {
      "text/plain": [
       "<tf.Tensor: shape=(30212,), dtype=int64, numpy=array([0, 1, 3, ..., 4, 4, 1])>"
      ]
     },
     "execution_count": 114,
     "metadata": {},
     "output_type": "execute_result"
    }
   ],
   "source": [
    "# Convert to preds\n",
    "model_4_preds = tf.argmax(model_4_pred_probs, axis=1)\n",
    "model_4_preds"
   ]
  },
  {
   "cell_type": "code",
   "execution_count": 115,
   "id": "91652e22",
   "metadata": {},
   "outputs": [
    {
     "data": {
      "text/plain": [
       "{'accuracy': 73.34171852244141,\n",
       " 'precision': 0.7339220773474263,\n",
       " 'recall': 0.7334171852244141,\n",
       " 'f1': 0.7310994516192338}"
      ]
     },
     "execution_count": 115,
     "metadata": {},
     "output_type": "execute_result"
    }
   ],
   "source": [
    "# Print result finally\n",
    "model_4_results = calculate_results(val_labels_encoded, model_4_preds)\n",
    "model_4_results"
   ]
  },
  {
   "cell_type": "code",
   "execution_count": 116,
   "id": "ce9d9778",
   "metadata": {},
   "outputs": [
    {
     "name": "stdout",
     "output_type": "stream",
     "text": [
      "+-----------+----------+---------+--------+--------+\n",
      "|  Metric   | Baseline |   New   |  Diff  | Status |\n",
      "+-----------+----------+---------+--------+--------+\n",
      "| accuracy  | 66.0665  | 73.3417 | 7.2753 | Higher |\n",
      "|  recall   |  0.6607  | 0.7334  | 0.0728 | Higher |\n",
      "|    f1     |  0.6494  | 0.7311  | 0.0817 | Higher |\n",
      "| precision |  0.6577  | 0.7339  | 0.0762 | Higher |\n",
      "+-----------+----------+---------+--------+--------+\n"
     ]
    },
    {
     "data": {
      "text/plain": [
       "[['accuracy', 66.0665, 73.3417, 7.2753, 'Higher'],\n",
       " ['recall', 0.6607, 0.7334, 0.0728, 'Higher'],\n",
       " ['f1', 0.6494, 0.7311, 0.0817, 'Higher'],\n",
       " ['precision', 0.6577, 0.7339, 0.0762, 'Higher']]"
      ]
     },
     "execution_count": 116,
     "metadata": {},
     "output_type": "execute_result"
    }
   ],
   "source": [
    "compare_results(model_3_results, model_4_results)"
   ]
  }
 ],
 "metadata": {
  "kernelspec": {
   "display_name": "Python 3.10 (Intel TF)",
   "language": "python",
   "name": "python310-intel"
  },
  "language_info": {
   "codemirror_mode": {
    "name": "ipython",
    "version": 3
   },
   "file_extension": ".py",
   "mimetype": "text/x-python",
   "name": "python",
   "nbconvert_exporter": "python",
   "pygments_lexer": "ipython3",
   "version": "3.10.13"
  }
 },
 "nbformat": 4,
 "nbformat_minor": 5
}
